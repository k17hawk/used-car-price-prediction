{
 "cells": [
  {
   "cell_type": "code",
   "execution_count": 1,
   "metadata": {},
   "outputs": [
    {
     "name": "stdout",
     "output_type": "stream",
     "text": [
      "Data ingestion completed successfully: DataIngestionArtifact(download_dir='artifact/data_ingestion/2024-09-12:10:12:08/downloaded_files', feature_store_file_path='artifact/data_ingestion/feature_store/car_price_train')\n"
     ]
    }
   ],
   "source": [
    "from datetime import datetime\n",
    "from car_price.entity import DataIngestionConfig,DataIngestionArtifact\n",
    "from car_price.entity.config_entity import  TrainingPipelineConfig\n",
    "from car_price.exception import CarPriceException\n",
    "from car_price.components.data_ingestion import DataIngestion\n",
    "import os\n",
    "\n",
    "training_pipeline_config = TrainingPipelineConfig()\n",
    "\n",
    "data_ingestion_config = DataIngestionConfig(training_pipeline_config=training_pipeline_config)\n",
    "\n",
    "data_ingestion = DataIngestion(data_ingestion_config=data_ingestion_config, n_retry=5)\n",
    "\n",
    "try:\n",
    "    data_ingestion_artifact = data_ingestion.initiate_data_ingestion()\n",
    "    print(f\"Data ingestion completed successfully: {data_ingestion_artifact}\")\n",
    "except CarPriceException as e:\n",
    "    print(f\"Data ingestion failed: {e}\")\n"
   ]
  },
  {
   "cell_type": "code",
   "execution_count": null,
   "metadata": {},
   "outputs": [],
   "source": []
  }
 ],
 "metadata": {
  "kernelspec": {
   "display_name": "Python 3",
   "language": "python",
   "name": "python3"
  },
  "language_info": {
   "codemirror_mode": {
    "name": "ipython",
    "version": 3
   },
   "file_extension": ".py",
   "mimetype": "text/x-python",
   "name": "python",
   "nbconvert_exporter": "python",
   "pygments_lexer": "ipython3",
   "version": "3.10.0"
  }
 },
 "nbformat": 4,
 "nbformat_minor": 2
}
