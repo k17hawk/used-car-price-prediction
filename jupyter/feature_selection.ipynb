{
 "cells": [
  {
   "cell_type": "code",
   "execution_count": 1,
   "metadata": {},
   "outputs": [],
   "source": [
    "from pyspark.sql import SparkSession\n",
    "from pyspark.sql.functions import when, col, count"
   ]
  },
  {
   "cell_type": "code",
   "execution_count": 2,
   "metadata": {},
   "outputs": [
    {
     "name": "stderr",
     "output_type": "stream",
     "text": [
      "24/09/10 20:00:59 WARN Utils: Your hostname, langchain resolves to a loopback address: 127.0.1.1; using 192.168.0.103 instead (on interface wlp3s0)\n",
      "24/09/10 20:00:59 WARN Utils: Set SPARK_LOCAL_IP if you need to bind to another address\n",
      "Setting default log level to \"WARN\".\n",
      "To adjust logging level use sc.setLogLevel(newLevel). For SparkR, use setLogLevel(newLevel).\n",
      "24/09/10 20:01:00 WARN NativeCodeLoader: Unable to load native-hadoop library for your platform... using builtin-java classes where applicable\n",
      "24/09/10 20:01:00 WARN Utils: Service 'SparkUI' could not bind on port 4040. Attempting port 4041.\n",
      "24/09/10 20:01:00 WARN Utils: Service 'SparkUI' could not bind on port 4041. Attempting port 4042.\n",
      "24/09/10 20:01:01 WARN SparkSession: Using an existing Spark session; only runtime SQL configurations will take effect.\n"
     ]
    }
   ],
   "source": [
    "spark = SparkSession.builder.master('local[*]').appName('used-car-price').config('spark.executor.memory', '6g').getOrCreate()\n",
    "spark = SparkSession.builder.master('local[*]').appName('used-car-price')\\\n",
    ".config(\"spark.executor.instances\", \"1\")\\\n",
    ".config(\"spark.executor.memory\", \"6g\")\\\n",
    ".config(\"spark.driver.memory\", \"6g\")\\\n",
    ".config(\"spark.executor.memoryOverhead\", \"8g\")\\\n",
    ".getOrCreate()"
   ]
  },
  {
   "cell_type": "code",
   "execution_count": 3,
   "metadata": {},
   "outputs": [],
   "source": [
    "csv_file_path = '../data/cleaned_train.csv'\n",
    "df = spark.read.csv(csv_file_path, header=True, inferSchema=True)"
   ]
  },
  {
   "cell_type": "code",
   "execution_count": 4,
   "metadata": {},
   "outputs": [
    {
     "name": "stdout",
     "output_type": "stream",
     "text": [
      "+-----+-------------+--------------------+----------+------+-------------+--------------------+--------------------+--------------------+-------------+---------------+-----------+-----+\n",
      "|   id|        brand|               model|model_year|milage|    fuel_type|              engine|        transmission|             ext_col|      int_col|       accident|clean_title|price|\n",
      "+-----+-------------+--------------------+----------+------+-------------+--------------------+--------------------+--------------------+-------------+---------------+-----------+-----+\n",
      "|57122|      Porsche|             911 GT3|      2017| 72500|     Gasoline|5020HP 40L Flat 6...|      6-speed manual|              Silver|        Black|  None reported|        Yes|27500|\n",
      "|57123|         Jeep|Wrangler Unlimite...|      2022| 16184|     Gasoline|20L I4 16V GDI DO...|   8-speed automatic|                Gray|        Black|  None reported|       NULL|46599|\n",
      "|57125|      Porsche|         911 Carrera|      2005|106385|     Gasoline|3500HP 34L Flat 6...|      6-speed manual|               Black|        Black|  None reported|        Yes| 5000|\n",
      "|57126|       Nissan|             Juke SL|      2010|137483|     Gasoline|1880HP 16L 4 Cyli...|           automatic|                Gray|        Black|  None reported|        Yes| 9950|\n",
      "|57127|     Cadillac| Escalade ESV Luxury|      2017| 92800|     Gasoline|4200HP 62L 8 Cyli...|   6-speed automatic|                Gray|        Beige|damage reported|        Yes|22550|\n",
      "|57128|        Acura|       RL Technology|      2011|156193|     Gasoline|3000HP 37L V6 Cyl...|           automatic|              Silver|        Black|damage reported|        Yes|30000|\n",
      "|57129|      Hyundai|         Santa Fe SE|      2021| 22829|     Gasoline| 25L I4 16V PDI DOHC|   8-speed automatic|      Twilight Black|White / Brown|  None reported|       NULL|23599|\n",
      "|57130|         Ford|        F-150 Lariat|      2011|150000|     Gasoline|3650HP 35L V6 Cyl...|           automatic|               White|        Black|  None reported|        Yes|21750|\n",
      "|57131|          BMW|        750 i xDrive|      2019| 10500|     Gasoline|4450HP 44L 8 Cyli...|   8-speed automatic|               Black|        White|  None reported|        Yes|54000|\n",
      "|57132|         Ford|        Explorer XLT|      2021| 44000|     Gasoline|3000HP 23L 4 Cyli...|  10-speed automatic|               Black|        Black|damage reported|        Yes|49999|\n",
      "|57133|         Land|Rover Range Rover...|      2011| 89500|     Gasoline|3750HP 50L 8 Cyli...|   6-speed automatic|               Black|        Black|  None reported|        Yes|17390|\n",
      "|57134|        Lexus|RX 350 Crafted Li...|      2019| 53500|     Gasoline|2950HP 35L V6 Cyl...|transmission w/du...|               White|          Red|  None reported|        Yes|36500|\n",
      "|57135|      Porsche|      911 Carrera 4S|      2015| 72500|     Gasoline|3550HP 38L Flat 6...|   7-speed automatic|               Black|        Black|  None reported|        Yes|79999|\n",
      "|57136|      Porsche|      Panamera Turbo|      2015| 35700|     Gasoline|5200HP 48L 8 Cyli...|   7-speed automatic|                Gray|        Black|  None reported|        Yes|83000|\n",
      "|57137|Mercedes-Benz|     GLC 300 GLC 300|      2022| 14745|     Gasoline|      20 Liter Turbo|           automatic|            Obsidian|            –|  None reported|       NULL|39853|\n",
      "|57138|        Mazda|Mazda6 Carbon Edi...|      2021| 21444|     Gasoline|          25L I4 16V|   6-speed automatic|Polymetal Gray Me...|        Black|  None reported|        Yes|22389|\n",
      "|57139|         Ford|Utility Police In...|      2014|115359|E85 Flex Fuel|3000HP 37L V6 Cyl...|   6-speed automatic|               White|        Black|  None reported|        Yes|18750|\n",
      "|57140|         Audi|    S5 3.0T Prestige|      2014|119950|     Gasoline|3330HP 30L V6 Cyl...|      6-speed manual|               Black|        Black|  None reported|        Yes|18000|\n",
      "|57141|    Chevrolet|Corvette Stingray...|      2021| 22000|     Gasoline|4900HP 62L 8 Cyli...|transmission w/du...|                 Red|        Beige|  None reported|        Yes|74900|\n",
      "|57142|         Jeep|Wrangler Unlimite...|      2015| 49899|     Gasoline|2850HP 36L V6 Cyl...|           automatic|               Black|         Gray|damage reported|        Yes|24999|\n",
      "+-----+-------------+--------------------+----------+------+-------------+--------------------+--------------------+--------------------+-------------+---------------+-----------+-----+\n",
      "only showing top 20 rows\n",
      "\n"
     ]
    }
   ],
   "source": [
    "df.show()"
   ]
  },
  {
   "cell_type": "code",
   "execution_count": 5,
   "metadata": {},
   "outputs": [],
   "source": [
    "data = df.drop('id')"
   ]
  },
  {
   "cell_type": "code",
   "execution_count": 6,
   "metadata": {},
   "outputs": [
    {
     "name": "stdout",
     "output_type": "stream",
     "text": [
      "+-------------+--------------------+----------+------+-------------+--------------------+--------------------+--------------------+-------------+---------------+-----------+-----+\n",
      "|        brand|               model|model_year|milage|    fuel_type|              engine|        transmission|             ext_col|      int_col|       accident|clean_title|price|\n",
      "+-------------+--------------------+----------+------+-------------+--------------------+--------------------+--------------------+-------------+---------------+-----------+-----+\n",
      "|      Porsche|             911 GT3|      2017| 72500|     Gasoline|5020HP 40L Flat 6...|      6-speed manual|              Silver|        Black|  None reported|        Yes|27500|\n",
      "|         Jeep|Wrangler Unlimite...|      2022| 16184|     Gasoline|20L I4 16V GDI DO...|   8-speed automatic|                Gray|        Black|  None reported|       NULL|46599|\n",
      "|      Porsche|         911 Carrera|      2005|106385|     Gasoline|3500HP 34L Flat 6...|      6-speed manual|               Black|        Black|  None reported|        Yes| 5000|\n",
      "|       Nissan|             Juke SL|      2010|137483|     Gasoline|1880HP 16L 4 Cyli...|           automatic|                Gray|        Black|  None reported|        Yes| 9950|\n",
      "|     Cadillac| Escalade ESV Luxury|      2017| 92800|     Gasoline|4200HP 62L 8 Cyli...|   6-speed automatic|                Gray|        Beige|damage reported|        Yes|22550|\n",
      "|        Acura|       RL Technology|      2011|156193|     Gasoline|3000HP 37L V6 Cyl...|           automatic|              Silver|        Black|damage reported|        Yes|30000|\n",
      "|      Hyundai|         Santa Fe SE|      2021| 22829|     Gasoline| 25L I4 16V PDI DOHC|   8-speed automatic|      Twilight Black|White / Brown|  None reported|       NULL|23599|\n",
      "|         Ford|        F-150 Lariat|      2011|150000|     Gasoline|3650HP 35L V6 Cyl...|           automatic|               White|        Black|  None reported|        Yes|21750|\n",
      "|          BMW|        750 i xDrive|      2019| 10500|     Gasoline|4450HP 44L 8 Cyli...|   8-speed automatic|               Black|        White|  None reported|        Yes|54000|\n",
      "|         Ford|        Explorer XLT|      2021| 44000|     Gasoline|3000HP 23L 4 Cyli...|  10-speed automatic|               Black|        Black|damage reported|        Yes|49999|\n",
      "|         Land|Rover Range Rover...|      2011| 89500|     Gasoline|3750HP 50L 8 Cyli...|   6-speed automatic|               Black|        Black|  None reported|        Yes|17390|\n",
      "|        Lexus|RX 350 Crafted Li...|      2019| 53500|     Gasoline|2950HP 35L V6 Cyl...|transmission w/du...|               White|          Red|  None reported|        Yes|36500|\n",
      "|      Porsche|      911 Carrera 4S|      2015| 72500|     Gasoline|3550HP 38L Flat 6...|   7-speed automatic|               Black|        Black|  None reported|        Yes|79999|\n",
      "|      Porsche|      Panamera Turbo|      2015| 35700|     Gasoline|5200HP 48L 8 Cyli...|   7-speed automatic|                Gray|        Black|  None reported|        Yes|83000|\n",
      "|Mercedes-Benz|     GLC 300 GLC 300|      2022| 14745|     Gasoline|      20 Liter Turbo|           automatic|            Obsidian|            –|  None reported|       NULL|39853|\n",
      "|        Mazda|Mazda6 Carbon Edi...|      2021| 21444|     Gasoline|          25L I4 16V|   6-speed automatic|Polymetal Gray Me...|        Black|  None reported|        Yes|22389|\n",
      "|         Ford|Utility Police In...|      2014|115359|E85 Flex Fuel|3000HP 37L V6 Cyl...|   6-speed automatic|               White|        Black|  None reported|        Yes|18750|\n",
      "|         Audi|    S5 3.0T Prestige|      2014|119950|     Gasoline|3330HP 30L V6 Cyl...|      6-speed manual|               Black|        Black|  None reported|        Yes|18000|\n",
      "|    Chevrolet|Corvette Stingray...|      2021| 22000|     Gasoline|4900HP 62L 8 Cyli...|transmission w/du...|                 Red|        Beige|  None reported|        Yes|74900|\n",
      "|         Jeep|Wrangler Unlimite...|      2015| 49899|     Gasoline|2850HP 36L V6 Cyl...|           automatic|               Black|         Gray|damage reported|        Yes|24999|\n",
      "+-------------+--------------------+----------+------+-------------+--------------------+--------------------+--------------------+-------------+---------------+-----------+-----+\n",
      "only showing top 20 rows\n",
      "\n"
     ]
    }
   ],
   "source": [
    "data.show()"
   ]
  },
  {
   "cell_type": "code",
   "execution_count": 7,
   "metadata": {},
   "outputs": [],
   "source": [
    "from sklearn.impute import KNNImputer\n",
    "import pandas as pd\n",
    "def knn_impute(df, n_neighbors=5):   \n",
    "    df_encoded = df.copy()\n",
    "    for col in df_encoded.select_dtypes(include='object').columns:\n",
    "        df_encoded[col] = df_encoded[col].astype('category').cat.codes\n",
    "    knn_imputer = KNNImputer(n_neighbors=n_neighbors)\n",
    "    df_imputed = pd.DataFrame(knn_imputer.fit_transform(df_encoded), columns=df_encoded.columns)\n",
    "    for col in df.select_dtypes(include='object').columns:\n",
    "        df_imputed[col] = df_imputed[col].round().astype(int).map(\n",
    "            dict(enumerate(df[col].astype('category').cat.categories)))\n",
    "    return df_imputed"
   ]
  },
  {
   "cell_type": "code",
   "execution_count": 8,
   "metadata": {},
   "outputs": [],
   "source": [
    "df_train_imputed = knn_impute(data.toPandas(), n_neighbors=25)"
   ]
  },
  {
   "cell_type": "code",
   "execution_count": 9,
   "metadata": {},
   "outputs": [],
   "source": [
    "from sklearn.preprocessing import OrdinalEncoder\n",
    "cat_cols_train = df_train_imputed.select_dtypes(include=['object']).columns\n",
    "cat_cols_train = cat_cols_train[cat_cols_train != 'class']\n",
    "ordinal_encoder = OrdinalEncoder(handle_unknown='use_encoded_value', unknown_value=-1)\n",
    "\n",
    "df_train_imputed[cat_cols_train] = ordinal_encoder.fit_transform(df_train_imputed[cat_cols_train].astype(str))\n"
   ]
  },
  {
   "cell_type": "code",
   "execution_count": 15,
   "metadata": {},
   "outputs": [
    {
     "data": {
      "text/plain": [
       "brand           0\n",
       "model           0\n",
       "model_year      0\n",
       "milage          0\n",
       "fuel_type       0\n",
       "engine          0\n",
       "transmission    0\n",
       "ext_col         0\n",
       "int_col         0\n",
       "accident        0\n",
       "clean_title     0\n",
       "price           0\n",
       "dtype: int64"
      ]
     },
     "execution_count": 15,
     "metadata": {},
     "output_type": "execute_result"
    }
   ],
   "source": [
    "df_train_imputed.isnull().sum()"
   ]
  },
  {
   "cell_type": "code",
   "execution_count": 10,
   "metadata": {},
   "outputs": [],
   "source": [
    "Sp_data = spark.createDataFrame(df_train_imputed)"
   ]
  },
  {
   "cell_type": "code",
   "execution_count": 11,
   "metadata": {},
   "outputs": [
    {
     "name": "stderr",
     "output_type": "stream",
     "text": [
      "24/09/10 20:01:17 WARN TaskSetManager: Stage 5 contains a task of very large size (1119 KiB). The maximum recommended task size is 1000 KiB.\n",
      "                                                                                \r"
     ]
    },
    {
     "name": "stdout",
     "output_type": "stream",
     "text": [
      "+-----+------+----------+--------+---------+------+------------+-------+-------+--------+-----------+-------+\n",
      "|brand| model|model_year|  milage|fuel_type|engine|transmission|ext_col|int_col|accident|clean_title|  price|\n",
      "+-----+------+----------+--------+---------+------+------------+-------+-------+--------+-----------+-------+\n",
      "| 43.0| 157.0|    2017.0| 72500.0|      2.0| 952.0|        14.0|  262.0|   14.0|     0.0|        0.0|27500.0|\n",
      "| 22.0|1775.0|    2022.0| 16184.0|      2.0| 229.0|        19.0|  127.0|   14.0|     0.0|        1.0|46599.0|\n",
      "| 43.0| 143.0|    2005.0|106385.0|      2.0| 679.0|        14.0|   29.0|   14.0|     0.0|        0.0| 5000.0|\n",
      "| 39.0| 915.0|    2010.0|137483.0|      2.0| 163.0|        24.0|  127.0|   14.0|     0.0|        0.0| 9950.0|\n",
      "|  8.0| 603.0|    2017.0| 92800.0|      2.0| 855.0|        11.0|  127.0|   10.0|     1.0|        0.0|22550.0|\n",
      "|  0.0|1302.0|    2011.0|156193.0|      2.0| 523.0|        24.0|  262.0|   14.0|     1.0|        0.0|30000.0|\n",
      "| 19.0|1518.0|    2021.0| 22829.0|      2.0| 370.0|        19.0|  290.0|  153.0|     0.0|        1.0|23599.0|\n",
      "| 14.0| 660.0|    2011.0|150000.0|      2.0| 727.0|        24.0|  303.0|   14.0|     0.0|        0.0|21750.0|\n",
      "|  4.0| 133.0|    2019.0| 10500.0|      2.0| 893.0|        19.0|   29.0|  152.0|     0.0|        0.0|54000.0|\n",
      "| 14.0| 650.0|    2021.0| 44000.0|      2.0| 514.0|         1.0|   29.0|   14.0|     1.0|        0.0|49999.0|\n",
      "| 26.0|1426.0|    2011.0| 89500.0|      2.0| 744.0|        11.0|   29.0|   14.0|     0.0|        0.0|17390.0|\n",
      "| 27.0|1321.0|    2019.0| 53500.0|      2.0| 493.0|        30.0|  303.0|  118.0|     0.0|        0.0|36500.0|\n",
      "| 43.0| 147.0|    2015.0| 72500.0|      2.0| 691.0|        16.0|   29.0|   14.0|     0.0|        0.0|79999.0|\n",
      "| 43.0|1193.0|    2015.0| 35700.0|      2.0| 967.0|        16.0|  127.0|   14.0|     0.0|        0.0|83000.0|\n",
      "| 36.0| 769.0|    2022.0| 14745.0|      2.0| 194.0|        24.0|  199.0|  155.0|     0.0|        1.0|39853.0|\n",
      "| 34.0|1067.0|    2021.0| 21444.0|      2.0| 365.0|        11.0|  220.0|   14.0|     0.0|        0.0|22389.0|\n",
      "| 14.0|1743.0|    2014.0|115359.0|      1.0| 522.0|        11.0|  303.0|   14.0|     0.0|        0.0|18750.0|\n",
      "|  3.0|1471.0|    2014.0|119950.0|      2.0| 640.0|        14.0|   29.0|   14.0|     0.0|        0.0|18000.0|\n",
      "|  9.0| 510.0|    2021.0| 22000.0|      2.0| 939.0|        30.0|  233.0|   10.0|     0.0|        0.0|74900.0|\n",
      "| 22.0|1777.0|    2015.0| 49899.0|      2.0| 462.0|        24.0|   29.0|   71.0|     1.0|        0.0|24999.0|\n",
      "+-----+------+----------+--------+---------+------+------------+-------+-------+--------+-----------+-------+\n",
      "only showing top 20 rows\n",
      "\n"
     ]
    }
   ],
   "source": [
    "Sp_data.show()"
   ]
  },
  {
   "cell_type": "code",
   "execution_count": 12,
   "metadata": {},
   "outputs": [
    {
     "data": {
      "text/plain": [
       "['brand',\n",
       " 'model',\n",
       " 'model_year',\n",
       " 'milage',\n",
       " 'fuel_type',\n",
       " 'engine',\n",
       " 'transmission',\n",
       " 'ext_col',\n",
       " 'int_col',\n",
       " 'accident',\n",
       " 'clean_title',\n",
       " 'price']"
      ]
     },
     "execution_count": 12,
     "metadata": {},
     "output_type": "execute_result"
    }
   ],
   "source": [
    "Sp_data.columns"
   ]
  },
  {
   "cell_type": "code",
   "execution_count": 14,
   "metadata": {},
   "outputs": [
    {
     "name": "stderr",
     "output_type": "stream",
     "text": [
      "24/09/10 20:03:12 WARN TaskSetManager: Stage 9 contains a task of very large size (1119 KiB). The maximum recommended task size is 1000 KiB.\n",
      "24/09/10 20:03:14 WARN TaskSetManager: Stage 12 contains a task of very large size (1119 KiB). The maximum recommended task size is 1000 KiB.\n",
      "                                                                                \r"
     ]
    }
   ],
   "source": [
    "from pyspark.ml.feature import VectorAssembler, StandardScaler\n",
    "from pyspark.ml.functions import vector_to_array\n",
    "from pyspark.sql.functions import col\n",
    "\n",
    "# Define feature columns excluding the target column (price)\n",
    "feature_columns = [column for column in Sp_data.columns if column != \"price\"]\n",
    "\n",
    "# Assemble features into a single vector column\n",
    "assembler = VectorAssembler(inputCols=feature_columns, outputCol=\"features\")\n",
    "assembled_df = assembler.transform(Sp_data)\n",
    "\n",
    "# Standardize features\n",
    "scaler = StandardScaler(inputCol=\"features\", outputCol=\"scaled_features\", withStd=True, withMean=True)\n",
    "scaler_model = scaler.fit(assembled_df)\n",
    "scaled_df = scaler_model.transform(assembled_df)\n",
    "\n",
    "# Convert the 'scaled_features' vector to an array for easier handling\n",
    "scaled_df = scaled_df.withColumn(\"scaled_features_array\", vector_to_array(scaled_df[\"scaled_features\"]))\n",
    "\n",
    "# Get the number of features\n",
    "num_features = len(feature_columns)\n",
    "\n",
    "# Create individual columns for each feature in the array\n",
    "for i in range(num_features):\n",
    "    scaled_df = scaled_df.withColumn(f\"scaled_feature_{i+1}\", col(\"scaled_features_array\")[i])\n",
    "\n",
    "# Select the individual scaled features for saving\n",
    "scaled_df_to_save = scaled_df.select([f\"scaled_feature_{i+1}\" for i in range(num_features)])\n",
    "\n",
    "# Save the scaled data to CSV\n",
    "scaled_df_to_save.write.csv(\"../data/scaled_training_data.csv\", header=True)\n",
    "\n",
    "# Save the pre-fitted scaler model\n",
    "scaler_model.write().overwrite().save(\"scaler_model\")\n"
   ]
  },
  {
   "cell_type": "code",
   "execution_count": null,
   "metadata": {},
   "outputs": [],
   "source": []
  }
 ],
 "metadata": {
  "kernelspec": {
   "display_name": "Python 3",
   "language": "python",
   "name": "python3"
  },
  "language_info": {
   "codemirror_mode": {
    "name": "ipython",
    "version": 3
   },
   "file_extension": ".py",
   "mimetype": "text/x-python",
   "name": "python",
   "nbconvert_exporter": "python",
   "pygments_lexer": "ipython3",
   "version": "3.10.0"
  }
 },
 "nbformat": 4,
 "nbformat_minor": 2
}
