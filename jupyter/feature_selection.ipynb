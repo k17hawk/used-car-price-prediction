{
 "cells": [
  {
   "cell_type": "code",
   "execution_count": 1,
   "metadata": {},
   "outputs": [],
   "source": [
    "from pyspark.sql import SparkSession\n",
    "from pyspark.sql.functions import when, col, count"
   ]
  },
  {
   "cell_type": "code",
   "execution_count": 2,
   "metadata": {},
   "outputs": [
    {
     "name": "stderr",
     "output_type": "stream",
     "text": [
      "24/09/11 13:18:23 WARN Utils: Your hostname, langchain resolves to a loopback address: 127.0.1.1; using 192.168.0.103 instead (on interface wlp3s0)\n",
      "24/09/11 13:18:23 WARN Utils: Set SPARK_LOCAL_IP if you need to bind to another address\n",
      "Setting default log level to \"WARN\".\n",
      "To adjust logging level use sc.setLogLevel(newLevel). For SparkR, use setLogLevel(newLevel).\n",
      "24/09/11 13:18:24 WARN NativeCodeLoader: Unable to load native-hadoop library for your platform... using builtin-java classes where applicable\n",
      "24/09/11 13:18:25 WARN SparkSession: Using an existing Spark session; only runtime SQL configurations will take effect.\n"
     ]
    }
   ],
   "source": [
    "spark = SparkSession.builder.master('local[*]').appName('used-car-price').config('spark.executor.memory', '6g').getOrCreate()\n",
    "spark = SparkSession.builder.master('local[*]').appName('used-car-price')\\\n",
    ".config(\"spark.executor.instances\", \"1\")\\\n",
    ".config(\"spark.executor.memory\", \"6g\")\\\n",
    ".config(\"spark.driver.memory\", \"6g\")\\\n",
    ".config(\"spark.executor.memoryOverhead\", \"8g\")\\\n",
    ".getOrCreate()"
   ]
  },
  {
   "cell_type": "code",
   "execution_count": 3,
   "metadata": {},
   "outputs": [],
   "source": [
    "csv_file_path = '../data/cleaned_train'\n",
    "df = spark.read.csv(csv_file_path, header=True, inferSchema=True)"
   ]
  },
  {
   "cell_type": "code",
   "execution_count": 4,
   "metadata": {},
   "outputs": [
    {
     "name": "stdout",
     "output_type": "stream",
     "text": [
      "+--------------------+--------------------+-----+-------------+----------+------+-------------+--------------------+--------------------+----------+---------------+-----------+-----+\n",
      "|               model|              engine|   id|        brand|model_year|milage|    fuel_type|        transmission|             ext_col|   int_col|       accident|clean_title|price|\n",
      "+--------------------+--------------------+-----+-------------+----------+------+-------------+--------------------+--------------------+----------+---------------+-----------+-----+\n",
      "|   Malibu Limited LT|2520HP 36L V6 Cyl...|28616|    Chevrolet|      2006| 53000|     Gasoline|           automatic|              Silver|      Gray|  None reported|        Yes|15000|\n",
      "|S-Class S 580 4MATIC|      40 Liter Turbo|28617|Mercedes-Benz|      2022| 11238|       Hybrid|           automatic|Anthracite Blue M...|     Black|  None reported|       NULL|49998|\n",
      "|       1500 Big Horn|3950HP 57L 8 Cyli...|28618|          RAM|      2021| 11806|     Gasoline|   8-speed automatic|               White|     Beige|  None reported|        Yes|68000|\n",
      "|            F-TYPE R|5500HP 50L 8 Cyli...|28619|       Jaguar|      2018| 29000|     Gasoline|   8-speed automatic|                Gray|     Brown|  None reported|        Yes|62000|\n",
      "|     Mustang Premium|2100HP 40L V6 Cyl...|28622|         Ford|      2005|156350|     Gasoline|           automatic|               White|      Gray|  None reported|        Yes| 4400|\n",
      "|           F-150 XLT|27L V6 24V PDI DO...|28623|         Ford|      2021|  8332|     Gasoline|  10-speed automatic|                Gray|Black Onyx|  None reported|        Yes|31650|\n",
      "| Model Y Performance|4550HP Electric M...|28624|        Tesla|      2022|  1885|         NULL|           automatic|                 Red|     White|  None reported|        Yes|64250|\n",
      "|    Optima Hybrid EX|2060HP 24L 4 Cyli...|28625|          Kia|      2012|154000|       Hybrid|   6-speed automatic|               Black|     Black|damage reported|        Yes| 9500|\n",
      "|       Challenger GT|3050HP 36L V6 Cyl...|28626|        Dodge|      2016| 90000|     Gasoline|           automatic|               White|     Black|  None reported|        Yes|14195|\n",
      "|           F-250 XLT|3850HP 62L 8 Cyli...|28627|         Ford|      2016|105000|E85 Flex Fuel|   6-speed automatic|               White|      Gray|damage reported|        Yes|22000|\n",
      "|Rover Range Rover...|3950HP 30L Straig...|28628|         Land|      2021| 17000|     Gasoline|   8-speed automatic|               Black|     Black|  None reported|        Yes|69500|\n",
      "|             M4 Base|4250HP 30L Straig...|28630|          BMW|      2018| 19300|     Gasoline|transmission w/du...|               Black|     Beige|  None reported|        Yes|59800|\n",
      "|S4 3.0T Premium Plus|3330HP 30L V6 Cyl...|28631|         Audi|      2014|102370|     Gasoline|   7-speed automatic|               Black|     Black|  None reported|        Yes|21500|\n",
      "|        535 i xDrive|3000HP 30L Straig...|28632|          BMW|      2013| 89900|     Gasoline|   8-speed automatic|                Blue|     Beige|  None reported|        Yes|13500|\n",
      "|Genesis Coupe 3.8...|3060HP 38L V6 Cyl...|28634|      Hyundai|      2010| 55000|     Gasoline|      6-speed manual|               Black|     Black|damage reported|        Yes|10995|\n",
      "|     750 750i xDrive| 44 Liter Twin Turbo|28635|          BMW|      2018| 28744|     Gasoline|           automatic|                Blue|     Black|  None reported|       NULL|66998|\n",
      "|     GLC 300 GLC 300|      30 Liter Turbo|28638|Mercedes-Benz|      2019| 39102|     Gasoline|           automatic|Selenite Grey Met...|     Black|  None reported|       NULL|23598|\n",
      "|  Navigator Premiere|4500HP 35L V6 Cyl...|28639|      Lincoln|      2019| 28260|     Gasoline|  10-speed automatic|               Black|      Gray|  None reported|        Yes|55000|\n",
      "|Rover Range Rover...|5100HP 50L 8 Cyli...|28640|         Land|      2013| 66500|     Gasoline|transmission w/du...|               Black|     Black|  None reported|        Yes|25000|\n",
      "|      GX 460 Premium|3010HP 46L 8 Cyli...|28641|        Lexus|      2017|104000|     Gasoline|           automatic|                Gray|     Black|  None reported|        Yes|32850|\n",
      "+--------------------+--------------------+-----+-------------+----------+------+-------------+--------------------+--------------------+----------+---------------+-----------+-----+\n",
      "only showing top 20 rows\n",
      "\n"
     ]
    }
   ],
   "source": [
    "df.show()"
   ]
  },
  {
   "cell_type": "code",
   "execution_count": 5,
   "metadata": {},
   "outputs": [],
   "source": [
    "data = df.drop('id')"
   ]
  },
  {
   "cell_type": "code",
   "execution_count": 6,
   "metadata": {},
   "outputs": [
    {
     "name": "stdout",
     "output_type": "stream",
     "text": [
      "+--------------------+--------------------+-------------+----------+------+-------------+--------------------+--------------------+----------+---------------+-----------+-----+\n",
      "|               model|              engine|        brand|model_year|milage|    fuel_type|        transmission|             ext_col|   int_col|       accident|clean_title|price|\n",
      "+--------------------+--------------------+-------------+----------+------+-------------+--------------------+--------------------+----------+---------------+-----------+-----+\n",
      "|   Malibu Limited LT|2520HP 36L V6 Cyl...|    Chevrolet|      2006| 53000|     Gasoline|           automatic|              Silver|      Gray|  None reported|        Yes|15000|\n",
      "|S-Class S 580 4MATIC|      40 Liter Turbo|Mercedes-Benz|      2022| 11238|       Hybrid|           automatic|Anthracite Blue M...|     Black|  None reported|       NULL|49998|\n",
      "|       1500 Big Horn|3950HP 57L 8 Cyli...|          RAM|      2021| 11806|     Gasoline|   8-speed automatic|               White|     Beige|  None reported|        Yes|68000|\n",
      "|            F-TYPE R|5500HP 50L 8 Cyli...|       Jaguar|      2018| 29000|     Gasoline|   8-speed automatic|                Gray|     Brown|  None reported|        Yes|62000|\n",
      "|     Mustang Premium|2100HP 40L V6 Cyl...|         Ford|      2005|156350|     Gasoline|           automatic|               White|      Gray|  None reported|        Yes| 4400|\n",
      "|           F-150 XLT|27L V6 24V PDI DO...|         Ford|      2021|  8332|     Gasoline|  10-speed automatic|                Gray|Black Onyx|  None reported|        Yes|31650|\n",
      "| Model Y Performance|4550HP Electric M...|        Tesla|      2022|  1885|         NULL|           automatic|                 Red|     White|  None reported|        Yes|64250|\n",
      "|    Optima Hybrid EX|2060HP 24L 4 Cyli...|          Kia|      2012|154000|       Hybrid|   6-speed automatic|               Black|     Black|damage reported|        Yes| 9500|\n",
      "|       Challenger GT|3050HP 36L V6 Cyl...|        Dodge|      2016| 90000|     Gasoline|           automatic|               White|     Black|  None reported|        Yes|14195|\n",
      "|           F-250 XLT|3850HP 62L 8 Cyli...|         Ford|      2016|105000|E85 Flex Fuel|   6-speed automatic|               White|      Gray|damage reported|        Yes|22000|\n",
      "|Rover Range Rover...|3950HP 30L Straig...|         Land|      2021| 17000|     Gasoline|   8-speed automatic|               Black|     Black|  None reported|        Yes|69500|\n",
      "|             M4 Base|4250HP 30L Straig...|          BMW|      2018| 19300|     Gasoline|transmission w/du...|               Black|     Beige|  None reported|        Yes|59800|\n",
      "|S4 3.0T Premium Plus|3330HP 30L V6 Cyl...|         Audi|      2014|102370|     Gasoline|   7-speed automatic|               Black|     Black|  None reported|        Yes|21500|\n",
      "|        535 i xDrive|3000HP 30L Straig...|          BMW|      2013| 89900|     Gasoline|   8-speed automatic|                Blue|     Beige|  None reported|        Yes|13500|\n",
      "|Genesis Coupe 3.8...|3060HP 38L V6 Cyl...|      Hyundai|      2010| 55000|     Gasoline|      6-speed manual|               Black|     Black|damage reported|        Yes|10995|\n",
      "|     750 750i xDrive| 44 Liter Twin Turbo|          BMW|      2018| 28744|     Gasoline|           automatic|                Blue|     Black|  None reported|       NULL|66998|\n",
      "|     GLC 300 GLC 300|      30 Liter Turbo|Mercedes-Benz|      2019| 39102|     Gasoline|           automatic|Selenite Grey Met...|     Black|  None reported|       NULL|23598|\n",
      "|  Navigator Premiere|4500HP 35L V6 Cyl...|      Lincoln|      2019| 28260|     Gasoline|  10-speed automatic|               Black|      Gray|  None reported|        Yes|55000|\n",
      "|Rover Range Rover...|5100HP 50L 8 Cyli...|         Land|      2013| 66500|     Gasoline|transmission w/du...|               Black|     Black|  None reported|        Yes|25000|\n",
      "|      GX 460 Premium|3010HP 46L 8 Cyli...|        Lexus|      2017|104000|     Gasoline|           automatic|                Gray|     Black|  None reported|        Yes|32850|\n",
      "+--------------------+--------------------+-------------+----------+------+-------------+--------------------+--------------------+----------+---------------+-----------+-----+\n",
      "only showing top 20 rows\n",
      "\n"
     ]
    }
   ],
   "source": [
    "data.show()"
   ]
  },
  {
   "cell_type": "code",
   "execution_count": 7,
   "metadata": {},
   "outputs": [],
   "source": [
    "from sklearn.impute import KNNImputer\n",
    "import pandas as pd\n",
    "def knn_impute(df, n_neighbors=5):   \n",
    "    df_encoded = df.copy()\n",
    "    for col in df_encoded.select_dtypes(include='object').columns:\n",
    "        df_encoded[col] = df_encoded[col].astype('category').cat.codes\n",
    "    knn_imputer = KNNImputer(n_neighbors=n_neighbors)\n",
    "    df_imputed = pd.DataFrame(knn_imputer.fit_transform(df_encoded), columns=df_encoded.columns)\n",
    "    for col in df.select_dtypes(include='object').columns:\n",
    "        df_imputed[col] = df_imputed[col].round().astype(int).map(\n",
    "            dict(enumerate(df[col].astype('category').cat.categories)))\n",
    "    return df_imputed"
   ]
  },
  {
   "cell_type": "code",
   "execution_count": 8,
   "metadata": {},
   "outputs": [],
   "source": [
    "df_train_imputed = knn_impute(data.toPandas(), n_neighbors=25)"
   ]
  },
  {
   "cell_type": "code",
   "execution_count": 9,
   "metadata": {},
   "outputs": [],
   "source": [
    "from sklearn.preprocessing import OrdinalEncoder\n",
    "cat_cols_train = df_train_imputed.select_dtypes(include=['object']).columns\n",
    "cat_cols_train = cat_cols_train[cat_cols_train != 'class']\n",
    "ordinal_encoder = OrdinalEncoder(handle_unknown='use_encoded_value', unknown_value=-1)\n",
    "\n",
    "df_train_imputed[cat_cols_train] = ordinal_encoder.fit_transform(df_train_imputed[cat_cols_train].astype(str))\n"
   ]
  },
  {
   "cell_type": "code",
   "execution_count": 10,
   "metadata": {},
   "outputs": [
    {
     "data": {
      "text/plain": [
       "model           0\n",
       "engine          0\n",
       "brand           0\n",
       "model_year      0\n",
       "milage          0\n",
       "fuel_type       0\n",
       "transmission    0\n",
       "ext_col         0\n",
       "int_col         0\n",
       "accident        0\n",
       "clean_title     0\n",
       "price           0\n",
       "dtype: int64"
      ]
     },
     "execution_count": 10,
     "metadata": {},
     "output_type": "execute_result"
    }
   ],
   "source": [
    "df_train_imputed.isnull().sum()"
   ]
  },
  {
   "cell_type": "code",
   "execution_count": 11,
   "metadata": {},
   "outputs": [],
   "source": [
    "Sp_data = spark.createDataFrame(df_train_imputed)"
   ]
  },
  {
   "cell_type": "code",
   "execution_count": 12,
   "metadata": {},
   "outputs": [
    {
     "name": "stdout",
     "output_type": "stream",
     "text": [
      "+------+------+-----+----------+--------+---------+------------+-------+-------+--------+-----------+-------+\n",
      "| model|engine|brand|model_year|  milage|fuel_type|transmission|ext_col|int_col|accident|clean_title|  price|\n",
      "+------+------+-----+----------+--------+---------+------------+-------+-------+--------+-----------+-------+\n",
      "|1020.0| 332.0|  9.0|    2006.0| 53000.0|      2.0|        23.0|  262.0|   71.0|     0.0|        0.0|15000.0|\n",
      "|1433.0| 768.0| 36.0|    2022.0| 11238.0|      3.0|        23.0|    6.0|   14.0|     0.0|        1.0|49998.0|\n",
      "|   4.0| 761.0| 44.0|    2021.0| 11806.0|      2.0|        18.0|  303.0|   10.0|     0.0|        0.0|68000.0|\n",
      "| 687.0| 966.0| 21.0|    2018.0| 29000.0|      2.0|        18.0|  127.0|   31.0|     0.0|        0.0|62000.0|\n",
      "|1107.0| 231.0| 14.0|    2005.0|156350.0|      2.0|        23.0|  303.0|   71.0|     0.0|        0.0| 4400.0|\n",
      "| 659.0| 428.0| 14.0|    2021.0|  8332.0|      2.0|         1.0|  127.0|   21.0|     0.0|        0.0|31650.0|\n",
      "|1089.0| 881.0| 52.0|    2022.0|  1885.0|      5.0|        23.0|  233.0|  152.0|     0.0|        0.0|64250.0|\n",
      "|1139.0| 207.0| 24.0|    2012.0|154000.0|      3.0|        10.0|   29.0|   14.0|     1.0|        0.0| 9500.0|\n",
      "| 431.0| 529.0| 11.0|    2016.0| 90000.0|      2.0|        23.0|  303.0|   14.0|     0.0|        0.0|14195.0|\n",
      "| 670.0| 740.0| 14.0|    2016.0|105000.0|      1.0|        10.0|  303.0|   71.0|     1.0|        0.0|22000.0|\n",
      "|1405.0| 759.0| 26.0|    2021.0| 17000.0|      2.0|        18.0|   29.0|   14.0|     0.0|        0.0|69500.0|\n",
      "| 959.0| 831.0|  4.0|    2018.0| 19300.0|      2.0|        29.0|   29.0|   10.0|     0.0|        0.0|59800.0|\n",
      "|1443.0| 615.0|  3.0|    2014.0|102370.0|      2.0|        15.0|   29.0|   14.0|     0.0|        0.0|21500.0|\n",
      "| 100.0| 498.0|  4.0|    2013.0| 89900.0|      2.0|        18.0|   38.0|   10.0|     0.0|        0.0|13500.0|\n",
      "| 796.0| 539.0| 19.0|    2010.0| 55000.0|      2.0|        13.0|   29.0|   14.0|     1.0|        0.0|10995.0|\n",
      "| 125.0| 852.0|  4.0|    2018.0| 28744.0|      2.0|        23.0|   38.0|   14.0|     0.0|        1.0|66998.0|\n",
      "| 756.0| 492.0| 36.0|    2019.0| 39102.0|      2.0|        23.0|  255.0|   14.0|     0.0|        1.0|23598.0|\n",
      "|1127.0| 870.0| 28.0|    2019.0| 28260.0|      2.0|         1.0|   29.0|   71.0|     0.0|        0.0|55000.0|\n",
      "|1412.0| 932.0| 26.0|    2013.0| 66500.0|      2.0|        29.0|   29.0|   14.0|     0.0|        0.0|25000.0|\n",
      "| 781.0| 515.0| 27.0|    2017.0|104000.0|      2.0|        23.0|  127.0|   14.0|     0.0|        0.0|32850.0|\n",
      "+------+------+-----+----------+--------+---------+------------+-------+-------+--------+-----------+-------+\n",
      "only showing top 20 rows\n",
      "\n"
     ]
    },
    {
     "name": "stderr",
     "output_type": "stream",
     "text": [
      "                                                                                \r"
     ]
    }
   ],
   "source": [
    "Sp_data.show()"
   ]
  },
  {
   "cell_type": "code",
   "execution_count": 13,
   "metadata": {},
   "outputs": [
    {
     "data": {
      "text/plain": [
       "['model',\n",
       " 'engine',\n",
       " 'brand',\n",
       " 'model_year',\n",
       " 'milage',\n",
       " 'fuel_type',\n",
       " 'transmission',\n",
       " 'ext_col',\n",
       " 'int_col',\n",
       " 'accident',\n",
       " 'clean_title',\n",
       " 'price']"
      ]
     },
     "execution_count": 13,
     "metadata": {},
     "output_type": "execute_result"
    }
   ],
   "source": [
    "Sp_data.columns"
   ]
  },
  {
   "cell_type": "code",
   "execution_count": 14,
   "metadata": {},
   "outputs": [
    {
     "name": "stderr",
     "output_type": "stream",
     "text": [
      "24/09/11 13:18:40 WARN TaskSetManager: Stage 6 contains a task of very large size (1008 KiB). The maximum recommended task size is 1000 KiB.\n",
      "24/09/11 13:18:41 WARN TaskSetManager: Stage 9 contains a task of very large size (1008 KiB). The maximum recommended task size is 1000 KiB.\n",
      "                                                                                \r"
     ]
    }
   ],
   "source": [
    "from pyspark.ml.feature import VectorAssembler, StandardScaler\n",
    "from pyspark.ml.functions import vector_to_array\n",
    "from pyspark.sql.functions import col\n",
    "\n",
    "feature_columns = [column for column in Sp_data.columns if column != \"price\"]\n",
    "assembler = VectorAssembler(inputCols=feature_columns, outputCol=\"features\")\n",
    "assembled_df = assembler.transform(Sp_data)\n",
    "scaler = StandardScaler(inputCol=\"features\", outputCol=\"scaled_features\", withStd=True, withMean=True)\n",
    "scaler_model = scaler.fit(assembled_df)\n",
    "scaled_df = scaler_model.transform(assembled_df)\n",
    "scaled_df = scaled_df.withColumn(\"scaled_features_array\", vector_to_array(scaled_df[\"scaled_features\"]))\n",
    "num_features = len(feature_columns)\n",
    "for i in range(num_features):\n",
    "    scaled_df = scaled_df.withColumn(f\"scaled_feature_{i+1}\", col(\"scaled_features_array\")[i])\n",
    "\n",
    "scaled_df_to_save = scaled_df.select([f\"scaled_feature_{i+1}\" for i in range(num_features)] + [\"price\"])\n",
    "scaled_df_to_save.write.csv(\"../data/scaled_training_data\", header=True)\n",
    "scaler_model.write().overwrite().save(\"scaler_model\")\n"
   ]
  },
  {
   "cell_type": "code",
   "execution_count": 15,
   "metadata": {},
   "outputs": [
    {
     "name": "stderr",
     "output_type": "stream",
     "text": [
      "24/09/11 13:18:44 WARN TaskSetManager: Stage 14 contains a task of very large size (1008 KiB). The maximum recommended task size is 1000 KiB.\n"
     ]
    },
    {
     "data": {
      "text/html": [
       "<div>\n",
       "<style scoped>\n",
       "    .dataframe tbody tr th:only-of-type {\n",
       "        vertical-align: middle;\n",
       "    }\n",
       "\n",
       "    .dataframe tbody tr th {\n",
       "        vertical-align: top;\n",
       "    }\n",
       "\n",
       "    .dataframe thead th {\n",
       "        text-align: right;\n",
       "    }\n",
       "</style>\n",
       "<table border=\"1\" class=\"dataframe\">\n",
       "  <thead>\n",
       "    <tr style=\"text-align: right;\">\n",
       "      <th></th>\n",
       "      <th>scaled_feature_1</th>\n",
       "      <th>scaled_feature_2</th>\n",
       "      <th>scaled_feature_3</th>\n",
       "      <th>scaled_feature_4</th>\n",
       "      <th>scaled_feature_5</th>\n",
       "      <th>scaled_feature_6</th>\n",
       "      <th>scaled_feature_7</th>\n",
       "      <th>scaled_feature_8</th>\n",
       "      <th>scaled_feature_9</th>\n",
       "      <th>scaled_feature_10</th>\n",
       "      <th>scaled_feature_11</th>\n",
       "      <th>price</th>\n",
       "    </tr>\n",
       "  </thead>\n",
       "  <tbody>\n",
       "    <tr>\n",
       "      <th>0</th>\n",
       "      <td>0.313392</td>\n",
       "      <td>-0.914874</td>\n",
       "      <td>-0.885279</td>\n",
       "      <td>-1.732270</td>\n",
       "      <td>-0.296328</td>\n",
       "      <td>-0.100413</td>\n",
       "      <td>0.678382</td>\n",
       "      <td>0.918100</td>\n",
       "      <td>0.917805</td>\n",
       "      <td>-0.548562</td>\n",
       "      <td>-0.347229</td>\n",
       "      <td>15000.0</td>\n",
       "    </tr>\n",
       "    <tr>\n",
       "      <th>1</th>\n",
       "      <td>1.116338</td>\n",
       "      <td>0.698395</td>\n",
       "      <td>0.819098</td>\n",
       "      <td>1.131814</td>\n",
       "      <td>-1.194192</td>\n",
       "      <td>1.314961</td>\n",
       "      <td>0.678382</td>\n",
       "      <td>-1.319286</td>\n",
       "      <td>-0.522527</td>\n",
       "      <td>-0.548562</td>\n",
       "      <td>2.879920</td>\n",
       "      <td>49998.0</td>\n",
       "    </tr>\n",
       "    <tr>\n",
       "      <th>2</th>\n",
       "      <td>-1.661895</td>\n",
       "      <td>0.672494</td>\n",
       "      <td>1.324098</td>\n",
       "      <td>0.952808</td>\n",
       "      <td>-1.181981</td>\n",
       "      <td>-0.100413</td>\n",
       "      <td>0.035275</td>\n",
       "      <td>1.276431</td>\n",
       "      <td>-0.623603</td>\n",
       "      <td>-0.548562</td>\n",
       "      <td>-0.347229</td>\n",
       "      <td>68000.0</td>\n",
       "    </tr>\n",
       "    <tr>\n",
       "      <th>3</th>\n",
       "      <td>-0.334020</td>\n",
       "      <td>1.431027</td>\n",
       "      <td>-0.127778</td>\n",
       "      <td>0.415793</td>\n",
       "      <td>-0.812317</td>\n",
       "      <td>-0.100413</td>\n",
       "      <td>0.035275</td>\n",
       "      <td>-0.261772</td>\n",
       "      <td>-0.092954</td>\n",
       "      <td>-0.548562</td>\n",
       "      <td>-0.347229</td>\n",
       "      <td>62000.0</td>\n",
       "    </tr>\n",
       "    <tr>\n",
       "      <th>4</th>\n",
       "      <td>0.482535</td>\n",
       "      <td>-1.288590</td>\n",
       "      <td>-0.569653</td>\n",
       "      <td>-1.911275</td>\n",
       "      <td>1.925651</td>\n",
       "      <td>-0.100413</td>\n",
       "      <td>0.678382</td>\n",
       "      <td>1.276431</td>\n",
       "      <td>0.917805</td>\n",
       "      <td>-0.548562</td>\n",
       "      <td>-0.347229</td>\n",
       "      <td>4400.0</td>\n",
       "    </tr>\n",
       "  </tbody>\n",
       "</table>\n",
       "</div>"
      ],
      "text/plain": [
       "   scaled_feature_1  scaled_feature_2  scaled_feature_3  scaled_feature_4  \\\n",
       "0          0.313392         -0.914874         -0.885279         -1.732270   \n",
       "1          1.116338          0.698395          0.819098          1.131814   \n",
       "2         -1.661895          0.672494          1.324098          0.952808   \n",
       "3         -0.334020          1.431027         -0.127778          0.415793   \n",
       "4          0.482535         -1.288590         -0.569653         -1.911275   \n",
       "\n",
       "   scaled_feature_5  scaled_feature_6  scaled_feature_7  scaled_feature_8  \\\n",
       "0         -0.296328         -0.100413          0.678382          0.918100   \n",
       "1         -1.194192          1.314961          0.678382         -1.319286   \n",
       "2         -1.181981         -0.100413          0.035275          1.276431   \n",
       "3         -0.812317         -0.100413          0.035275         -0.261772   \n",
       "4          1.925651         -0.100413          0.678382          1.276431   \n",
       "\n",
       "   scaled_feature_9  scaled_feature_10  scaled_feature_11    price  \n",
       "0          0.917805          -0.548562          -0.347229  15000.0  \n",
       "1         -0.522527          -0.548562           2.879920  49998.0  \n",
       "2         -0.623603          -0.548562          -0.347229  68000.0  \n",
       "3         -0.092954          -0.548562          -0.347229  62000.0  \n",
       "4          0.917805          -0.548562          -0.347229   4400.0  "
      ]
     },
     "execution_count": 15,
     "metadata": {},
     "output_type": "execute_result"
    }
   ],
   "source": [
    "scaled_training_data_pandas = scaled_df_to_save.toPandas()\n",
    "scaled_training_data_pandas.head()"
   ]
  },
  {
   "cell_type": "code",
   "execution_count": null,
   "metadata": {},
   "outputs": [],
   "source": []
  }
 ],
 "metadata": {
  "kernelspec": {
   "display_name": "Python 3",
   "language": "python",
   "name": "python3"
  },
  "language_info": {
   "codemirror_mode": {
    "name": "ipython",
    "version": 3
   },
   "file_extension": ".py",
   "mimetype": "text/x-python",
   "name": "python",
   "nbconvert_exporter": "python",
   "pygments_lexer": "ipython3",
   "version": "3.10.0"
  }
 },
 "nbformat": 4,
 "nbformat_minor": 2
}
