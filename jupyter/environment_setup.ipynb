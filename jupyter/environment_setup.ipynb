{
 "cells": [
  {
   "cell_type": "code",
   "execution_count": 2,
   "metadata": {},
   "outputs": [],
   "source": [
    "import azure.core\n",
    "from azureml.core import Workspace,Environment,Experiment,ScriptRunConfig\n",
    "from azureml.core.compute import AmlCompute, ComputeTarget\n",
    "from azureml.core.compute_target import ComputeTargetException"
   ]
  },
  {
   "cell_type": "code",
   "execution_count": 10,
   "metadata": {},
   "outputs": [],
   "source": [
    "resource_name = \"Demo_RS\"\n",
    "workspace_name = \"Demo_WS\"\n",
    "subscriptionID = \"3f7d862e-9586-4b36-9857-a872bf0573c1\"\n",
    "aml_compute_target = \"first-compute\" \n",
    "experiment_name = \"demo_experiment\""
   ]
  },
  {
   "cell_type": "code",
   "execution_count": 8,
   "metadata": {},
   "outputs": [
    {
     "name": "stdout",
     "output_type": "stream",
     "text": [
      "workspace is created\n"
     ]
    }
   ],
   "source": [
    "#create workspace\n",
    "\n",
    "try:\n",
    "    ws = Workspace.from_config()\n",
    "    print(\"workspace is created\")\n",
    "except:\n",
    "    ws = Workspace.create(workspace_name,\n",
    "                          resource_group=resource_name,\n",
    "                          create_resource_group=True,\n",
    "                          subscription_id=subscriptionID,\n",
    "                          location='East US')\n",
    "    ws.write_config('.azureml')\n"
   ]
  },
  {
   "cell_type": "code",
   "execution_count": 6,
   "metadata": {},
   "outputs": [
    {
     "data": {
      "text/plain": [
       "Workspace.create(name='Demo_WS', subscription_id='3f7d862e-9586-4b36-9857-a872bf0573c1', resource_group='Demo_RS')"
      ]
     },
     "execution_count": 6,
     "metadata": {},
     "output_type": "execute_result"
    }
   ],
   "source": [
    "Workspace.from_config()"
   ]
  },
  {
   "cell_type": "code",
   "execution_count": 11,
   "metadata": {},
   "outputs": [
    {
     "name": "stdout",
     "output_type": "stream",
     "text": [
      "creating new compute target: first-compute\n",
      "InProgress.\n",
      "SucceededProvisioning operation finished, operation \"Succeeded\"\n",
      "Succeeded.....................\n",
      "AmlCompute wait for completion finished\n",
      "\n",
      "Minimum number of nodes requested have been provisioned\n",
      "Azure machine learning compute attached now\n"
     ]
    }
   ],
   "source": [
    "#create compute target\n",
    "try:\n",
    "    aml_compute = AmlCompute(ws,aml_compute_target)\n",
    "    print(\"This compute target exist.\")\n",
    "except ComputeTargetException:\n",
    "    print(\"creating new compute target:\",aml_compute_target)\n",
    "\n",
    "    provisioning_config = AmlCompute.provisioning_configuration(vm_size=\"STANDARD_D2_V2\",\n",
    "                                                                min_nodes=1,\n",
    "                                                                max_nodes=4,\n",
    "                                                                idle_seconds_before_scaledown=3000)\n",
    "    aml_compute = ComputeTarget.create(ws,aml_compute_target,provisioning_config)\n",
    "    aml_compute.wait_for_completion(show_output = True,min_node_count = None,timeout_in_minutes = 2)\n",
    "print(\"Azure machine learning compute attached now\")\n",
    "    "
   ]
  },
  {
   "cell_type": "code",
   "execution_count": 16,
   "metadata": {},
   "outputs": [],
   "source": [
    "#create experiement\n",
    "exp = Experiment(ws,\"demo_experiment\")\n"
   ]
  },
  {
   "cell_type": "code",
   "execution_count": 23,
   "metadata": {},
   "outputs": [
    {
     "name": "stdout",
     "output_type": "stream",
     "text": [
      "Environment registered\n"
     ]
    }
   ],
   "source": [
    "# Create an environment from the environment.yml file\n",
    "env = Environment.from_conda_specification(name=\"my_environment\", file_path=\"../envfile.yml\")\n",
    "\n",
    "# Register the environment in the workspace\n",
    "env.register(workspace=ws)\n",
    "print(\"Environment registered\")\n"
   ]
  },
  {
   "cell_type": "code",
   "execution_count": null,
   "metadata": {},
   "outputs": [],
   "source": []
  }
 ],
 "metadata": {
  "kernelspec": {
   "display_name": "Python 3",
   "language": "python",
   "name": "python3"
  },
  "language_info": {
   "codemirror_mode": {
    "name": "ipython",
    "version": 3
   },
   "file_extension": ".py",
   "mimetype": "text/x-python",
   "name": "python",
   "nbconvert_exporter": "python",
   "pygments_lexer": "ipython3",
   "version": "3.10.0"
  }
 },
 "nbformat": 4,
 "nbformat_minor": 2
}
