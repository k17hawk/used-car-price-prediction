{
 "cells": [
  {
   "cell_type": "code",
   "execution_count": 1,
   "metadata": {},
   "outputs": [],
   "source": [
    "from pyspark.sql import SparkSession\n",
    "from pyspark.sql.functions import when, col, count\n"
   ]
  },
  {
   "cell_type": "code",
   "execution_count": 2,
   "metadata": {},
   "outputs": [
    {
     "name": "stderr",
     "output_type": "stream",
     "text": [
      "24/09/10 17:56:39 WARN Utils: Your hostname, langchain resolves to a loopback address: 127.0.1.1; using 192.168.0.103 instead (on interface wlp3s0)\n",
      "24/09/10 17:56:39 WARN Utils: Set SPARK_LOCAL_IP if you need to bind to another address\n",
      "Setting default log level to \"WARN\".\n",
      "To adjust logging level use sc.setLogLevel(newLevel). For SparkR, use setLogLevel(newLevel).\n",
      "24/09/10 17:56:39 WARN NativeCodeLoader: Unable to load native-hadoop library for your platform... using builtin-java classes where applicable\n",
      "24/09/10 17:56:40 WARN Utils: Service 'SparkUI' could not bind on port 4040. Attempting port 4041.\n",
      "24/09/10 17:56:40 WARN Utils: Service 'SparkUI' could not bind on port 4041. Attempting port 4042.\n",
      "24/09/10 17:56:40 WARN Utils: Service 'SparkUI' could not bind on port 4042. Attempting port 4043.\n"
     ]
    }
   ],
   "source": [
    "spark = SparkSession.builder.master('local[*]').appName('used-car-price').config('spark.executor.memory', '6g').getOrCreate()"
   ]
  },
  {
   "cell_type": "code",
   "execution_count": 3,
   "metadata": {},
   "outputs": [
    {
     "name": "stderr",
     "output_type": "stream",
     "text": [
      "24/09/10 17:56:41 WARN SparkSession: Using an existing Spark session; only runtime SQL configurations will take effect.\n"
     ]
    }
   ],
   "source": [
    "spark = SparkSession.builder.master('local[*]').appName('used-car-price')\\\n",
    ".config(\"spark.executor.instances\", \"1\")\\\n",
    ".config(\"spark.executor.memory\", \"6g\")\\\n",
    ".config(\"spark.driver.memory\", \"6g\")\\\n",
    ".config(\"spark.executor.memoryOverhead\", \"8g\")\\\n",
    ".getOrCreate()"
   ]
  },
  {
   "cell_type": "code",
   "execution_count": 4,
   "metadata": {},
   "outputs": [],
   "source": [
    "csv_file_path = '../data/test.csv'\n",
    "df = spark.read.csv(csv_file_path, header=True, inferSchema=True)"
   ]
  },
  {
   "cell_type": "code",
   "execution_count": 5,
   "metadata": {},
   "outputs": [
    {
     "name": "stdout",
     "output_type": "stream",
     "text": [
      "+------+-------------+--------------------+----------+------+---------+--------------------+--------------------+--------------------+---------+--------------------+-----------+\n",
      "|    id|        brand|               model|model_year|milage|fuel_type|              engine|        transmission|             ext_col|  int_col|            accident|clean_title|\n",
      "+------+-------------+--------------------+----------+------+---------+--------------------+--------------------+--------------------+---------+--------------------+-----------+\n",
      "|188533|         Land|      Rover LR2 Base|      2015| 98000| Gasoline|240.0HP 2.0L 4 Cy...|         6-Speed A/T|               White|    Beige|       None reported|        Yes|\n",
      "|188534|         Land|   Rover Defender SE|      2020|  9142|   Hybrid|395.0HP 3.0L Stra...|         8-Speed A/T|              Silver|    Black|       None reported|        Yes|\n",
      "|188535|         Ford|  Expedition Limited|      2022| 28121| Gasoline|3.5L V6 24V PDI D...|  10-Speed Automatic|               White|    Ebony|       None reported|       NULL|\n",
      "|188536|         Audi|       A6 2.0T Sport|      2016| 61258| Gasoline|      2.0 Liter TFSI|           Automatic|     Silician Yellow|    Black|       None reported|       NULL|\n",
      "|188537|         Audi|A6 2.0T Premium Plus|      2018| 59000| Gasoline|252.0HP 2.0L 4 Cy...|                 A/T|                Gray|    Black|       None reported|        Yes|\n",
      "|188538|    Chevrolet|Express 2500 Work...|      2013| 99524| Gasoline|285.0HP 4.8L 8 Cy...|                 A/T|               Black|    Black|       None reported|        Yes|\n",
      "|188539|        Lexus|         RX 350 Base|      2008|194000| Gasoline|270.0HP 3.5L V6 C...|Transmission w/Du...|              Silver|     Gray|       None reported|        Yes|\n",
      "|188540|    Chevrolet|          Impala 1LT|      2019| 40208| Gasoline|3.8L V6 24V GDI DOHC|   6-Speed Automatic| Silver Ice Metallic|Jet Black|       None reported|        Yes|\n",
      "|188541|Mercedes-Benz|    S-Class S 63 AMG|      2016|  7600| Gasoline|536.0HP 5.5L 8 Cy...|         7-Speed A/T|               Black|    Black|       None reported|        Yes|\n",
      "|188542|      Genesis|      G80 3.3T Sport|      2017| 63300| Gasoline|365.0HP 3.3L V6 C...|         8-Speed A/T|               Black|    Black|       None reported|        Yes|\n",
      "|188543|Mercedes-Benz|SL-Class SL500 Ro...|      2008| 56842| Gasoline|303.0HP 3.7L V6 C...|                 A/T|               Black|     Gray|       None reported|        Yes|\n",
      "|188544|         Ford|          Mustang GT|      2002|148740| Gasoline|300.0HP 4.6L 8 Cy...|         5-Speed M/T|               Black|    Black|At least 1 accide...|        Yes|\n",
      "|188545|        Mazda|         RX 350 Base|      2022| 27352| Gasoline|3.5L V6 24V PDI D...|   6-Speed Automatic|Deep Crystal Blue...|    Black|       None reported|        Yes|\n",
      "|188546|      Porsche|       911 Carrera S|      2023| 10400| Gasoline|379.0HP 3.0L Flat...|                 A/T|                Gray|    Black|       None reported|        Yes|\n",
      "|188547|         Ford|           F-150 XLT|      2014|199000| Gasoline|365.0HP 3.5L V6 C...|         6-Speed A/T|               White|    Black|       None reported|        Yes|\n",
      "|188548|       Jaguar|            F-PACE S|      2022| 10906| Gasoline|4.0L V8 32V GDI D...|   8-Speed Automatic|Santorini Black M...|    Black|       None reported|       NULL|\n",
      "|188549|         Audi|S3 2.0T Premium Plus|      2013| 70500| Gasoline|292.0HP 2.0L 4 Cy...|         6-Speed A/T|                Gray|    Black|       None reported|        Yes|\n",
      "|188550|        Honda|          Pilot EX-L|      2008|149500| Gasoline|248.0HP 3.5L V6 C...|                 A/T|               Black|     Gray|At least 1 accide...|        Yes|\n",
      "|188551|        Lexus|         LC 500 Base|      2020| 22400| Gasoline|471.0HP 5.0L 8 Cy...|         8-Speed A/T|               Black|    Black|       None reported|        Yes|\n",
      "|188552|Mercedes-Benz|AMG C 43 Base 4MATIC|      2020| 33500| Gasoline|362.0HP 3.0L V6 C...|         9-Speed A/T|               White|     Gray|       None reported|        Yes|\n",
      "+------+-------------+--------------------+----------+------+---------+--------------------+--------------------+--------------------+---------+--------------------+-----------+\n",
      "only showing top 20 rows\n",
      "\n"
     ]
    }
   ],
   "source": [
    "df.show()"
   ]
  },
  {
   "cell_type": "code",
   "execution_count": 6,
   "metadata": {},
   "outputs": [],
   "source": [
    "# from pyspark.sql.functions import when\n",
    "\n",
    "# # List of rare engine types when analysing train data\n",
    "# rare_engines = [\n",
    "#     \"70.0HP 1.0L 3 Cylinder Engine Gasoline Fuel\",\n",
    "#     \"443.0HP 4.4L 8 Cylinder Engine Gasoline Fuel\",\n",
    "#     \"111.0HP Electric Motor Electric Fuel System\",\n",
    "#     \"184.0HP 2.4L 4 Cylinder Engine Flex Fuel Capability\",\n",
    "#     \"151.0HP 1.5L 4 Cylinder Engine Gas/Electric Hybrid\",\n",
    "#     \"139.0HP 1.6L 4 Cylinder Engine Plug-In Electric/Gas\",\n",
    "#     \"78.0HP 1.2L 3 Cylinder Engine Gasoline Fuel\",\n",
    "#     \"313.0HP 2.0L 4 Cylinder Engine Plug-In Electric/Gas\"\n",
    "# ]\n",
    "\n",
    "# df = df.withColumn('engine', when(col('engine').isin(rare_engines), 'Rare_engine').otherwise(col('engine')))\n",
    "\n",
    "\n",
    "# df.show()\n"
   ]
  },
  {
   "cell_type": "code",
   "execution_count": 7,
   "metadata": {},
   "outputs": [],
   "source": [
    "# engine_counts = df.groupBy('engine').agg(count('engine').alias('count')).orderBy('count') \n",
    "# engine_counts.show(n=52)"
   ]
  },
  {
   "cell_type": "code",
   "execution_count": 8,
   "metadata": {},
   "outputs": [
    {
     "data": {
      "text/plain": [
       "DataFrame[id: int, brand: string, model: string, model_year: int, milage: int, fuel_type: string, engine: string, transmission: string, ext_col: string, int_col: string, accident: string, clean_title: string]"
      ]
     },
     "execution_count": 8,
     "metadata": {},
     "output_type": "execute_result"
    }
   ],
   "source": [
    "df"
   ]
  },
  {
   "cell_type": "code",
   "execution_count": 9,
   "metadata": {},
   "outputs": [],
   "source": [
    "from pyspark.sql.functions import col, when,regexp_replace,lower\n",
    "df = df.withColumn(\n",
    "    \"transmission\",\n",
    "    when(col(\"transmission\").contains(\"At/Mt\") | col(\"transmission\").contains(\"AT/MT\"), \n",
    "          regexp_replace(col(\"transmission\"), \"AT/MT|At/Mt\", \"automatic/manual\"))\n",
    "    .when(col(\"transmission\").contains(\"A/T\") | col(\"transmission\").contains(\"AT\"), \n",
    "         regexp_replace(col(\"transmission\"), \"A/T|AT\", \"automatic\"))\n",
    "    .when(col(\"transmission\").contains(\"Mt\") | col(\"transmission\").contains(\"M/T\"), \n",
    "          regexp_replace(col(\"transmission\"), \"Mt|M/T\", \"manual\"))\n",
    "    \n",
    "    .when(col(\"transmission\").contains(\"F\"), \"single-speed fixed gear\")\n",
    "    .when(col(\"transmission\").contains(\"DCT\"), \"dual clutch automatic\")\n",
    "    .when(col(\"transmission\").contains(\"CVT\"), \"continuously variable transmission\")\n",
    "    .when(col(\"transmission\").contains(\"5-Speed M/T\"), \"5-Speed manual\")\n",
    "    .otherwise(col(\"transmission\"))\n",
    ")\n",
    "df = df.withColumn(\"transmission\", lower(col(\"transmission\")))"
   ]
  },
  {
   "cell_type": "code",
   "execution_count": 10,
   "metadata": {},
   "outputs": [
    {
     "name": "stdout",
     "output_type": "stream",
     "text": [
      "+--------------------+-----+\n",
      "|        transmission|count|\n",
      "+--------------------+-----+\n",
      "|dual clutch autom...|   11|\n",
      "|6 speed automatic...|   14|\n",
      "|             6-speed|   14|\n",
      "|             7-speed|   21|\n",
      "|      8-speed manual|   23|\n",
      "|9-speed automatic...|   28|\n",
      "|6-speed electroni...|   29|\n",
      "|      6 speed manual|   29|\n",
      "|10-speed automati...|   39|\n",
      "|                   –|   40|\n",
      "|            variable|   58|\n",
      "|   2-speed automatic|   58|\n",
      "|6-speed automatic...|   62|\n",
      "|                   2|   64|\n",
      "|single-speed fixe...|   75|\n",
      "|transmission over...|  124|\n",
      "|8-speed automatic...|  345|\n",
      "|      7-speed manual|  369|\n",
      "|              manual|  759|\n",
      "|7-speed automatic...|  800|\n",
      "|   1-speed automatic| 1526|\n",
      "|      5-speed manual| 1639|\n",
      "|   4-speed automatic| 1701|\n",
      "|continuously vari...| 1878|\n",
      "|   5-speed automatic| 2372|\n",
      "|   9-speed automatic| 4137|\n",
      "|  10-speed automatic| 7407|\n",
      "|   7-speed automatic| 7486|\n",
      "|      6-speed manual| 7995|\n",
      "|transmission w/du...|12824|\n",
      "|   6-speed automatic|13952|\n",
      "|   8-speed automatic|19504|\n",
      "|           automatic|40307|\n",
      "+--------------------+-----+\n",
      "\n"
     ]
    }
   ],
   "source": [
    "transmission_counts = df.groupBy('transmission').agg(count('transmission').alias('count')).orderBy('count')\n",
    "transmission_counts.show(n=52)"
   ]
  },
  {
   "cell_type": "code",
   "execution_count": 12,
   "metadata": {},
   "outputs": [
    {
     "name": "stdout",
     "output_type": "stream",
     "text": [
      "+--------------------+\n",
      "|        transmission|\n",
      "+--------------------+\n",
      "|6-speed electroni...|\n",
      "|6 speed automatic...|\n",
      "|   5-speed automatic|\n",
      "|7-speed automatic...|\n",
      "|            variable|\n",
      "|  10-speed automatic|\n",
      "|   2-speed automatic|\n",
      "|           automatic|\n",
      "|             7-speed|\n",
      "|10-speed automati...|\n",
      "|      7-speed manual|\n",
      "|single-speed fixe...|\n",
      "|   6-speed automatic|\n",
      "|transmission over...|\n",
      "|9-speed automatic...|\n",
      "|   8-speed automatic|\n",
      "|              manual|\n",
      "|      5-speed manual|\n",
      "|      6 speed manual|\n",
      "|      8-speed manual|\n",
      "+--------------------+\n",
      "only showing top 20 rows\n",
      "\n"
     ]
    }
   ],
   "source": [
    "df = df.withColumn(\n",
    "    \"transmission\",\n",
    "    when(col(\"transmission\") == \"–\", \"unknown-transmission\")\n",
    "    .otherwise(col(\"transmission\"))\n",
    ")\n",
    "\n",
    "df.select('transmission').distinct().show()"
   ]
  },
  {
   "cell_type": "code",
   "execution_count": 14,
   "metadata": {},
   "outputs": [
    {
     "name": "stdout",
     "output_type": "stream",
     "text": [
      "+----------------------------------+-----+\n",
      "|transmission                      |count|\n",
      "+----------------------------------+-----+\n",
      "|automatic                         |40307|\n",
      "|8-speed automatic                 |19504|\n",
      "|6-speed automatic                 |13952|\n",
      "|transmission w/dual shift mode    |12824|\n",
      "|6-speed manual                    |7995 |\n",
      "|7-speed automatic                 |7486 |\n",
      "|10-speed automatic                |7407 |\n",
      "|9-speed automatic                 |4137 |\n",
      "|5-speed automatic                 |2372 |\n",
      "|continuously variable transmission|1878 |\n",
      "|4-speed automatic                 |1701 |\n",
      "|5-speed manual                    |1639 |\n",
      "|1-speed automatic                 |1526 |\n",
      "|7-speed automatic with auto-shift |800  |\n",
      "|manual                            |759  |\n",
      "|7-speed manual                    |369  |\n",
      "|8-speed automatic with auto-shift |345  |\n",
      "|transmission overdrive switch     |124  |\n",
      "|single-speed fixed gear           |75   |\n",
      "|2                                 |64   |\n",
      "+----------------------------------+-----+\n",
      "only showing top 20 rows\n",
      "\n"
     ]
    }
   ],
   "source": [
    "from pyspark.sql import functions as F\n",
    "df.groupBy(\"transmission\").agg(F.count(\"*\").alias(\"count\")).orderBy(\"count\", ascending=False).show(truncate=False)"
   ]
  },
  {
   "cell_type": "code",
   "execution_count": 15,
   "metadata": {},
   "outputs": [
    {
     "name": "stdout",
     "output_type": "stream",
     "text": [
      "+---------------+\n",
      "|       accident|\n",
      "+---------------+\n",
      "|  None reported|\n",
      "|damage reported|\n",
      "|           NULL|\n",
      "+---------------+\n",
      "\n"
     ]
    }
   ],
   "source": [
    "\n",
    "df = df.withColumn(\n",
    "    \"accident\",\n",
    "    when(col(\"accident\") == \"At least 1 accident or damage reported\", \"damage reported\")\n",
    "    .otherwise(col(\"accident\"))\n",
    ")\n",
    "df.select('accident').distinct().show()"
   ]
  },
  {
   "cell_type": "code",
   "execution_count": 16,
   "metadata": {},
   "outputs": [
    {
     "name": "stdout",
     "output_type": "stream",
     "text": [
      "+-----------------+\n",
      "|        fuel_type|\n",
      "+-----------------+\n",
      "|         Gasoline|\n",
      "|    E85 Flex Fuel|\n",
      "|           Diesel|\n",
      "|           Hybrid|\n",
      "|   Plug-In Hybrid|\n",
      "|unknown-name-fuel|\n",
      "|    not supported|\n",
      "|             NULL|\n",
      "+-----------------+\n",
      "\n"
     ]
    }
   ],
   "source": [
    "df = df.withColumn(\n",
    "    \"fuel_type\",\n",
    "    when(col(\"fuel_type\") == \"–\", \"unknown-name-fuel\")\n",
    "    .otherwise(col(\"fuel_type\"))\n",
    ")\n",
    "\n",
    "df.select('fuel_type').distinct().show()"
   ]
  },
  {
   "cell_type": "code",
   "execution_count": 17,
   "metadata": {},
   "outputs": [],
   "source": [
    "def remove_outliers_iqr(df, column):\n",
    "\n",
    "    Q1 = df.approxQuantile(column, [0.25], 0.01)[0]\n",
    "    Q3 = df.approxQuantile(column, [0.75], 0.01)[0]\n",
    "    IQR = Q3 - Q1\n",
    "\n",
    "    lower_bound = Q1 - 1.5 * IQR\n",
    "    upper_bound = Q3 + 1.5 * IQR\n",
    "\n",
    "\n",
    "    df_out = df.filter((F.col(column) >= lower_bound) & (F.col(column) <= upper_bound))\n",
    "    return df_out\n",
    "\n",
    "df_train_no_outliers = remove_outliers_iqr(df, 'milage')"
   ]
  },
  {
   "cell_type": "code",
   "execution_count": 18,
   "metadata": {},
   "outputs": [],
   "source": [
    "from pyspark.sql.functions import udf\n",
    "from pyspark.sql.types import StringType\n",
    "import re\n",
    "from pyspark.sql import functions as F\n",
    "\n",
    "def clean_engine(engine):\n",
    "    engine = re.sub(r\"[^a-zA-Z0-9\\s]\", \"\", engine)\n",
    "    return engine\n",
    "\n",
    "clean_engine_udf = udf(clean_engine, StringType())\n",
    "df = df.withColumn(\"engine\", clean_engine_udf(F.col(\"engine\")))\n"
   ]
  },
  {
   "cell_type": "code",
   "execution_count": 19,
   "metadata": {},
   "outputs": [],
   "source": [
    "output_path = \"../data/cleaned_test.csv\"\n",
    "df_train_no_outliers.write.csv(output_path, header=True, mode='overwrite')\n"
   ]
  },
  {
   "cell_type": "code",
   "execution_count": null,
   "metadata": {},
   "outputs": [],
   "source": []
  }
 ],
 "metadata": {
  "kernelspec": {
   "display_name": "Python 3",
   "language": "python",
   "name": "python3"
  },
  "language_info": {
   "codemirror_mode": {
    "name": "ipython",
    "version": 3
   },
   "file_extension": ".py",
   "mimetype": "text/x-python",
   "name": "python",
   "nbconvert_exporter": "python",
   "pygments_lexer": "ipython3",
   "version": "3.10.0"
  }
 },
 "nbformat": 4,
 "nbformat_minor": 2
}
