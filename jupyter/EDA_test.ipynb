{
 "cells": [
  {
   "cell_type": "code",
   "execution_count": 1,
   "metadata": {},
   "outputs": [],
   "source": [
    "from pyspark.sql import SparkSession\n",
    "import seaborn as sns"
   ]
  },
  {
   "cell_type": "code",
   "execution_count": 2,
   "metadata": {},
   "outputs": [
    {
     "name": "stderr",
     "output_type": "stream",
     "text": [
      "24/09/10 16:40:19 WARN Utils: Your hostname, langchain resolves to a loopback address: 127.0.1.1; using 192.168.0.103 instead (on interface wlp3s0)\n",
      "24/09/10 16:40:19 WARN Utils: Set SPARK_LOCAL_IP if you need to bind to another address\n",
      "Setting default log level to \"WARN\".\n",
      "To adjust logging level use sc.setLogLevel(newLevel). For SparkR, use setLogLevel(newLevel).\n",
      "24/09/10 16:40:20 WARN NativeCodeLoader: Unable to load native-hadoop library for your platform... using builtin-java classes where applicable\n",
      "24/09/10 16:40:20 WARN Utils: Service 'SparkUI' could not bind on port 4040. Attempting port 4041.\n",
      "24/09/10 16:40:21 WARN SparkSession: Using an existing Spark session; only runtime SQL configurations will take effect.\n"
     ]
    }
   ],
   "source": [
    "data_dir=\"data\"\n",
    "spark = SparkSession.builder.master('local[*]').appName('used-car-price').config('spark.executor.memory', '6g').getOrCreate()\n",
    "spark = SparkSession.builder.master('local[*]').appName('used-car-price')\\\n",
    ".config(\"spark.executor.instances\", \"1\")\\\n",
    ".config(\"spark.executor.memory\", \"6g\")\\\n",
    ".config(\"spark.driver.memory\", \"6g\")\\\n",
    ".config(\"spark.executor.memoryOverhead\", \"8g\")\\\n",
    ".getOrCreate()"
   ]
  },
  {
   "cell_type": "code",
   "execution_count": 3,
   "metadata": {},
   "outputs": [
    {
     "data": {
      "text/plain": [
       "[('spark.driver.extraJavaOptions',\n",
       "  '-Djava.net.preferIPv6Addresses=false -XX:+IgnoreUnrecognizedVMOptions --add-opens=java.base/java.lang=ALL-UNNAMED --add-opens=java.base/java.lang.invoke=ALL-UNNAMED --add-opens=java.base/java.lang.reflect=ALL-UNNAMED --add-opens=java.base/java.io=ALL-UNNAMED --add-opens=java.base/java.net=ALL-UNNAMED --add-opens=java.base/java.nio=ALL-UNNAMED --add-opens=java.base/java.util=ALL-UNNAMED --add-opens=java.base/java.util.concurrent=ALL-UNNAMED --add-opens=java.base/java.util.concurrent.atomic=ALL-UNNAMED --add-opens=java.base/jdk.internal.ref=ALL-UNNAMED --add-opens=java.base/sun.nio.ch=ALL-UNNAMED --add-opens=java.base/sun.nio.cs=ALL-UNNAMED --add-opens=java.base/sun.security.action=ALL-UNNAMED --add-opens=java.base/sun.util.calendar=ALL-UNNAMED --add-opens=java.security.jgss/sun.security.krb5=ALL-UNNAMED -Djdk.reflect.useDirectMethodHandle=false'),\n",
       " ('spark.driver.host', 'langchain.ht.home'),\n",
       " ('spark.app.id', 'local-1726000820842'),\n",
       " ('spark.driver.port', '38493'),\n",
       " ('spark.executor.id', 'driver'),\n",
       " ('spark.executor.memory', '6g'),\n",
       " ('spark.app.startTime', '1726000820033'),\n",
       " ('spark.rdd.compress', 'True'),\n",
       " ('spark.executor.extraJavaOptions',\n",
       "  '-Djava.net.preferIPv6Addresses=false -XX:+IgnoreUnrecognizedVMOptions --add-opens=java.base/java.lang=ALL-UNNAMED --add-opens=java.base/java.lang.invoke=ALL-UNNAMED --add-opens=java.base/java.lang.reflect=ALL-UNNAMED --add-opens=java.base/java.io=ALL-UNNAMED --add-opens=java.base/java.net=ALL-UNNAMED --add-opens=java.base/java.nio=ALL-UNNAMED --add-opens=java.base/java.util=ALL-UNNAMED --add-opens=java.base/java.util.concurrent=ALL-UNNAMED --add-opens=java.base/java.util.concurrent.atomic=ALL-UNNAMED --add-opens=java.base/jdk.internal.ref=ALL-UNNAMED --add-opens=java.base/sun.nio.ch=ALL-UNNAMED --add-opens=java.base/sun.nio.cs=ALL-UNNAMED --add-opens=java.base/sun.security.action=ALL-UNNAMED --add-opens=java.base/sun.util.calendar=ALL-UNNAMED --add-opens=java.security.jgss/sun.security.krb5=ALL-UNNAMED -Djdk.reflect.useDirectMethodHandle=false'),\n",
       " ('spark.sql.warehouse.dir',\n",
       "  'file:/media/lang_chain/Storage/azure-code/jupyter/spark-warehouse'),\n",
       " ('spark.serializer.objectStreamReset', '100'),\n",
       " ('spark.master', 'local[*]'),\n",
       " ('spark.submit.pyFiles', ''),\n",
       " ('spark.submit.deployMode', 'client'),\n",
       " ('spark.app.submitTime', '1726000819866'),\n",
       " ('spark.app.name', 'used-car-price'),\n",
       " ('spark.ui.showConsoleProgress', 'true')]"
      ]
     },
     "execution_count": 3,
     "metadata": {},
     "output_type": "execute_result"
    }
   ],
   "source": [
    "spark.sparkContext._conf.getAll()"
   ]
  },
  {
   "cell_type": "code",
   "execution_count": 4,
   "metadata": {},
   "outputs": [],
   "source": [
    "from pyspark.sql.functions import col, count, sum\n",
    "csv_file_path = '../data/test.csv'\n",
    "df = spark.read.csv(csv_file_path, header=True, inferSchema=True)\n"
   ]
  },
  {
   "cell_type": "code",
   "execution_count": 5,
   "metadata": {},
   "outputs": [
    {
     "name": "stdout",
     "output_type": "stream",
     "text": [
      "+------+-------------+--------------------+----------+------+---------+--------------------+--------------------+--------------------+---------+--------------------+-----------+\n",
      "|    id|        brand|               model|model_year|milage|fuel_type|              engine|        transmission|             ext_col|  int_col|            accident|clean_title|\n",
      "+------+-------------+--------------------+----------+------+---------+--------------------+--------------------+--------------------+---------+--------------------+-----------+\n",
      "|188533|         Land|      Rover LR2 Base|      2015| 98000| Gasoline|240.0HP 2.0L 4 Cy...|         6-Speed A/T|               White|    Beige|       None reported|        Yes|\n",
      "|188534|         Land|   Rover Defender SE|      2020|  9142|   Hybrid|395.0HP 3.0L Stra...|         8-Speed A/T|              Silver|    Black|       None reported|        Yes|\n",
      "|188535|         Ford|  Expedition Limited|      2022| 28121| Gasoline|3.5L V6 24V PDI D...|  10-Speed Automatic|               White|    Ebony|       None reported|       NULL|\n",
      "|188536|         Audi|       A6 2.0T Sport|      2016| 61258| Gasoline|      2.0 Liter TFSI|           Automatic|     Silician Yellow|    Black|       None reported|       NULL|\n",
      "|188537|         Audi|A6 2.0T Premium Plus|      2018| 59000| Gasoline|252.0HP 2.0L 4 Cy...|                 A/T|                Gray|    Black|       None reported|        Yes|\n",
      "|188538|    Chevrolet|Express 2500 Work...|      2013| 99524| Gasoline|285.0HP 4.8L 8 Cy...|                 A/T|               Black|    Black|       None reported|        Yes|\n",
      "|188539|        Lexus|         RX 350 Base|      2008|194000| Gasoline|270.0HP 3.5L V6 C...|Transmission w/Du...|              Silver|     Gray|       None reported|        Yes|\n",
      "|188540|    Chevrolet|          Impala 1LT|      2019| 40208| Gasoline|3.8L V6 24V GDI DOHC|   6-Speed Automatic| Silver Ice Metallic|Jet Black|       None reported|        Yes|\n",
      "|188541|Mercedes-Benz|    S-Class S 63 AMG|      2016|  7600| Gasoline|536.0HP 5.5L 8 Cy...|         7-Speed A/T|               Black|    Black|       None reported|        Yes|\n",
      "|188542|      Genesis|      G80 3.3T Sport|      2017| 63300| Gasoline|365.0HP 3.3L V6 C...|         8-Speed A/T|               Black|    Black|       None reported|        Yes|\n",
      "|188543|Mercedes-Benz|SL-Class SL500 Ro...|      2008| 56842| Gasoline|303.0HP 3.7L V6 C...|                 A/T|               Black|     Gray|       None reported|        Yes|\n",
      "|188544|         Ford|          Mustang GT|      2002|148740| Gasoline|300.0HP 4.6L 8 Cy...|         5-Speed M/T|               Black|    Black|At least 1 accide...|        Yes|\n",
      "|188545|        Mazda|         RX 350 Base|      2022| 27352| Gasoline|3.5L V6 24V PDI D...|   6-Speed Automatic|Deep Crystal Blue...|    Black|       None reported|        Yes|\n",
      "|188546|      Porsche|       911 Carrera S|      2023| 10400| Gasoline|379.0HP 3.0L Flat...|                 A/T|                Gray|    Black|       None reported|        Yes|\n",
      "|188547|         Ford|           F-150 XLT|      2014|199000| Gasoline|365.0HP 3.5L V6 C...|         6-Speed A/T|               White|    Black|       None reported|        Yes|\n",
      "|188548|       Jaguar|            F-PACE S|      2022| 10906| Gasoline|4.0L V8 32V GDI D...|   8-Speed Automatic|Santorini Black M...|    Black|       None reported|       NULL|\n",
      "|188549|         Audi|S3 2.0T Premium Plus|      2013| 70500| Gasoline|292.0HP 2.0L 4 Cy...|         6-Speed A/T|                Gray|    Black|       None reported|        Yes|\n",
      "|188550|        Honda|          Pilot EX-L|      2008|149500| Gasoline|248.0HP 3.5L V6 C...|                 A/T|               Black|     Gray|At least 1 accide...|        Yes|\n",
      "|188551|        Lexus|         LC 500 Base|      2020| 22400| Gasoline|471.0HP 5.0L 8 Cy...|         8-Speed A/T|               Black|    Black|       None reported|        Yes|\n",
      "|188552|Mercedes-Benz|AMG C 43 Base 4MATIC|      2020| 33500| Gasoline|362.0HP 3.0L V6 C...|         9-Speed A/T|               White|     Gray|       None reported|        Yes|\n",
      "+------+-------------+--------------------+----------+------+---------+--------------------+--------------------+--------------------+---------+--------------------+-----------+\n",
      "only showing top 20 rows\n",
      "\n"
     ]
    }
   ],
   "source": [
    "df.show()"
   ]
  },
  {
   "cell_type": "code",
   "execution_count": 6,
   "metadata": {},
   "outputs": [
    {
     "name": "stdout",
     "output_type": "stream",
     "text": [
      "['id', 'model_year', 'milage']\n",
      "['brand', 'model', 'fuel_type', 'engine', 'transmission', 'ext_col', 'int_col', 'accident', 'clean_title']\n"
     ]
    }
   ],
   "source": [
    "from pyspark.sql.types import NumericType,StringType\n",
    "\n",
    "# List of numerical columns\n",
    "numerical_columns = [field.name for field in df.schema.fields if isinstance(field.dataType, NumericType)]\n",
    "\n",
    "#list of string columns\n",
    "categorical_columns = [field.name for field in df.schema.fields if isinstance(field.dataType, StringType)]\n",
    "\n",
    "print(numerical_columns)\n",
    "print(categorical_columns)"
   ]
  },
  {
   "cell_type": "code",
   "execution_count": 7,
   "metadata": {},
   "outputs": [
    {
     "name": "stdout",
     "output_type": "stream",
     "text": [
      "+-------+-----------------+\n",
      "|summary|           milage|\n",
      "+-------+-----------------+\n",
      "|  count|           125690|\n",
      "|   mean|66042.58151006444|\n",
      "| stddev|50223.85843486855|\n",
      "|    min|              100|\n",
      "|    max|           405000|\n",
      "+-------+-----------------+\n",
      "\n"
     ]
    }
   ],
   "source": [
    "for feature in numerical_columns:\n",
    "    if feature not in ['id','model_year']: \n",
    "        df.select(feature).describe().show()\n"
   ]
  },
  {
   "cell_type": "markdown",
   "metadata": {},
   "source": [
    "Summary of milage from trining </br>\n",
    "+-------+-----------------+</br>\n",
    "|summary|           milage| </br>\n",
    "+-------+-----------------+ </br>\n",
    "| count |           188533| </br>\n",
    "|   mean| 65705.2951737892| </br>\n",
    "| stddev|49798.15807575404| </br>\n",
    "|    min|              100| </br>\n",
    "|    max|           405000| </br>\n",
    "+-------+-----------------+"
   ]
  },
  {
   "cell_type": "markdown",
   "metadata": {},
   "source": [
    "data is quite similary that means there is no data drift for milage"
   ]
  },
  {
   "cell_type": "code",
   "execution_count": 8,
   "metadata": {},
   "outputs": [
    {
     "name": "stdout",
     "output_type": "stream",
     "text": [
      "+---+-----+-----+----------+------+---------+------+------------+-------+-------+--------+-----------+\n",
      "| id|brand|model|model_year|milage|fuel_type|engine|transmission|ext_col|int_col|accident|clean_title|\n",
      "+---+-----+-----+----------+------+---------+------+------------+-------+-------+--------+-----------+\n",
      "|  0|    0|    0|         0|     0|     3383|     0|           0|      0|      0|    1632|      14239|\n",
      "+---+-----+-----+----------+------+---------+------+------------+-------+-------+--------+-----------+\n",
      "\n"
     ]
    }
   ],
   "source": [
    "from pyspark.sql.functions import col, sum as sql_sum\n",
    "null_counts = df.select([sql_sum(col(c).isNull().cast(\"integer\")).alias(c) for c in df.columns])\n",
    "null_counts.show()\n"
   ]
  },
  {
   "cell_type": "code",
   "execution_count": 9,
   "metadata": {},
   "outputs": [
    {
     "name": "stdout",
     "output_type": "stream",
     "text": [
      "+--------------------+\n",
      "|        transmission|\n",
      "+--------------------+\n",
      "|         1-Speed A/T|\n",
      "|   1-Speed Automatic|\n",
      "|        10-Speed A/T|\n",
      "|  10-Speed Automatic|\n",
      "|10-Speed Automati...|\n",
      "|                   2|\n",
      "|         2-Speed A/T|\n",
      "|   2-Speed Automatic|\n",
      "|         4-Speed A/T|\n",
      "|   4-Speed Automatic|\n",
      "|         5-Speed A/T|\n",
      "|   5-Speed Automatic|\n",
      "|         5-Speed M/T|\n",
      "|       6 Speed At/Mt|\n",
      "|          6 Speed Mt|\n",
      "|             6-Speed|\n",
      "|         6-Speed A/T|\n",
      "|   6-Speed Automatic|\n",
      "|6-Speed Automatic...|\n",
      "|6-Speed Electroni...|\n",
      "+--------------------+\n",
      "only showing top 20 rows\n",
      "\n"
     ]
    }
   ],
   "source": [
    "transmission_un = df.select('transmission').distinct().orderBy('transmission')\n",
    "transmission_un.show()\n"
   ]
  },
  {
   "cell_type": "code",
   "execution_count": 10,
   "metadata": {},
   "outputs": [
    {
     "data": {
      "text/plain": [
       "52"
      ]
     },
     "execution_count": 10,
     "metadata": {},
     "output_type": "execute_result"
    }
   ],
   "source": [
    "df.select(\"transmission\").distinct().count()\n"
   ]
  },
  {
   "cell_type": "code",
   "execution_count": 11,
   "metadata": {},
   "outputs": [
    {
     "name": "stdout",
     "output_type": "stream",
     "text": [
      "+--------------------+-----+\n",
      "|        transmission|count|\n",
      "+--------------------+-----+\n",
      "|         8-SPEED A/T|    8|\n",
      "|          8-SPEED AT|    9|\n",
      "|SCHEDULED FOR OR ...|    9|\n",
      "|7-Speed DCT Autom...|   11|\n",
      "|               CVT-F|   12|\n",
      "|Single-Speed Fixe...|   12|\n",
      "|   2-Speed Automatic|   13|\n",
      "|       6 Speed At/Mt|   14|\n",
      "|             6-Speed|   14|\n",
      "|              Manual|   18|\n",
      "|             7-Speed|   21|\n",
      "|      8-Speed Manual|   23|\n",
      "|9-Speed Automatic...|   28|\n",
      "|          6 Speed Mt|   29|\n",
      "|6-Speed Electroni...|   29|\n",
      "|   4-Speed Automatic|   35|\n",
      "|10-Speed Automati...|   39|\n",
      "|                   –|   40|\n",
      "|                   F|   42|\n",
      "|         2-Speed A/T|   45|\n",
      "|            Variable|   58|\n",
      "|6-Speed Automatic...|   62|\n",
      "|                   2|   64|\n",
      "|      7-Speed Manual|   89|\n",
      "|   7-Speed Automatic|  112|\n",
      "|Transmission Over...|  124|\n",
      "|      6-Speed Manual|  130|\n",
      "|   5-Speed Automatic|  131|\n",
      "|   1-Speed Automatic|  235|\n",
      "|         7-Speed M/T|  280|\n",
      "|8-Speed Automatic...|  345|\n",
      "|       Automatic CVT|  541|\n",
      "|                 M/T|  741|\n",
      "|7-Speed Automatic...|  800|\n",
      "|         1-Speed A/T| 1291|\n",
      "|    CVT Transmission| 1337|\n",
      "|   9-Speed Automatic| 1553|\n",
      "|         5-Speed M/T| 1639|\n",
      "|         4-Speed A/T| 1666|\n",
      "|   6-Speed Automatic| 1891|\n",
      "|  10-Speed Automatic| 2104|\n",
      "|         5-Speed A/T| 2241|\n",
      "|         9-Speed A/T| 2584|\n",
      "|        10-Speed A/T| 5303|\n",
      "|   8-Speed Automatic| 5546|\n",
      "|           Automatic| 7175|\n",
      "|         7-Speed A/T| 7374|\n",
      "|         6-Speed M/T| 7865|\n",
      "|         6-Speed A/T|12061|\n",
      "|Transmission w/Du...|12824|\n",
      "|         8-Speed A/T|13941|\n",
      "|                 A/T|33132|\n",
      "+--------------------+-----+\n",
      "\n"
     ]
    }
   ],
   "source": [
    "transmission_counts = df.groupBy('transmission').agg(count('transmission').alias('count')).orderBy('count')\n",
    "transmission_counts.show(n=52)"
   ]
  },
  {
   "cell_type": "code",
   "execution_count": 12,
   "metadata": {},
   "outputs": [
    {
     "name": "stdout",
     "output_type": "stream",
     "text": [
      "+---------+\n",
      "|    brand|\n",
      "+---------+\n",
      "|    Acura|\n",
      "|     Alfa|\n",
      "|    Aston|\n",
      "|     Audi|\n",
      "|      BMW|\n",
      "|  Bentley|\n",
      "|  Bugatti|\n",
      "|    Buick|\n",
      "| Cadillac|\n",
      "|Chevrolet|\n",
      "| Chrysler|\n",
      "|    Dodge|\n",
      "|     FIAT|\n",
      "|  Ferrari|\n",
      "|     Ford|\n",
      "|      GMC|\n",
      "|  Genesis|\n",
      "|    Honda|\n",
      "|   Hummer|\n",
      "|  Hyundai|\n",
      "+---------+\n",
      "only showing top 20 rows\n",
      "\n"
     ]
    }
   ],
   "source": [
    "brand_un = df.select('brand').distinct().orderBy('brand')\n",
    "brand_un.show()"
   ]
  },
  {
   "cell_type": "code",
   "execution_count": 13,
   "metadata": {},
   "outputs": [
    {
     "data": {
      "text/plain": [
       "55"
      ]
     },
     "execution_count": 13,
     "metadata": {},
     "output_type": "execute_result"
    }
   ],
   "source": [
    "df.select(\"brand\").distinct().count()"
   ]
  },
  {
   "cell_type": "code",
   "execution_count": 14,
   "metadata": {},
   "outputs": [
    {
     "name": "stdout",
     "output_type": "stream",
     "text": [
      "+--------------------+\n",
      "|            accident|\n",
      "+--------------------+\n",
      "|At least 1 accide...|\n",
      "|       None reported|\n",
      "|                NULL|\n",
      "+--------------------+\n",
      "\n"
     ]
    }
   ],
   "source": [
    "df.select('accident').distinct().show()"
   ]
  },
  {
   "cell_type": "code",
   "execution_count": 15,
   "metadata": {},
   "outputs": [
    {
     "name": "stdout",
     "output_type": "stream",
     "text": [
      "+--------------+\n",
      "|     fuel_type|\n",
      "+--------------+\n",
      "|      Gasoline|\n",
      "| E85 Flex Fuel|\n",
      "|        Diesel|\n",
      "|             –|\n",
      "|        Hybrid|\n",
      "|Plug-In Hybrid|\n",
      "| not supported|\n",
      "|          NULL|\n",
      "+--------------+\n",
      "\n"
     ]
    }
   ],
   "source": [
    "df.select('fuel_type').distinct().show()"
   ]
  },
  {
   "cell_type": "code",
   "execution_count": 17,
   "metadata": {},
   "outputs": [
    {
     "name": "stderr",
     "output_type": "stream",
     "text": [
      "/media/lang_chain/Storage/azure-code/.conda/lib/python3.10/site-packages/fuzzywuzzy/fuzz.py:11: UserWarning: Using slow pure-python SequenceMatcher. Install python-Levenshtein to remove this warning\n",
      "  warnings.warn('Using slow pure-python SequenceMatcher. Install python-Levenshtein to remove this warning')\n"
     ]
    },
    {
     "data": {
      "text/html": [
       "<div>\n",
       "<style scoped>\n",
       "    .dataframe tbody tr th:only-of-type {\n",
       "        vertical-align: middle;\n",
       "    }\n",
       "\n",
       "    .dataframe tbody tr th {\n",
       "        vertical-align: top;\n",
       "    }\n",
       "\n",
       "    .dataframe thead th {\n",
       "        text-align: right;\n",
       "    }\n",
       "</style>\n",
       "<table border=\"1\" class=\"dataframe\">\n",
       "  <thead>\n",
       "    <tr style=\"text-align: right;\">\n",
       "      <th></th>\n",
       "      <th>model_year</th>\n",
       "      <th>avg_milage</th>\n",
       "    </tr>\n",
       "  </thead>\n",
       "  <tbody>\n",
       "    <tr>\n",
       "      <th>34</th>\n",
       "      <td>1982</td>\n",
       "      <td>179400.000000</td>\n",
       "    </tr>\n",
       "    <tr>\n",
       "      <th>9</th>\n",
       "      <td>1997</td>\n",
       "      <td>140374.551402</td>\n",
       "    </tr>\n",
       "    <tr>\n",
       "      <th>30</th>\n",
       "      <td>1999</td>\n",
       "      <td>138311.942211</td>\n",
       "    </tr>\n",
       "    <tr>\n",
       "      <th>13</th>\n",
       "      <td>2004</td>\n",
       "      <td>131126.768754</td>\n",
       "    </tr>\n",
       "    <tr>\n",
       "      <th>25</th>\n",
       "      <td>2000</td>\n",
       "      <td>130118.753541</td>\n",
       "    </tr>\n",
       "  </tbody>\n",
       "</table>\n",
       "</div>"
      ],
      "text/plain": [
       "    model_year     avg_milage\n",
       "34        1982  179400.000000\n",
       "9         1997  140374.551402\n",
       "30        1999  138311.942211\n",
       "13        2004  131126.768754\n",
       "25        2000  130118.753541"
      ]
     },
     "execution_count": 17,
     "metadata": {},
     "output_type": "execute_result"
    }
   ],
   "source": [
    "from fuzzywuzzy import process, fuzz\n",
    "from pyspark.sql import functions as F\n",
    "avg_mileage_by_year_df = df.groupBy('model_year').agg(F.mean('milage').alias('avg_milage'))\n",
    "avg_mileage_by_year_pdf = avg_mileage_by_year_df.toPandas().sort_values('avg_milage',ascending = False)\n",
    "avg_mileage_by_year_pdf.head(5)"
   ]
  },
  {
   "cell_type": "code",
   "execution_count": 19,
   "metadata": {},
   "outputs": [
    {
     "name": "stderr",
     "output_type": "stream",
     "text": [
      "/home/lang_chain/.local/lib/python3.10/site-packages/seaborn/_oldcore.py:1119: FutureWarning: use_inf_as_na option is deprecated and will be removed in a future version. Convert inf values to NaN before operating instead.\n",
      "  with pd.option_context('mode.use_inf_as_na', True):\n",
      "/home/lang_chain/.local/lib/python3.10/site-packages/seaborn/_oldcore.py:1119: FutureWarning: use_inf_as_na option is deprecated and will be removed in a future version. Convert inf values to NaN before operating instead.\n",
      "  with pd.option_context('mode.use_inf_as_na', True):\n"
     ]
    },
    {
     "data": {
      "image/png": "[encoded data removed]",
      "text/plain": [
       "<Figure size 1200x800 with 1 Axes>"
      ]
     },
     "metadata": {},
     "output_type": "display_data"
    }
   ],
   "source": [
    "import matplotlib.pyplot as plt\n",
    "plt.figure(figsize=(12, 8))\n",
    "\n",
    "sns.lineplot(x='model_year', y='avg_milage', data=avg_mileage_by_year_pdf, marker='o')\n",
    "\n",
    "plt.xlabel('Model Year')\n",
    "plt.ylabel('Average Mileage')\n",
    "plt.title('Average Mileage of Cars by Model Year')\n",
    "\n",
    "plt.xticks(rotation=45)\n",
    "\n",
    "plt.show()\n"
   ]
  },
  {
   "cell_type": "code",
   "execution_count": 20,
   "metadata": {},
   "outputs": [],
   "source": [
    "numerical_data = sorted(numerical_columns)  \n",
    "\n",
    "# Melting the df\n",
    "f = df.selectExpr(\"stack({0}, {1}) as (variable, value)\".format(\n",
    "    len(numerical_data),\n",
    "    \", \".join(f\"'{col}', {col}\" for col in numerical_data)\n",
    "))"
   ]
  },
  {
   "cell_type": "code",
   "execution_count": 21,
   "metadata": {},
   "outputs": [
    {
     "name": "stderr",
     "output_type": "stream",
     "text": [
      "/home/lang_chain/.local/lib/python3.10/site-packages/seaborn/_oldcore.py:1119: FutureWarning: use_inf_as_na option is deprecated and will be removed in a future version. Convert inf values to NaN before operating instead.\n",
      "  with pd.option_context('mode.use_inf_as_na', True):\n",
      "/home/lang_chain/.local/lib/python3.10/site-packages/seaborn/_oldcore.py:1119: FutureWarning: use_inf_as_na option is deprecated and will be removed in a future version. Convert inf values to NaN before operating instead.\n",
      "  with pd.option_context('mode.use_inf_as_na', True):\n",
      "/home/lang_chain/.local/lib/python3.10/site-packages/seaborn/_oldcore.py:1119: FutureWarning: use_inf_as_na option is deprecated and will be removed in a future version. Convert inf values to NaN before operating instead.\n",
      "  with pd.option_context('mode.use_inf_as_na', True):\n"
     ]
    },
    {
     "data": {
      "text/plain": [
       "<Figure size 1500x1000 with 0 Axes>"
      ]
     },
     "metadata": {},
     "output_type": "display_data"
    },
    {
     "data": {
      "image/png": "[encoded data removed]",
      "text/plain": [
       "<Figure size 1200x300 with 3 Axes>"
      ]
     },
     "metadata": {},
     "output_type": "display_data"
    }
   ],
   "source": [
    "pandas_df = f.toPandas()\n",
    "plt.figure(figsize=(15, 10))\n",
    "g = sns.FacetGrid(pandas_df, col='variable', col_wrap=4, sharex=False, sharey=False)\n",
    "g.map(sns.histplot, 'value')\n",
    "plt.show()\n"
   ]
  },
  {
   "cell_type": "code",
   "execution_count": 22,
   "metadata": {},
   "outputs": [
    {
     "name": "stderr",
     "output_type": "stream",
     "text": [
      "/home/lang_chain/.local/lib/python3.10/site-packages/seaborn/axisgrid.py:712: UserWarning: Using the boxplot function without specifying `order` is likely to produce an incorrect plot.\n",
      "  warnings.warn(warning)\n"
     ]
    },
    {
     "data": {
      "image/png": "[encoded data removed]",
      "text/plain": [
       "<Figure size 1200x300 with 3 Axes>"
      ]
     },
     "metadata": {},
     "output_type": "display_data"
    }
   ],
   "source": [
    "g_box = sns.FacetGrid(pandas_df, col='variable', col_wrap=4, sharex=False, sharey=False)\n",
    "g_box.map(sns.boxplot, 'value')\n",
    "plt.subplots_adjust(hspace=0.4)  \n",
    "\n",
    "plt.show()"
   ]
  },
  {
   "cell_type": "code",
   "execution_count": 23,
   "metadata": {},
   "outputs": [],
   "source": [
    "from pyspark.sql.functions import col, when, avg,median,count\n",
    "for col_name in numerical_columns:\n",
    "    null_count = df.filter(col(col_name).isNull()).count()\n",
    "    if null_count > 0:\n",
    "        print(f\"Column '{col_name}' has {null_count} null values.\")"
   ]
  },
  {
   "cell_type": "code",
   "execution_count": 24,
   "metadata": {},
   "outputs": [
    {
     "name": "stdout",
     "output_type": "stream",
     "text": [
      "Column 'fuel_type' has 3383 null values.\n",
      "Column 'accident' has 1632 null values.\n",
      "Column 'clean_title' has 14239 null values.\n"
     ]
    }
   ],
   "source": [
    "for col_name in categorical_columns:\n",
    "    null_count = df.filter(col(col_name).isNull()).count()\n",
    "    if null_count > 0:\n",
    "        print(f\"Column '{col_name}' has {null_count} null values.\")"
   ]
  },
  {
   "cell_type": "code",
   "execution_count": 25,
   "metadata": {},
   "outputs": [
    {
     "name": "stdout",
     "output_type": "stream",
     "text": [
      "No rare features found in 'brand'.\n",
      "Rare features in 'model':\n",
      "Value: Evora 2+2, Count: 1\n",
      "Value: Countryman Cooper S, Count: 1\n",
      "Value: Silverado 3500 High Country, Count: 1\n",
      "Value: Wagoneer Series II 4x4, Count: 1\n",
      "Value: ForTwo Pure, Count: 1\n",
      "Value: Z3 3.0i Roadster, Count: 1\n",
      "Value: X6 sDrive35i, Count: 1\n",
      "Value: X3 xDrive35i, Count: 1\n",
      "Value: Model 3 Standard Range, Count: 1\n",
      "Value: X5 sDrive35i, Count: 1\n",
      "Value: IONIQ Plug-In Hybrid SEL, Count: 1\n",
      "Value: IONIQ 5 SE, Count: 1\n",
      "Value: X5 xDrive40e, Count: 1\n",
      "Value: allroad 2.7T, Count: 1\n",
      "Value: X5 3.0si, Count: 1\n",
      "Value: Countryman Cooper, Count: 1\n",
      "No rare features found in 'fuel_type'.\n",
      "Rare features in 'engine':\n",
      "Value: 208.0HP 3.3L V6 Cylinder Engine Gas/Electric Hybrid, Count: 1\n",
      "Value: 266.0HP 2.5L 4 Cylinder Engine Plug-In Electric/Gas, Count: 1\n",
      "Value: 111.2Ah / FR 70kW / RR 160kW (697V), Count: 1\n",
      "Value: 275.0HP 3.5L V6 Cylinder Engine Flex Fuel Capability, Count: 1\n",
      "Value: 3.2L V6 18V MPFI SOHC, Count: 1\n",
      "Value: 78.0HP 1.2L 3 Cylinder Engine Gasoline Fuel, Count: 1\n",
      "Value: 226.0HP 1.6L 4 Cylinder Engine Gas/Electric Hybrid, Count: 1\n",
      "No rare features found in 'transmission'.\n",
      "No rare features found in 'ext_col'.\n",
      "No rare features found in 'int_col'.\n",
      "No rare features found in 'accident'.\n",
      "No rare features found in 'clean_title'.\n"
     ]
    }
   ],
   "source": [
    "threshold = 2  \n",
    "\n",
    "for feature in categorical_columns:\n",
    "    feature_counts = df.groupBy(feature).agg(count('*').alias('count'))\n",
    "\n",
    "    rare_features = feature_counts.filter(col('count') < threshold)\n",
    "\n",
    "    rare_features_list = rare_features.collect()\n",
    "    if rare_features_list:\n",
    "        print(f\"Rare features in '{feature}':\")\n",
    "        for row in rare_features_list:\n",
    "            print(f\"Value: {row[feature]}, Count: {row['count']}\")\n",
    "    else:\n",
    "        print(f\"No rare features found in '{feature}'.\")"
   ]
  },
  {
   "cell_type": "markdown",
   "metadata": {},
   "source": [
    "there are rare features in Model, engine"
   ]
  },
  {
   "cell_type": "code",
   "execution_count": 26,
   "metadata": {},
   "outputs": [
    {
     "name": "stderr",
     "output_type": "stream",
     "text": [
      "[Stage 106:>                                                        (0 + 5) / 5]\r"
     ]
    },
    {
     "name": "stdout",
     "output_type": "stream",
     "text": [
      "                  id  model_year    milage\n",
      "id          1.000000    0.001341 -0.002239\n",
      "model_year  0.001341    1.000000 -0.675038\n",
      "milage     -0.002239   -0.675038  1.000000\n"
     ]
    },
    {
     "name": "stderr",
     "output_type": "stream",
     "text": [
      "                                                                                \r"
     ]
    }
   ],
   "source": [
    "from pyspark.ml.feature import VectorAssembler\n",
    "from pyspark.ml.stat import Correlation\n",
    "import pandas as pd\n",
    "assembler = VectorAssembler(inputCols=numerical_columns, outputCol=\"features\")\n",
    "vector_df = assembler.transform(df).select(\"features\")\n",
    "correlation_matrix = Correlation.corr(vector_df, \"features\").head()[0]\n",
    "correlation_matrix_np = correlation_matrix.toArray()\n",
    "correlation_df = pd.DataFrame(correlation_matrix_np, columns=numerical_columns, index=numerical_columns)\n",
    "print(correlation_df)"
   ]
  },
  {
   "cell_type": "code",
   "execution_count": 27,
   "metadata": {},
   "outputs": [
    {
     "name": "stdout",
     "output_type": "stream",
     "text": [
      "+---+-----+-----+----------+------+---------+------+------------+-------+-------+--------+-----------+-----+\n",
      "| id|brand|model|model_year|milage|fuel_type|engine|transmission|ext_col|int_col|accident|clean_title|count|\n",
      "+---+-----+-----+----------+------+---------+------+------------+-------+-------+--------+-----------+-----+\n",
      "+---+-----+-----+----------+------+---------+------+------------+-------+-------+--------+-----------+-----+\n",
      "\n"
     ]
    }
   ],
   "source": [
    "duplicates_df = (df\n",
    "    .groupBy(df.columns)  \n",
    "    .agg(F.count('*').alias('count'))\n",
    "    .filter(F.col('count') > 1)\n",
    ")\n",
    "duplicates_df.show()"
   ]
  },
  {
   "cell_type": "code",
   "execution_count": 28,
   "metadata": {},
   "outputs": [
    {
     "name": "stdout",
     "output_type": "stream",
     "text": [
      "+--------------------+-----+\n",
      "|               model|count|\n",
      "+--------------------+-----+\n",
      "|Silverado 3500 Hi...|    1|\n",
      "|           Evora 2+2|    1|\n",
      "| Countryman Cooper S|    1|\n",
      "|Wagoneer Series I...|    1|\n",
      "|         ForTwo Pure|    1|\n",
      "|    Z3 3.0i Roadster|    1|\n",
      "|        X6 sDrive35i|    1|\n",
      "|        X3 xDrive35i|    1|\n",
      "|Model 3 Standard ...|    1|\n",
      "|        X5 sDrive35i|    1|\n",
      "|IONIQ Plug-In Hyb...|    1|\n",
      "|          IONIQ 5 SE|    1|\n",
      "|        X5 xDrive40e|    1|\n",
      "|        allroad 2.7T|    1|\n",
      "|            X5 3.0si|    1|\n",
      "|   Countryman Cooper|    1|\n",
      "|    2 Launch Edition|    2|\n",
      "|GR Corolla Circui...|    2|\n",
      "|        LYRIQ Luxury|    2|\n",
      "|  500X Trekking Plus|    2|\n",
      "|               XLR V|    2|\n",
      "|Pacifica Hybrid T...|    2|\n",
      "|        CT 200h Base|    2|\n",
      "|           Mirage ES|    2|\n",
      "|Sienna XSE 25th A...|    2|\n",
      "|  Prius Plug-in Base|    2|\n",
      "|        Model 3 Base|    2|\n",
      "|     HS 250h Premium|    2|\n",
      "|        X7 xDrive50i|    2|\n",
      "|              STS V6|    2|\n",
      "|            SX4 Base|    3|\n",
      "|         Maverick XL|    3|\n",
      "|Veloster Value Ed...|    3|\n",
      "|500e Battery Elec...|    3|\n",
      "|  Silverado 2500 LTZ|    3|\n",
      "|            9-3 Aero|    3|\n",
      "|          Accent SEL|    3|\n",
      "|     Corolla iM Base|    3|\n",
      "|Veyron 16.4 Grand...|    3|\n",
      "|            XLR Base|    3|\n",
      "|Convertible John ...|    3|\n",
      "|Beetle 2.0T Final...|    3|\n",
      "|            Z4 3.0si|    3|\n",
      "|             X4 M40i|    3|\n",
      "|       Corvette ZR-1|    3|\n",
      "|             S-10 LS|    3|\n",
      "|    Mustang EcoBoost|    3|\n",
      "|         Durango SLT|    3|\n",
      "|        Z Proto Spec|    3|\n",
      "| HUMMER EV Edition 1|    3|\n",
      "|           Sentra SR|    3|\n",
      "|Niro Plug-In Hybr...|    4|\n",
      "+--------------------+-----+\n",
      "only showing top 52 rows\n",
      "\n"
     ]
    }
   ],
   "source": [
    "model_counts = df.groupBy('model').agg(count('model').alias('count')).orderBy('count')\n",
    "model_counts.show(n=52)"
   ]
  },
  {
   "cell_type": "code",
   "execution_count": 29,
   "metadata": {},
   "outputs": [
    {
     "name": "stdout",
     "output_type": "stream",
     "text": [
      "+--------------------+-----+\n",
      "|              engine|count|\n",
      "+--------------------+-----+\n",
      "|208.0HP 3.3L V6 C...|    1|\n",
      "|266.0HP 2.5L 4 Cy...|    1|\n",
      "|111.2Ah / FR 70kW...|    1|\n",
      "|275.0HP 3.5L V6 C...|    1|\n",
      "|3.2L V6 18V MPFI ...|    1|\n",
      "|78.0HP 1.2L 3 Cyl...|    1|\n",
      "|226.0HP 1.6L 4 Cy...|    1|\n",
      "|111.0HP Electric ...|    2|\n",
      "|240.0HP 2.5L 4 Cy...|    2|\n",
      "|182.0HP 2.4L 4 Cy...|    2|\n",
      "|369.0HP 3.0L Stra...|    2|\n",
      "|444.0HP 4.7L 8 Cy...|    2|\n",
      "|317.0HP 5.6L 8 Cy...|    2|\n",
      "|1.6L I4 16V GDI DOHC|    2|\n",
      "|141.0HP 2.0L 4 Cy...|    2|\n",
      "|139.0HP 1.6L 4 Cy...|    2|\n",
      "|134.0HP 1.8L 4 Cy...|    2|\n",
      "|120.0HP 2.2L 4 Cy...|    2|\n",
      "|164.0HP 1.4L 4 Cy...|    2|\n",
      "|70.0HP 1.0L 3 Cyl...|    2|\n",
      "|182.0HP Electric ...|    2|\n",
      "|300.0HP 1.6L 3 Cy...|    3|\n",
      "|197.0HP 1.6L 4 Cy...|    3|\n",
      "|288.0HP 2.0L 4 Cy...|    3|\n",
      "|280.0HP 2.8L V6 C...|    3|\n",
      "|3.8L V6 12V MPFI OHV|    3|\n",
      "|                2.5L|    3|\n",
      "|184.0HP 2.4L 4 Cy...|    3|\n",
      "|139.0HP 1.6L 4 Cy...|    3|\n",
      "|180.0HP 6.5L 8 Cy...|    3|\n",
      "|147.0HP Electric ...|    3|\n",
      "|170.0HP 1.5L 4 Cy...|    3|\n",
      "|417.0HP Electric ...|    3|\n",
      "|161.0HP 2.0L 4 Cy...|    3|\n",
      "|151.0HP 1.5L 4 Cy...|    3|\n",
      "|           1.8 Liter|    3|\n",
      "|137.0HP 1.8L 4 Cy...|    3|\n",
      "|3.0L V6 Cylinder ...|    3|\n",
      "|287.0HP 3.6L V6 C...|    3|\n",
      "|318.0HP 3.3L V6 C...|    3|\n",
      "|322.0HP 2.0L 4 Cy...|    3|\n",
      "|250.0HP 2.7L V6 C...|    3|\n",
      "|145.0HP 1.8L 4 Cy...|    3|\n",
      "|115.0HP Electric ...|    3|\n",
      "|138.0HP 2.0L 4 Cy...|    3|\n",
      "|543.0HP 5.5L 12 C...|    4|\n",
      "|174.0HP 1.5L 4 Cy...|    4|\n",
      "|260.0HP 3.0L Stra...|    4|\n",
      "|6.2L V8 32V MPFI ...|    4|\n",
      "|443.0HP 4.4L 8 Cy...|    4|\n",
      "|239.0HP 3.7L 5 Cy...|    4|\n",
      "|154.0HP 2.7L 5 Cy...|    4|\n",
      "+--------------------+-----+\n",
      "only showing top 52 rows\n",
      "\n"
     ]
    }
   ],
   "source": [
    "engine_counts = df.groupBy('engine').agg(count('engine').alias('count')).orderBy('count') \n",
    "engine_counts.show(n=52)"
   ]
  },
  {
   "cell_type": "code",
   "execution_count": null,
   "metadata": {},
   "outputs": [],
   "source": []
  }
 ],
 "metadata": {
  "kernelspec": {
   "display_name": "Python 3",
   "language": "python",
   "name": "python3"
  },
  "language_info": {
   "codemirror_mode": {
    "name": "ipython",
    "version": 3
   },
   "file_extension": ".py",
   "mimetype": "text/x-python",
   "name": "python",
   "nbconvert_exporter": "python",
   "pygments_lexer": "ipython3",
   "version": "3.10.0"
  }
 },
 "nbformat": 4,
 "nbformat_minor": 2
}
