{
 "cells": [
  {
   "cell_type": "code",
   "execution_count": 1,
   "metadata": {},
   "outputs": [],
   "source": [
    "from pyspark.sql import SparkSession\n",
    "from pyspark.sql.functions import when, col, count\n"
   ]
  },
  {
   "cell_type": "code",
   "execution_count": 2,
   "metadata": {},
   "outputs": [
    {
     "name": "stderr",
     "output_type": "stream",
     "text": [
      "24/09/10 19:57:33 WARN Utils: Your hostname, langchain resolves to a loopback address: 127.0.1.1; using 192.168.0.103 instead (on interface wlp3s0)\n",
      "24/09/10 19:57:33 WARN Utils: Set SPARK_LOCAL_IP if you need to bind to another address\n",
      "Setting default log level to \"WARN\".\n",
      "To adjust logging level use sc.setLogLevel(newLevel). For SparkR, use setLogLevel(newLevel).\n",
      "24/09/10 19:57:33 WARN NativeCodeLoader: Unable to load native-hadoop library for your platform... using builtin-java classes where applicable\n",
      "24/09/10 19:57:34 WARN Utils: Service 'SparkUI' could not bind on port 4040. Attempting port 4041.\n"
     ]
    }
   ],
   "source": [
    "spark = SparkSession.builder.master('local[*]').appName('used-car-price').config('spark.executor.memory', '6g').getOrCreate()"
   ]
  },
  {
   "cell_type": "code",
   "execution_count": 3,
   "metadata": {},
   "outputs": [
    {
     "name": "stderr",
     "output_type": "stream",
     "text": [
      "24/09/10 19:57:35 WARN SparkSession: Using an existing Spark session; only runtime SQL configurations will take effect.\n"
     ]
    }
   ],
   "source": [
    "spark = SparkSession.builder.master('local[*]').appName('used-car-price')\\\n",
    ".config(\"spark.executor.instances\", \"1\")\\\n",
    ".config(\"spark.executor.memory\", \"6g\")\\\n",
    ".config(\"spark.driver.memory\", \"6g\")\\\n",
    ".config(\"spark.executor.memoryOverhead\", \"8g\")\\\n",
    ".getOrCreate()"
   ]
  },
  {
   "cell_type": "code",
   "execution_count": 4,
   "metadata": {},
   "outputs": [
    {
     "name": "stderr",
     "output_type": "stream",
     "text": [
      "                                                                                \r"
     ]
    }
   ],
   "source": [
    "csv_file_path = '../data/train.csv'\n",
    "df = spark.read.csv(csv_file_path, header=True, inferSchema=True)"
   ]
  },
  {
   "cell_type": "code",
   "execution_count": 5,
   "metadata": {},
   "outputs": [
    {
     "name": "stdout",
     "output_type": "stream",
     "text": [
      "+---+-------------+--------------------+----------+------+-------------+--------------------+--------------------+--------------------+-------+--------------------+-----------+-----+\n",
      "| id|        brand|               model|model_year|milage|    fuel_type|              engine|        transmission|             ext_col|int_col|            accident|clean_title|price|\n",
      "+---+-------------+--------------------+----------+------+-------------+--------------------+--------------------+--------------------+-------+--------------------+-----------+-----+\n",
      "|  0|         MINI|       Cooper S Base|      2007|213000|     Gasoline|172.0HP 1.6L 4 Cy...|                 A/T|              Yellow|   Gray|       None reported|        Yes| 4200|\n",
      "|  1|      Lincoln|               LS V8|      2002|143250|     Gasoline|252.0HP 3.9L 8 Cy...|                 A/T|              Silver|  Beige|At least 1 accide...|        Yes| 4999|\n",
      "|  2|    Chevrolet|   Silverado 2500 LT|      2002|136731|E85 Flex Fuel|320.0HP 5.3L 8 Cy...|                 A/T|                Blue|   Gray|       None reported|        Yes|13900|\n",
      "|  3|      Genesis|    G90 5.0 Ultimate|      2017| 19500|     Gasoline|420.0HP 5.0L 8 Cy...|Transmission w/Du...|               Black|  Black|       None reported|        Yes|45000|\n",
      "|  4|Mercedes-Benz|         Metris Base|      2021|  7388|     Gasoline|208.0HP 2.0L 4 Cy...|         7-Speed A/T|               Black|  Beige|       None reported|        Yes|97500|\n",
      "|  5|         Audi|       A6 2.0T Sport|      2018| 40950|     Gasoline|252.0HP 2.0L 4 Cy...|                 A/T|               White|      –|       None reported|        Yes|29950|\n",
      "|  6|         Audi|           A8 L 3.0T|      2016| 62200|     Gasoline|333.0HP 3.0L V6 C...|         8-Speed A/T|               Black|  Black|       None reported|        Yes|28500|\n",
      "|  7|    Chevrolet|  Silverado 1500 1LZ|      2016|102604|E85 Flex Fuel|355.0HP 5.3L 8 Cy...|                 A/T|               White|   Gray|       None reported|        Yes|12500|\n",
      "|  8|         Ford|           F-150 XLT|      2020| 38352|     Gasoline|2.7L V6 24V PDI D...|  10-Speed Automatic|Snowflake White P...|  Black|       None reported|        Yes|62890|\n",
      "|  9|          BMW|             M4 Base|      2015| 74850|     Gasoline|425.0HP 3.0L Stra...|Transmission w/Du...|               Black|   Blue|       None reported|        Yes| 4000|\n",
      "| 10|    Chevrolet|          Camaro 1LT|      2011|212500|     Gasoline|312.0HP 3.6L V6 C...|                 A/T|                Blue|   Gray|At least 1 accide...|        Yes| 7950|\n",
      "| 11|        Tesla|       Model S P100D|      2015| 81500|         NULL|Electric Motor El...|         1-Speed A/T|                Gray|  White|       None reported|        Yes|19000|\n",
      "| 12|     Cadillac|Escalade ESV Plat...|      2017| 93971|     Gasoline|420.0HP 6.2L 8 Cy...|         6-Speed A/T|               White|  Black|       None reported|        Yes|51500|\n",
      "| 13|         Audi|S4 3.0T Premium Plus|      2013| 60000|     Gasoline|333.0HP 3.0L V6 C...|                 A/T|               Black|  Black|At least 1 accide...|        Yes|12300|\n",
      "| 14|         Land|Rover Range Rover...|      2023| 20000|     Gasoline|523.0HP 4.4L 8 Cy...|                 A/T|               Black|  Black|       None reported|        Yes|56900|\n",
      "| 15|Mercedes-Benz|          AMG C 63 S|      2017| 41500|     Gasoline|503.0HP 4.0L 8 Cy...|         7-Speed A/T|               White|  Black|       None reported|        Yes|44900|\n",
      "| 16|          GMC|        Yukon Denali|      2021| 15000|     Gasoline|420.0HP 6.2L 8 Cy...|        10-Speed A/T|               Green|  Beige|       None reported|        Yes|68500|\n",
      "| 17|         Land|   Rover Defender SE|      2021| 46100|       Hybrid|395.0HP 3.0L Stra...|         8-Speed A/T|                Gray|  Black|       None reported|        Yes|55000|\n",
      "| 18|       Toyota|          Tundra SR5|      2011|153250|     Gasoline|310.0HP 4.6L 8 Cy...|         7-Speed A/T|                Gray|   Gray|At least 1 accide...|        Yes| 9999|\n",
      "| 19|Mercedes-Benz|       AMG C 63 Base|      2019| 16002|     Gasoline|469.0HP 4.0L 8 Cy...|         9-Speed A/T|               White|    Red|At least 1 accide...|        Yes|46900|\n",
      "+---+-------------+--------------------+----------+------+-------------+--------------------+--------------------+--------------------+-------+--------------------+-----------+-----+\n",
      "only showing top 20 rows\n",
      "\n"
     ]
    }
   ],
   "source": [
    "df.show()"
   ]
  },
  {
   "cell_type": "code",
   "execution_count": 6,
   "metadata": {},
   "outputs": [],
   "source": [
    "# engine_counts = df.groupBy('engine').agg(count('model').alias('count'))\n",
    "# df = df.join(engine_counts, on='engine', how='left')\n",
    "# df = df.withColumn('engine', when(col('count') == 1, 'Rare_engine').otherwise(col('engine')))\n",
    "# df = df.drop('count')"
   ]
  },
  {
   "cell_type": "code",
   "execution_count": 7,
   "metadata": {},
   "outputs": [],
   "source": [
    "# engine_counts = df.groupBy('engine').agg(count('engine').alias('count')).orderBy('count')\n",
    "# engine_counts.filter(col('count') > 7).show(n=52)"
   ]
  },
  {
   "cell_type": "code",
   "execution_count": 8,
   "metadata": {},
   "outputs": [],
   "source": [
    "from pyspark.sql.functions import udf\n",
    "from pyspark.sql.types import StringType\n",
    "import re\n",
    "from pyspark.sql import functions as F\n",
    "\n",
    "def clean_engine(engine):\n",
    "    engine = re.sub(r\"[^a-zA-Z0-9\\s]\", \"\", engine)\n",
    "    return engine\n",
    "\n",
    "clean_engine_udf = udf(clean_engine, StringType())\n",
    "df = df.withColumn(\"engine\", clean_engine_udf(F.col(\"engine\")))\n"
   ]
  },
  {
   "cell_type": "code",
   "execution_count": 9,
   "metadata": {},
   "outputs": [
    {
     "data": {
      "text/plain": [
       "['id',\n",
       " 'brand',\n",
       " 'model',\n",
       " 'model_year',\n",
       " 'milage',\n",
       " 'fuel_type',\n",
       " 'engine',\n",
       " 'transmission',\n",
       " 'ext_col',\n",
       " 'int_col',\n",
       " 'accident',\n",
       " 'clean_title',\n",
       " 'price']"
      ]
     },
     "execution_count": 9,
     "metadata": {},
     "output_type": "execute_result"
    }
   ],
   "source": [
    "df.columns"
   ]
  },
  {
   "cell_type": "code",
   "execution_count": 10,
   "metadata": {},
   "outputs": [],
   "source": [
    "# model_counts = df.groupBy('model').agg(count('model').alias('count'))\n",
    "# df = df.join(model_counts, on='model', how='left')\n",
    "# df = df.withColumn('model', when(col('count') == 1, 'Rare_model').otherwise(col('model')))\n",
    "# df = df.drop('count')"
   ]
  },
  {
   "cell_type": "code",
   "execution_count": 11,
   "metadata": {},
   "outputs": [],
   "source": [
    "# model_counts = df.groupBy('model').agg(count('model').alias('count')).orderBy('count')\n",
    "# model_counts.filter(col('count') > 3).show(n=52)"
   ]
  },
  {
   "cell_type": "code",
   "execution_count": 12,
   "metadata": {},
   "outputs": [],
   "source": [
    "from pyspark.sql.functions import col, when,regexp_replace,lower\n",
    "df = df.withColumn(\n",
    "    \"transmission\",\n",
    "    when(col(\"transmission\").contains(\"At/Mt\") | col(\"transmission\").contains(\"AT/MT\"), \n",
    "          regexp_replace(col(\"transmission\"), \"AT/MT|At/Mt\", \"automatic/manual\"))\n",
    "    .when(col(\"transmission\").contains(\"A/T\") | col(\"transmission\").contains(\"AT\"), \n",
    "         regexp_replace(col(\"transmission\"), \"A/T|AT\", \"automatic\"))\n",
    "    .when(col(\"transmission\").contains(\"Mt\") | col(\"transmission\").contains(\"M/T\"), \n",
    "          regexp_replace(col(\"transmission\"), \"Mt|M/T\", \"manual\"))\n",
    "    \n",
    "    .when(col(\"transmission\").contains(\"F\"), \"single-speed fixed gear\")\n",
    "    .when(col(\"transmission\").contains(\"DCT\"), \"dual clutch automatic\")\n",
    "    .when(col(\"transmission\").contains(\"CVT\"), \"continuously variable transmission\")\n",
    "    .when(col(\"transmission\").contains(\"5-Speed M/T\"), \"5-Speed manual\")\n",
    "    .otherwise(col(\"transmission\"))\n",
    ")"
   ]
  },
  {
   "cell_type": "code",
   "execution_count": 13,
   "metadata": {},
   "outputs": [],
   "source": [
    "df = df.withColumn(\"transmission\", lower(col(\"transmission\")))"
   ]
  },
  {
   "cell_type": "code",
   "execution_count": 14,
   "metadata": {},
   "outputs": [
    {
     "name": "stdout",
     "output_type": "stream",
     "text": [
      "+--------------------------------------------------+-----+\n",
      "|transmission                                      |count|\n",
      "+--------------------------------------------------+-----+\n",
      "|dual clutch automatic                             |18   |\n",
      "|6 speed automatic/manual                          |20   |\n",
      "|6-speed                                           |27   |\n",
      "|8-speed manual                                    |28   |\n",
      "|7-speed                                           |29   |\n",
      "|6-speed electronically controlled automatic with o|31   |\n",
      "|9-speed automatic with auto-shift                 |33   |\n",
      "|6 speed manual                                    |37   |\n",
      "|10-speed automatic with overdrive                 |40   |\n",
      "|variable                                          |66   |\n",
      "|–                                                 |87   |\n",
      "|2                                                 |91   |\n",
      "|2-speed automatic                                 |93   |\n",
      "|single-speed fixed gear                           |102  |\n",
      "|6-speed automatic with auto-shift                 |111  |\n",
      "|transmission overdrive switch                     |156  |\n",
      "|7-speed manual                                    |506  |\n",
      "|8-speed automatic with auto-shift                 |549  |\n",
      "|7-speed automatic with auto-shift                 |1172 |\n",
      "|manual                                            |1206 |\n",
      "+--------------------------------------------------+-----+\n",
      "only showing top 20 rows\n",
      "\n"
     ]
    }
   ],
   "source": [
    "df.groupBy(\"transmission\").agg(F.count(\"*\").alias(\"count\")).orderBy(\"count\").show(truncate=False)"
   ]
  },
  {
   "cell_type": "code",
   "execution_count": 15,
   "metadata": {},
   "outputs": [
    {
     "name": "stdout",
     "output_type": "stream",
     "text": [
      "+----------------------------------+-----+\n",
      "|transmission                      |count|\n",
      "+----------------------------------+-----+\n",
      "|automatic                         |60595|\n",
      "|8-speed automatic                 |29096|\n",
      "|6-speed automatic                 |20843|\n",
      "|transmission w/dual shift mode    |19255|\n",
      "|6-speed manual                    |12209|\n",
      "|7-speed automatic                 |11302|\n",
      "|10-speed automatic                |11208|\n",
      "|9-speed automatic                 |6191 |\n",
      "|5-speed automatic                 |3376 |\n",
      "|continuously variable transmission|2819 |\n",
      "|4-speed automatic                 |2594 |\n",
      "|5-speed manual                    |2409 |\n",
      "|1-speed automatic                 |2234 |\n",
      "|manual                            |1206 |\n",
      "|7-speed automatic with auto-shift |1172 |\n",
      "|8-speed automatic with auto-shift |549  |\n",
      "|7-speed manual                    |506  |\n",
      "|transmission overdrive switch     |156  |\n",
      "|6-speed automatic with auto-shift |111  |\n",
      "|single-speed fixed gear           |102  |\n",
      "+----------------------------------+-----+\n",
      "only showing top 20 rows\n",
      "\n"
     ]
    }
   ],
   "source": [
    "df.groupBy(\"transmission\").agg(F.count(\"*\").alias(\"count\")).orderBy(\"count\", ascending=False).show(truncate=False)"
   ]
  },
  {
   "cell_type": "code",
   "execution_count": 16,
   "metadata": {},
   "outputs": [
    {
     "data": {
      "image/png": "[encoded data removed]",
      "text/plain": [
       "<Figure size 1000x600 with 1 Axes>"
      ]
     },
     "metadata": {},
     "output_type": "display_data"
    }
   ],
   "source": [
    "import matplotlib.pyplot as plt\n",
    "import seaborn as sns\n",
    "from pyspark.sql.functions import col\n",
    "\n",
    "filtered_df = df.filter(col(\"transmission\").isin(\"–\", \"2\", \"variable\"))\n",
    "pandas_df = filtered_df.select(\"transmission\", \"price\").toPandas()\n",
    "\n",
    "plt.figure(figsize=(10, 6))\n",
    "sns.boxplot(x='transmission', y='price', data=pandas_df)\n",
    "plt.title('Price Distribution by Transmission Type')\n",
    "plt.xlabel('Transmission')\n",
    "plt.ylabel('Price')\n",
    "plt.xticks(rotation=45)\n",
    "plt.show()\n"
   ]
  },
  {
   "cell_type": "code",
   "execution_count": 17,
   "metadata": {},
   "outputs": [
    {
     "name": "stdout",
     "output_type": "stream",
     "text": [
      "                    sum_sq     df          F        PR(>F)\n",
      "transmission  6.695251e+11    2.0  18.739447  2.726361e-08\n",
      "Residual      4.305238e+12  241.0        NaN           NaN\n"
     ]
    }
   ],
   "source": [
    "import statsmodels.api as sm\n",
    "from statsmodels.formula.api import ols\n",
    "filtered_df = df.filter(col(\"transmission\").isin(\"–\", \"2\", \"variable\"))\n",
    "pandas_filtered_df = filtered_df.select(\"transmission\", \"price\").toPandas()\n",
    "\n",
    "model = ols('price ~ transmission', data=pandas_filtered_df).fit()\n",
    "anova_table = sm.stats.anova_lm(model, typ=2)\n",
    "\n",
    "print(anova_table)\n"
   ]
  },
  {
   "cell_type": "markdown",
   "metadata": {},
   "source": [
    "It could be better to treat these features separately rather than grouping them into an unknown category."
   ]
  },
  {
   "cell_type": "markdown",
   "metadata": {},
   "source": [
    "The ANOVA test shows that the transmission feature has a statistically significant impact on price since the p-value is \n",
    "well below the standard threshold of 0.05. This means that \"–\", \"2\", and \"variable\" do contribute to differences in the \n",
    "price, and grouping them as \"unknown\" could result in information loss."
   ]
  },
  {
   "cell_type": "code",
   "execution_count": 18,
   "metadata": {},
   "outputs": [
    {
     "name": "stdout",
     "output_type": "stream",
     "text": [
      "+--------------------+\n",
      "|        transmission|\n",
      "+--------------------+\n",
      "|6-speed electroni...|\n",
      "|6 speed automatic...|\n",
      "|   5-speed automatic|\n",
      "|7-speed automatic...|\n",
      "|            variable|\n",
      "|  10-speed automatic|\n",
      "|   2-speed automatic|\n",
      "|           automatic|\n",
      "|             7-speed|\n",
      "|10-speed automati...|\n",
      "|      7-speed manual|\n",
      "|single-speed fixe...|\n",
      "|   6-speed automatic|\n",
      "|transmission over...|\n",
      "|9-speed automatic...|\n",
      "|   8-speed automatic|\n",
      "|              manual|\n",
      "|      5-speed manual|\n",
      "|      6 speed manual|\n",
      "|      8-speed manual|\n",
      "+--------------------+\n",
      "only showing top 20 rows\n",
      "\n"
     ]
    }
   ],
   "source": [
    "df = df.withColumn(\n",
    "    \"transmission\",\n",
    "    when(col(\"transmission\") == \"–\", \"unknown-transmission\")\n",
    "    .otherwise(col(\"transmission\"))\n",
    ")\n",
    "\n",
    "df.select('transmission').distinct().show()"
   ]
  },
  {
   "cell_type": "code",
   "execution_count": 19,
   "metadata": {},
   "outputs": [],
   "source": [
    "# df = df.withColumn(\n",
    "#     \"transmission\",\n",
    "#     when(col(\"transmission\").isin(\"unknown-transmission\", \"2\",\"variable\"), \"unknown\")  \n",
    "#     .otherwise(col(\"transmission\"))\n",
    "# )\n"
   ]
  },
  {
   "cell_type": "code",
   "execution_count": 20,
   "metadata": {},
   "outputs": [
    {
     "name": "stdout",
     "output_type": "stream",
     "text": [
      "+--------------------+\n",
      "|        transmission|\n",
      "+--------------------+\n",
      "|6-speed electroni...|\n",
      "|6 speed automatic...|\n",
      "|   5-speed automatic|\n",
      "|7-speed automatic...|\n",
      "|            variable|\n",
      "|  10-speed automatic|\n",
      "|   2-speed automatic|\n",
      "|           automatic|\n",
      "|             7-speed|\n",
      "|10-speed automati...|\n",
      "|      7-speed manual|\n",
      "|single-speed fixe...|\n",
      "|   6-speed automatic|\n",
      "|transmission over...|\n",
      "|9-speed automatic...|\n",
      "|   8-speed automatic|\n",
      "|              manual|\n",
      "|      5-speed manual|\n",
      "|      6 speed manual|\n",
      "|      8-speed manual|\n",
      "+--------------------+\n",
      "only showing top 20 rows\n",
      "\n"
     ]
    }
   ],
   "source": [
    "\n",
    "df.select('transmission').distinct().show()"
   ]
  },
  {
   "cell_type": "code",
   "execution_count": 21,
   "metadata": {},
   "outputs": [
    {
     "name": "stdout",
     "output_type": "stream",
     "text": [
      "+---+-------------+--------------------+----------+------+-------------+--------------------+--------------------+--------------------+-------+--------------------+-----------+-----+\n",
      "| id|        brand|               model|model_year|milage|    fuel_type|              engine|        transmission|             ext_col|int_col|            accident|clean_title|price|\n",
      "+---+-------------+--------------------+----------+------+-------------+--------------------+--------------------+--------------------+-------+--------------------+-----------+-----+\n",
      "|  0|         MINI|       Cooper S Base|      2007|213000|     Gasoline|1720HP 16L 4 Cyli...|           automatic|              Yellow|   Gray|       None reported|        Yes| 4200|\n",
      "|  1|      Lincoln|               LS V8|      2002|143250|     Gasoline|2520HP 39L 8 Cyli...|           automatic|              Silver|  Beige|At least 1 accide...|        Yes| 4999|\n",
      "|  2|    Chevrolet|   Silverado 2500 LT|      2002|136731|E85 Flex Fuel|3200HP 53L 8 Cyli...|           automatic|                Blue|   Gray|       None reported|        Yes|13900|\n",
      "|  3|      Genesis|    G90 5.0 Ultimate|      2017| 19500|     Gasoline|4200HP 50L 8 Cyli...|transmission w/du...|               Black|  Black|       None reported|        Yes|45000|\n",
      "|  4|Mercedes-Benz|         Metris Base|      2021|  7388|     Gasoline|2080HP 20L 4 Cyli...|   7-speed automatic|               Black|  Beige|       None reported|        Yes|97500|\n",
      "|  5|         Audi|       A6 2.0T Sport|      2018| 40950|     Gasoline|2520HP 20L 4 Cyli...|           automatic|               White|      –|       None reported|        Yes|29950|\n",
      "|  6|         Audi|           A8 L 3.0T|      2016| 62200|     Gasoline|3330HP 30L V6 Cyl...|   8-speed automatic|               Black|  Black|       None reported|        Yes|28500|\n",
      "|  7|    Chevrolet|  Silverado 1500 1LZ|      2016|102604|E85 Flex Fuel|3550HP 53L 8 Cyli...|           automatic|               White|   Gray|       None reported|        Yes|12500|\n",
      "|  8|         Ford|           F-150 XLT|      2020| 38352|     Gasoline|27L V6 24V PDI DO...|  10-speed automatic|Snowflake White P...|  Black|       None reported|        Yes|62890|\n",
      "|  9|          BMW|             M4 Base|      2015| 74850|     Gasoline|4250HP 30L Straig...|transmission w/du...|               Black|   Blue|       None reported|        Yes| 4000|\n",
      "| 10|    Chevrolet|          Camaro 1LT|      2011|212500|     Gasoline|3120HP 36L V6 Cyl...|           automatic|                Blue|   Gray|At least 1 accide...|        Yes| 7950|\n",
      "| 11|        Tesla|       Model S P100D|      2015| 81500|         NULL|Electric Motor El...|   1-speed automatic|                Gray|  White|       None reported|        Yes|19000|\n",
      "| 12|     Cadillac|Escalade ESV Plat...|      2017| 93971|     Gasoline|4200HP 62L 8 Cyli...|   6-speed automatic|               White|  Black|       None reported|        Yes|51500|\n",
      "| 13|         Audi|S4 3.0T Premium Plus|      2013| 60000|     Gasoline|3330HP 30L V6 Cyl...|           automatic|               Black|  Black|At least 1 accide...|        Yes|12300|\n",
      "| 14|         Land|Rover Range Rover...|      2023| 20000|     Gasoline|5230HP 44L 8 Cyli...|           automatic|               Black|  Black|       None reported|        Yes|56900|\n",
      "| 15|Mercedes-Benz|          AMG C 63 S|      2017| 41500|     Gasoline|5030HP 40L 8 Cyli...|   7-speed automatic|               White|  Black|       None reported|        Yes|44900|\n",
      "| 16|          GMC|        Yukon Denali|      2021| 15000|     Gasoline|4200HP 62L 8 Cyli...|  10-speed automatic|               Green|  Beige|       None reported|        Yes|68500|\n",
      "| 17|         Land|   Rover Defender SE|      2021| 46100|       Hybrid|3950HP 30L Straig...|   8-speed automatic|                Gray|  Black|       None reported|        Yes|55000|\n",
      "| 18|       Toyota|          Tundra SR5|      2011|153250|     Gasoline|3100HP 46L 8 Cyli...|   7-speed automatic|                Gray|   Gray|At least 1 accide...|        Yes| 9999|\n",
      "| 19|Mercedes-Benz|       AMG C 63 Base|      2019| 16002|     Gasoline|4690HP 40L 8 Cyli...|   9-speed automatic|               White|    Red|At least 1 accide...|        Yes|46900|\n",
      "+---+-------------+--------------------+----------+------+-------------+--------------------+--------------------+--------------------+-------+--------------------+-----------+-----+\n",
      "only showing top 20 rows\n",
      "\n"
     ]
    },
    {
     "name": "stderr",
     "output_type": "stream",
     "text": [
      "                                                                                \r"
     ]
    }
   ],
   "source": [
    "df.show()"
   ]
  },
  {
   "cell_type": "code",
   "execution_count": 22,
   "metadata": {},
   "outputs": [
    {
     "name": "stdout",
     "output_type": "stream",
     "text": [
      "+----------------------------------+-----+\n",
      "|transmission                      |count|\n",
      "+----------------------------------+-----+\n",
      "|automatic                         |60595|\n",
      "|8-speed automatic                 |29096|\n",
      "|6-speed automatic                 |20843|\n",
      "|transmission w/dual shift mode    |19255|\n",
      "|6-speed manual                    |12209|\n",
      "|7-speed automatic                 |11302|\n",
      "|10-speed automatic                |11208|\n",
      "|9-speed automatic                 |6191 |\n",
      "|5-speed automatic                 |3376 |\n",
      "|continuously variable transmission|2819 |\n",
      "|4-speed automatic                 |2594 |\n",
      "|5-speed manual                    |2409 |\n",
      "|1-speed automatic                 |2234 |\n",
      "|manual                            |1206 |\n",
      "|7-speed automatic with auto-shift |1172 |\n",
      "|8-speed automatic with auto-shift |549  |\n",
      "|7-speed manual                    |506  |\n",
      "|transmission overdrive switch     |156  |\n",
      "|6-speed automatic with auto-shift |111  |\n",
      "|single-speed fixed gear           |102  |\n",
      "+----------------------------------+-----+\n",
      "only showing top 20 rows\n",
      "\n"
     ]
    }
   ],
   "source": [
    "df.groupBy(\"transmission\").agg(F.count(\"*\").alias(\"count\")).orderBy(\"count\", ascending=False).show(truncate=False)"
   ]
  },
  {
   "cell_type": "code",
   "execution_count": 23,
   "metadata": {},
   "outputs": [
    {
     "name": "stdout",
     "output_type": "stream",
     "text": [
      "+--------------------+-----+\n",
      "|        transmission|count|\n",
      "+--------------------+-----+\n",
      "|dual clutch autom...|   18|\n",
      "|6 speed automatic...|   20|\n",
      "|             6-speed|   27|\n",
      "|      8-speed manual|   28|\n",
      "|             7-speed|   29|\n",
      "|6-speed electroni...|   31|\n",
      "|9-speed automatic...|   33|\n",
      "|      6 speed manual|   37|\n",
      "|10-speed automati...|   40|\n",
      "|            variable|   66|\n",
      "|unknown-transmission|   87|\n",
      "|                   2|   91|\n",
      "|   2-speed automatic|   93|\n",
      "|single-speed fixe...|  102|\n",
      "|6-speed automatic...|  111|\n",
      "|transmission over...|  156|\n",
      "|      7-speed manual|  506|\n",
      "|8-speed automatic...|  549|\n",
      "|7-speed automatic...| 1172|\n",
      "|              manual| 1206|\n",
      "+--------------------+-----+\n",
      "only showing top 20 rows\n",
      "\n"
     ]
    }
   ],
   "source": [
    "df.groupBy('transmission').agg(count('transmission').alias('count')).orderBy('count').show()"
   ]
  },
  {
   "cell_type": "code",
   "execution_count": 24,
   "metadata": {},
   "outputs": [
    {
     "name": "stdout",
     "output_type": "stream",
     "text": [
      "+--------------------+\n",
      "|            accident|\n",
      "+--------------------+\n",
      "|At least 1 accide...|\n",
      "|       None reported|\n",
      "|                NULL|\n",
      "+--------------------+\n",
      "\n"
     ]
    }
   ],
   "source": [
    "df.select('accident').distinct().show()"
   ]
  },
  {
   "cell_type": "code",
   "execution_count": 25,
   "metadata": {},
   "outputs": [
    {
     "name": "stdout",
     "output_type": "stream",
     "text": [
      "Number of null rows in 'accident' column: 2452\n"
     ]
    }
   ],
   "source": [
    "null_count = df.filter(col(\"accident\").isNull()).count()\n",
    "print(f\"Number of null rows in 'accident' column: {null_count}\")"
   ]
  },
  {
   "cell_type": "code",
   "execution_count": 26,
   "metadata": {},
   "outputs": [],
   "source": [
    "# df = df.fillna({\"accident\": \"unknown_accident\"})\n",
    "# null_count = df.filter(col(\"accident\").isNull()).count()\n",
    "# print(f\"Number of null rows in 'accident' column: {null_count}\")\n"
   ]
  },
  {
   "cell_type": "code",
   "execution_count": 27,
   "metadata": {},
   "outputs": [
    {
     "name": "stdout",
     "output_type": "stream",
     "text": [
      "+---------------+\n",
      "|       accident|\n",
      "+---------------+\n",
      "|  None reported|\n",
      "|damage reported|\n",
      "|           NULL|\n",
      "+---------------+\n",
      "\n"
     ]
    }
   ],
   "source": [
    "\n",
    "df = df.withColumn(\n",
    "    \"accident\",\n",
    "    when(col(\"accident\") == \"At least 1 accident or damage reported\", \"damage reported\")\n",
    "    .otherwise(col(\"accident\"))\n",
    ")\n",
    "df.select('accident').distinct().show()"
   ]
  },
  {
   "cell_type": "code",
   "execution_count": 28,
   "metadata": {},
   "outputs": [
    {
     "name": "stdout",
     "output_type": "stream",
     "text": [
      "Number of null rows in 'fuel_type' column: 5083\n"
     ]
    }
   ],
   "source": [
    "null_count = df.filter(col(\"fuel_type\").isNull()).count()\n",
    "print(f\"Number of null rows in 'fuel_type' column: {null_count}\")"
   ]
  },
  {
   "cell_type": "code",
   "execution_count": 29,
   "metadata": {},
   "outputs": [],
   "source": [
    "# df = df.fillna({\"fuel_type\": \"unknown_fuel\"})\n",
    "# null_count = df.filter(col(\"fuel_type\").isNull()).count()\n",
    "# print(f\"Number of null rows in 'fuel_type' column: {null_count}\")\n"
   ]
  },
  {
   "cell_type": "code",
   "execution_count": 30,
   "metadata": {},
   "outputs": [
    {
     "data": {
      "image/png": "[encoded data removed]",
      "text/plain": [
       "<Figure size 1500x600 with 1 Axes>"
      ]
     },
     "metadata": {},
     "output_type": "display_data"
    }
   ],
   "source": [
    "avg_price_df = df.groupBy('fuel_type').agg(F.mean('price').alias('avg_price'))\n",
    "avg_price_pdf = avg_price_df.toPandas()\n",
    "\n",
    "plt.figure(figsize=(15, 6)) \n",
    "sns.barplot(x='fuel_type', y='avg_price', data=avg_price_pdf)\n",
    "\n",
    "plt.xlabel('fuel Type')\n",
    "plt.ylabel('average  Price')\n",
    "plt.title('average Price by fuel Type')\n",
    "plt.xticks(rotation=45, ha='right')  \n",
    "\n",
    "plt.show()"
   ]
  },
  {
   "cell_type": "code",
   "execution_count": 31,
   "metadata": {},
   "outputs": [
    {
     "name": "stdout",
     "output_type": "stream",
     "text": [
      "+--------------+\n",
      "|     fuel_type|\n",
      "+--------------+\n",
      "|      Gasoline|\n",
      "| E85 Flex Fuel|\n",
      "|        Diesel|\n",
      "|             –|\n",
      "|        Hybrid|\n",
      "|Plug-In Hybrid|\n",
      "| not supported|\n",
      "|          NULL|\n",
      "+--------------+\n",
      "\n"
     ]
    }
   ],
   "source": [
    "df.select('fuel_type').distinct().show()"
   ]
  },
  {
   "cell_type": "code",
   "execution_count": 32,
   "metadata": {},
   "outputs": [
    {
     "name": "stdout",
     "output_type": "stream",
     "text": [
      "+-----------------+\n",
      "|        fuel_type|\n",
      "+-----------------+\n",
      "|         Gasoline|\n",
      "|    E85 Flex Fuel|\n",
      "|           Diesel|\n",
      "|           Hybrid|\n",
      "|   Plug-In Hybrid|\n",
      "|unknown-name-fuel|\n",
      "|    not supported|\n",
      "|             NULL|\n",
      "+-----------------+\n",
      "\n"
     ]
    }
   ],
   "source": [
    "df = df.withColumn(\n",
    "    \"fuel_type\",\n",
    "    when(col(\"fuel_type\") == \"–\", \"unknown-name-fuel\")\n",
    "    .otherwise(col(\"fuel_type\"))\n",
    ")\n",
    "\n",
    "df.select('fuel_type').distinct().show()"
   ]
  },
  {
   "cell_type": "code",
   "execution_count": 33,
   "metadata": {},
   "outputs": [
    {
     "name": "stdout",
     "output_type": "stream",
     "text": [
      "+-----------+\n",
      "|clean_title|\n",
      "+-----------+\n",
      "|        Yes|\n",
      "|       NULL|\n",
      "+-----------+\n",
      "\n"
     ]
    }
   ],
   "source": [
    "df.select('clean_title').distinct().show()"
   ]
  },
  {
   "cell_type": "code",
   "execution_count": 34,
   "metadata": {},
   "outputs": [
    {
     "data": {
      "text/plain": [
       "21419"
      ]
     },
     "execution_count": 34,
     "metadata": {},
     "output_type": "execute_result"
    }
   ],
   "source": [
    "df.filter(col('clean_title').isNull()).count()"
   ]
  },
  {
   "cell_type": "code",
   "execution_count": 35,
   "metadata": {},
   "outputs": [],
   "source": [
    "# df = df.fillna({\"clean_title\": \"unknown_title\"})\n",
    "# null_count = df.filter(col(\"clean_title\").isNull()).count()\n",
    "# print(f\"Number of null rows in 'clean_title' column: {null_count}\")"
   ]
  },
  {
   "cell_type": "code",
   "execution_count": 36,
   "metadata": {},
   "outputs": [],
   "source": [
    "def remove_outliers_iqr(df, column):\n",
    "\n",
    "    Q1 = df.approxQuantile(column, [0.25], 0.01)[0]\n",
    "    Q3 = df.approxQuantile(column, [0.75], 0.01)[0]\n",
    "    IQR = Q3 - Q1\n",
    "\n",
    "    lower_bound = Q1 - 1.5 * IQR\n",
    "    upper_bound = Q3 + 1.5 * IQR\n",
    "\n",
    "\n",
    "    df_out = df.filter((F.col(column) >= lower_bound) & (F.col(column) <= upper_bound))\n",
    "    return df_out\n",
    "\n",
    "df_train_no_outliers = remove_outliers_iqr(df, 'milage')\n",
    "df_train_no_outliers = remove_outliers_iqr(df_train_no_outliers, 'price')"
   ]
  },
  {
   "cell_type": "code",
   "execution_count": 37,
   "metadata": {},
   "outputs": [
    {
     "name": "stderr",
     "output_type": "stream",
     "text": [
      "                                                                                \r"
     ]
    },
    {
     "data": {
      "image/png": "[encoded data removed]",
      "text/plain": [
       "<Figure size 1000x600 with 1 Axes>"
      ]
     },
     "metadata": {},
     "output_type": "display_data"
    }
   ],
   "source": [
    "pandas_df = df_train_no_outliers.toPandas()\n",
    "\n",
    "plt.figure(figsize=(10, 6))\n",
    "sns.boxplot(data=pandas_df[['milage', 'price']])\n",
    "plt.title('Box Plot of Mileage and Price')\n",
    "plt.xlabel('Features')\n",
    "plt.ylabel('Values')\n",
    "\n",
    "plt.show()"
   ]
  },
  {
   "cell_type": "code",
   "execution_count": 38,
   "metadata": {},
   "outputs": [
    {
     "name": "stdout",
     "output_type": "stream",
     "text": [
      "+---+-------------+--------------------+----------+------+-------------+--------------------+--------------------+--------------------+-------+---------------+-----------+-----+\n",
      "| id|        brand|               model|model_year|milage|    fuel_type|              engine|        transmission|             ext_col|int_col|       accident|clean_title|price|\n",
      "+---+-------------+--------------------+----------+------+-------------+--------------------+--------------------+--------------------+-------+---------------+-----------+-----+\n",
      "|  1|      Lincoln|               LS V8|      2002|143250|     Gasoline|2520HP 39L 8 Cyli...|           automatic|              Silver|  Beige|damage reported|        Yes| 4999|\n",
      "|  2|    Chevrolet|   Silverado 2500 LT|      2002|136731|E85 Flex Fuel|3200HP 53L 8 Cyli...|           automatic|                Blue|   Gray|  None reported|        Yes|13900|\n",
      "|  3|      Genesis|    G90 5.0 Ultimate|      2017| 19500|     Gasoline|4200HP 50L 8 Cyli...|transmission w/du...|               Black|  Black|  None reported|        Yes|45000|\n",
      "|  5|         Audi|       A6 2.0T Sport|      2018| 40950|     Gasoline|2520HP 20L 4 Cyli...|           automatic|               White|      –|  None reported|        Yes|29950|\n",
      "|  6|         Audi|           A8 L 3.0T|      2016| 62200|     Gasoline|3330HP 30L V6 Cyl...|   8-speed automatic|               Black|  Black|  None reported|        Yes|28500|\n",
      "|  7|    Chevrolet|  Silverado 1500 1LZ|      2016|102604|E85 Flex Fuel|3550HP 53L 8 Cyli...|           automatic|               White|   Gray|  None reported|        Yes|12500|\n",
      "|  8|         Ford|           F-150 XLT|      2020| 38352|     Gasoline|27L V6 24V PDI DO...|  10-speed automatic|Snowflake White P...|  Black|  None reported|        Yes|62890|\n",
      "|  9|          BMW|             M4 Base|      2015| 74850|     Gasoline|4250HP 30L Straig...|transmission w/du...|               Black|   Blue|  None reported|        Yes| 4000|\n",
      "| 11|        Tesla|       Model S P100D|      2015| 81500|         NULL|Electric Motor El...|   1-speed automatic|                Gray|  White|  None reported|        Yes|19000|\n",
      "| 12|     Cadillac|Escalade ESV Plat...|      2017| 93971|     Gasoline|4200HP 62L 8 Cyli...|   6-speed automatic|               White|  Black|  None reported|        Yes|51500|\n",
      "| 13|         Audi|S4 3.0T Premium Plus|      2013| 60000|     Gasoline|3330HP 30L V6 Cyl...|           automatic|               Black|  Black|damage reported|        Yes|12300|\n",
      "| 14|         Land|Rover Range Rover...|      2023| 20000|     Gasoline|5230HP 44L 8 Cyli...|           automatic|               Black|  Black|  None reported|        Yes|56900|\n",
      "| 15|Mercedes-Benz|          AMG C 63 S|      2017| 41500|     Gasoline|5030HP 40L 8 Cyli...|   7-speed automatic|               White|  Black|  None reported|        Yes|44900|\n",
      "| 16|          GMC|        Yukon Denali|      2021| 15000|     Gasoline|4200HP 62L 8 Cyli...|  10-speed automatic|               Green|  Beige|  None reported|        Yes|68500|\n",
      "| 17|         Land|   Rover Defender SE|      2021| 46100|       Hybrid|3950HP 30L Straig...|   8-speed automatic|                Gray|  Black|  None reported|        Yes|55000|\n",
      "| 18|       Toyota|          Tundra SR5|      2011|153250|     Gasoline|3100HP 46L 8 Cyli...|   7-speed automatic|                Gray|   Gray|damage reported|        Yes| 9999|\n",
      "| 19|Mercedes-Benz|       AMG C 63 Base|      2019| 16002|     Gasoline|4690HP 40L 8 Cyli...|   9-speed automatic|               White|    Red|damage reported|        Yes|46900|\n",
      "| 20|         Land|    Rover Defender S|      2023|  7978|     Gasoline|52L V10 40V PDI DOHC|   8-speed automatic|Santorini Black M...|  Black|  None reported|       NULL|41998|\n",
      "| 21|      Hyundai|     Equus Signature|      2016| 87092|     Gasoline|4290HP 50L 8 Cyli...|   8-speed automatic|               Black|  Black|  None reported|        Yes|16500|\n",
      "| 22|         Ford|     Mustang Premium|      2012|154247|     Gasoline|2100HP 37L V6 Cyl...|   6-speed automatic|                Gray|  Black|damage reported|        Yes| 9900|\n",
      "+---+-------------+--------------------+----------+------+-------------+--------------------+--------------------+--------------------+-------+---------------+-----------+-----+\n",
      "only showing top 20 rows\n",
      "\n"
     ]
    }
   ],
   "source": [
    "df_train_no_outliers.show()"
   ]
  },
  {
   "cell_type": "code",
   "execution_count": 39,
   "metadata": {},
   "outputs": [
    {
     "name": "stderr",
     "output_type": "stream",
     "text": [
      "                                                                                \r"
     ]
    }
   ],
   "source": [
    "output_path = \"../data/cleaned_train.csv\"\n",
    "df_train_no_outliers.write.csv(output_path, header=True, mode='overwrite')\n"
   ]
  },
  {
   "cell_type": "code",
   "execution_count": null,
   "metadata": {},
   "outputs": [],
   "source": []
  }
 ],
 "metadata": {
  "kernelspec": {
   "display_name": "Python 3",
   "language": "python",
   "name": "python3"
  },
  "language_info": {
   "codemirror_mode": {
    "name": "ipython",
    "version": 3
   },
   "file_extension": ".py",
   "mimetype": "text/x-python",
   "name": "python",
   "nbconvert_exporter": "python",
   "pygments_lexer": "ipython3",
   "version": "3.10.0"
  }
 },
 "nbformat": 4,
 "nbformat_minor": 2
}
