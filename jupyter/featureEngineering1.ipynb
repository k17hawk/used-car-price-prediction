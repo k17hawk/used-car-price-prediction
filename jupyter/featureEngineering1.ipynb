{
 "cells": [
  {
   "cell_type": "code",
   "execution_count": 1,
   "metadata": {},
   "outputs": [],
   "source": [
    "from pyspark.sql import SparkSession\n",
    "from pyspark.sql.functions import when, col, count"
   ]
  },
  {
   "cell_type": "code",
   "execution_count": 2,
   "metadata": {},
   "outputs": [
    {
     "name": "stderr",
     "output_type": "stream",
     "text": [
      "24/09/11 13:00:24 WARN Utils: Your hostname, langchain resolves to a loopback address: 127.0.1.1; using 192.168.0.103 instead (on interface wlp3s0)\n",
      "24/09/11 13:00:24 WARN Utils: Set SPARK_LOCAL_IP if you need to bind to another address\n",
      "Setting default log level to \"WARN\".\n",
      "To adjust logging level use sc.setLogLevel(newLevel). For SparkR, use setLogLevel(newLevel).\n",
      "24/09/11 13:00:24 WARN NativeCodeLoader: Unable to load native-hadoop library for your platform... using builtin-java classes where applicable\n",
      "24/09/11 13:00:25 WARN Utils: Service 'SparkUI' could not bind on port 4040. Attempting port 4041.\n"
     ]
    }
   ],
   "source": [
    "spark = SparkSession.builder.master('local[*]').appName('used-car-price').config('spark.executor.memory', '6g').getOrCreate()"
   ]
  },
  {
   "cell_type": "code",
   "execution_count": 3,
   "metadata": {},
   "outputs": [
    {
     "name": "stderr",
     "output_type": "stream",
     "text": [
      "24/09/11 13:00:26 WARN SparkSession: Using an existing Spark session; only runtime SQL configurations will take effect.\n"
     ]
    }
   ],
   "source": [
    "spark = SparkSession.builder.master('local[*]').appName('used-car-price')\\\n",
    ".config(\"spark.executor.instances\", \"1\")\\\n",
    ".config(\"spark.executor.memory\", \"6g\")\\\n",
    ".config(\"spark.driver.memory\", \"6g\")\\\n",
    ".config(\"spark.executor.memoryOverhead\", \"8g\")\\\n",
    ".getOrCreate()"
   ]
  },
  {
   "cell_type": "code",
   "execution_count": 4,
   "metadata": {},
   "outputs": [],
   "source": [
    "csv_file_path = '../data/train.csv'\n",
    "df = spark.read.csv(csv_file_path, header=True, inferSchema=True)"
   ]
  },
  {
   "cell_type": "code",
   "execution_count": 5,
   "metadata": {},
   "outputs": [
    {
     "name": "stdout",
     "output_type": "stream",
     "text": [
      "+---+-------------+--------------------+----------+------+-------------+--------------------+--------------------+--------------------+-------+--------------------+-----------+-----+\n",
      "| id|        brand|               model|model_year|milage|    fuel_type|              engine|        transmission|             ext_col|int_col|            accident|clean_title|price|\n",
      "+---+-------------+--------------------+----------+------+-------------+--------------------+--------------------+--------------------+-------+--------------------+-----------+-----+\n",
      "|  0|         MINI|       Cooper S Base|      2007|213000|     Gasoline|172.0HP 1.6L 4 Cy...|                 A/T|              Yellow|   Gray|       None reported|        Yes| 4200|\n",
      "|  1|      Lincoln|               LS V8|      2002|143250|     Gasoline|252.0HP 3.9L 8 Cy...|                 A/T|              Silver|  Beige|At least 1 accide...|        Yes| 4999|\n",
      "|  2|    Chevrolet|   Silverado 2500 LT|      2002|136731|E85 Flex Fuel|320.0HP 5.3L 8 Cy...|                 A/T|                Blue|   Gray|       None reported|        Yes|13900|\n",
      "|  3|      Genesis|    G90 5.0 Ultimate|      2017| 19500|     Gasoline|420.0HP 5.0L 8 Cy...|Transmission w/Du...|               Black|  Black|       None reported|        Yes|45000|\n",
      "|  4|Mercedes-Benz|         Metris Base|      2021|  7388|     Gasoline|208.0HP 2.0L 4 Cy...|         7-Speed A/T|               Black|  Beige|       None reported|        Yes|97500|\n",
      "|  5|         Audi|       A6 2.0T Sport|      2018| 40950|     Gasoline|252.0HP 2.0L 4 Cy...|                 A/T|               White|      –|       None reported|        Yes|29950|\n",
      "|  6|         Audi|           A8 L 3.0T|      2016| 62200|     Gasoline|333.0HP 3.0L V6 C...|         8-Speed A/T|               Black|  Black|       None reported|        Yes|28500|\n",
      "|  7|    Chevrolet|  Silverado 1500 1LZ|      2016|102604|E85 Flex Fuel|355.0HP 5.3L 8 Cy...|                 A/T|               White|   Gray|       None reported|        Yes|12500|\n",
      "|  8|         Ford|           F-150 XLT|      2020| 38352|     Gasoline|2.7L V6 24V PDI D...|  10-Speed Automatic|Snowflake White P...|  Black|       None reported|        Yes|62890|\n",
      "|  9|          BMW|             M4 Base|      2015| 74850|     Gasoline|425.0HP 3.0L Stra...|Transmission w/Du...|               Black|   Blue|       None reported|        Yes| 4000|\n",
      "| 10|    Chevrolet|          Camaro 1LT|      2011|212500|     Gasoline|312.0HP 3.6L V6 C...|                 A/T|                Blue|   Gray|At least 1 accide...|        Yes| 7950|\n",
      "| 11|        Tesla|       Model S P100D|      2015| 81500|         NULL|Electric Motor El...|         1-Speed A/T|                Gray|  White|       None reported|        Yes|19000|\n",
      "| 12|     Cadillac|Escalade ESV Plat...|      2017| 93971|     Gasoline|420.0HP 6.2L 8 Cy...|         6-Speed A/T|               White|  Black|       None reported|        Yes|51500|\n",
      "| 13|         Audi|S4 3.0T Premium Plus|      2013| 60000|     Gasoline|333.0HP 3.0L V6 C...|                 A/T|               Black|  Black|At least 1 accide...|        Yes|12300|\n",
      "| 14|         Land|Rover Range Rover...|      2023| 20000|     Gasoline|523.0HP 4.4L 8 Cy...|                 A/T|               Black|  Black|       None reported|        Yes|56900|\n",
      "| 15|Mercedes-Benz|          AMG C 63 S|      2017| 41500|     Gasoline|503.0HP 4.0L 8 Cy...|         7-Speed A/T|               White|  Black|       None reported|        Yes|44900|\n",
      "| 16|          GMC|        Yukon Denali|      2021| 15000|     Gasoline|420.0HP 6.2L 8 Cy...|        10-Speed A/T|               Green|  Beige|       None reported|        Yes|68500|\n",
      "| 17|         Land|   Rover Defender SE|      2021| 46100|       Hybrid|395.0HP 3.0L Stra...|         8-Speed A/T|                Gray|  Black|       None reported|        Yes|55000|\n",
      "| 18|       Toyota|          Tundra SR5|      2011|153250|     Gasoline|310.0HP 4.6L 8 Cy...|         7-Speed A/T|                Gray|   Gray|At least 1 accide...|        Yes| 9999|\n",
      "| 19|Mercedes-Benz|       AMG C 63 Base|      2019| 16002|     Gasoline|469.0HP 4.0L 8 Cy...|         9-Speed A/T|               White|    Red|At least 1 accide...|        Yes|46900|\n",
      "+---+-------------+--------------------+----------+------+-------------+--------------------+--------------------+--------------------+-------+--------------------+-----------+-----+\n",
      "only showing top 20 rows\n",
      "\n"
     ]
    }
   ],
   "source": [
    "df.show()"
   ]
  },
  {
   "cell_type": "code",
   "execution_count": 6,
   "metadata": {},
   "outputs": [],
   "source": [
    "(training_data, validation_data) = df.randomSplit([0.8, 0.2], seed=42)"
   ]
  },
  {
   "cell_type": "code",
   "execution_count": 7,
   "metadata": {},
   "outputs": [
    {
     "data": {
      "text/plain": [
       "DataFrame[id: int, brand: string, model: string, model_year: int, milage: int, fuel_type: string, engine: string, transmission: string, ext_col: string, int_col: string, accident: string, clean_title: string, price: int]"
      ]
     },
     "execution_count": 7,
     "metadata": {},
     "output_type": "execute_result"
    }
   ],
   "source": [
    "training_data"
   ]
  },
  {
   "cell_type": "code",
   "execution_count": 8,
   "metadata": {},
   "outputs": [
    {
     "data": {
      "text/plain": [
       "DataFrame[id: int, brand: string, model: string, model_year: int, milage: int, fuel_type: string, engine: string, transmission: string, ext_col: string, int_col: string, accident: string, clean_title: string, price: int]"
      ]
     },
     "execution_count": 8,
     "metadata": {},
     "output_type": "execute_result"
    }
   ],
   "source": [
    "validation_data"
   ]
  },
  {
   "cell_type": "code",
   "execution_count": 9,
   "metadata": {},
   "outputs": [
    {
     "name": "stderr",
     "output_type": "stream",
     "text": [
      "[Stage 3:>                                                          (0 + 7) / 7]\r"
     ]
    },
    {
     "name": "stdout",
     "output_type": "stream",
     "text": [
      "+--------------------+-----+\n",
      "|               model|count|\n",
      "+--------------------+-----+\n",
      "|  XT5 Premium Luxury|    1|\n",
      "|             Model 3|    1|\n",
      "|        GLS 450 Base|    1|\n",
      "|   Corolla Hybrid LE|    1|\n",
      "|Clubman Cooper S ...|    1|\n",
      "|    CLS-Class CLS500|    1|\n",
      "|         Revero Base|    1|\n",
      "|    Encore Preferred|    1|\n",
      "| Elantra HEV Limited|    1|\n",
      "|              9-3 SE|    1|\n",
      "|     RAV4 Hybrid XLE|    1|\n",
      "|        X6 sDrive35i|    1|\n",
      "|              750 iL|    1|\n",
      "|            XJ8 Base|    1|\n",
      "|        LYRIQ Luxury|    1|\n",
      "|        X3 sDrive30i|    1|\n",
      "|C-Class 4MATIC Sedan|    1|\n",
      "|         ForTwo Pure|    1|\n",
      "| C30 T5 Premier Plus|    1|\n",
      "|          Niro EV EX|    1|\n",
      "|             Rogue S|    1|\n",
      "|        Charger SRT8|    1|\n",
      "|      M-Class ML 350|    1|\n",
      "| GLB 250 Base 4MATIC|    1|\n",
      "|               XLR V|    1|\n",
      "|         Model S 90D|    1|\n",
      "|          Yaris Base|    1|\n",
      "|            SX4 Base|    1|\n",
      "|                 TLX|    1|\n",
      "|Sienna XSE 25th A...|    1|\n",
      "|          240SX Base|    1|\n",
      "|            3500 SLT|    1|\n",
      "|            Z4 3.0si|    1|\n",
      "|           300C SRT8|    1|\n",
      "|   4Runner TRD Sport|    1|\n",
      "|            Air Pure|    1|\n",
      "|              A8 4.0|    1|\n",
      "|Pacifica Hybrid T...|    1|\n",
      "|  Verano Convenience|    1|\n",
      "|Q3 2.0T Premium Plus|    1|\n",
      "|XC90 3.2 Premier ...|    1|\n",
      "|             X4 M40i|    1|\n",
      "|           XF Luxury|    1|\n",
      "|   Aventador LP700-4|    1|\n",
      "|         Beetle 1.8T|    1|\n",
      "|             NV200 S|    1|\n",
      "|  Silverado 1500 W/T|    1|\n",
      "|GR Corolla Circui...|    1|\n",
      "|XC90 Hybrid T8 In...|    1|\n",
      "|            Forte LX|    1|\n",
      "|            EV6 Wind|    1|\n",
      "|    Pacifica Touring|    1|\n",
      "+--------------------+-----+\n",
      "only showing top 52 rows\n",
      "\n"
     ]
    },
    {
     "name": "stderr",
     "output_type": "stream",
     "text": [
      "                                                                                \r"
     ]
    }
   ],
   "source": [
    "model_counts = validation_data.groupBy('model').agg(count('model').alias('count')).orderBy('count')\n",
    "model_counts.show(n=52)"
   ]
  },
  {
   "cell_type": "code",
   "execution_count": 10,
   "metadata": {},
   "outputs": [
    {
     "name": "stdout",
     "output_type": "stream",
     "text": [
      "+--------------------+-----+\n",
      "|               model|count|\n",
      "+--------------------+-----+\n",
      "|            Forte LX|    1|\n",
      "|             X5 3.0i|    1|\n",
      "|Ascent Limited 7-...|    1|\n",
      "|        X5 xDrive40e|    1|\n",
      "|            XLR Base|    1|\n",
      "|               XLR V|    1|\n",
      "|Integra w/A-Spec ...|    1|\n",
      "|         ForTwo Pure|    1|\n",
      "|Niro Plug-In Hybr...|    2|\n",
      "|     Maverick Lariat|    2|\n",
      "|X5 xDrive 35i Spo...|    2|\n",
      "|       AMG C 43 Base|    2|\n",
      "|V60 T6 R-Design P...|    2|\n",
      "|            X5 3.0si|    2|\n",
      "|allroad 2.0T Pres...|    2|\n",
      "|        X3 xDrive35i|    2|\n",
      "|Convertible John ...|    2|\n",
      "|IONIQ Plug-In Hyb...|    2|\n",
      "|             i3 Base|    3|\n",
      "|            3500 SLT|    3|\n",
      "|     Carrera GT Base|    3|\n",
      "|        X6 sDrive35i|    3|\n",
      "|Sportage Plug-In ...|    3|\n",
      "|  812 Superfast Base|    3|\n",
      "|          Yaris Base|    3|\n",
      "| X5 eDrive xDrive40e|    3|\n",
      "|740e xDrive iPerf...|    3|\n",
      "|500e Battery Elec...|    3|\n",
      "|         LS 500 Base|    3|\n",
      "|C-Class 4MATIC Sedan|    3|\n",
      "|     Ram 1500 SRT-10|    3|\n",
      "|          Stinger GT|    3|\n",
      "|Model 3 Standard ...|    3|\n",
      "|           Mirage ES|    3|\n",
      "|          370Z NISMO|    3|\n",
      "|            XC60 3.2|    3|\n",
      "|          Insight EX|    3|\n",
      "|       Corvette ZR-1|    3|\n",
      "|             X7 M50i|    4|\n",
      "|           K900 5.0L|    4|\n",
      "|        X5 sDrive35i|    4|\n",
      "|    Z3 3.0i Roadster|    4|\n",
      "|           Capri XR2|    4|\n",
      "|           XT4 Sport|    4|\n",
      "|Tucson Hybrid SEL...|    4|\n",
      "|Santa Fe Sport 2....|    4|\n",
      "|        Type 57 Base|    4|\n",
      "|Wagoneer Series I...|    4|\n",
      "|     Impreza Premium|    4|\n",
      "|        CLS 450 Base|    4|\n",
      "|   Corolla Hybrid LE|    4|\n",
      "|               Rio S|    4|\n",
      "+--------------------+-----+\n",
      "only showing top 52 rows\n",
      "\n"
     ]
    }
   ],
   "source": [
    "model_counts = training_data.groupBy('model').agg(count('model').alias('count')).orderBy('count')\n",
    "model_counts.show(n=52)"
   ]
  },
  {
   "cell_type": "code",
   "execution_count": 11,
   "metadata": {},
   "outputs": [
    {
     "name": "stdout",
     "output_type": "stream",
     "text": [
      "+--------------------+-----+\n",
      "|              engine|count|\n",
      "+--------------------+-----+\n",
      "|443.0HP 4.4L 8 Cy...|    1|\n",
      "|111.0HP Electric ...|    1|\n",
      "|184.0HP 2.4L 4 Cy...|    1|\n",
      "|151.0HP 1.5L 4 Cy...|    1|\n",
      "|141.0HP 2.0L 4 Cy...|    1|\n",
      "|139.0HP 1.6L 4 Cy...|    1|\n",
      "|78.0HP 1.2L 3 Cyl...|    1|\n",
      "|313.0HP 2.0L 4 Cy...|    1|\n",
      "|332.0HP 6.0L 8 Cy...|    2|\n",
      "|321.0HP Electric ...|    2|\n",
      "|178.0HP 1.8L 4 Cy...|    2|\n",
      "|121.0HP 1.8L 4 Cy...|    2|\n",
      "|325.0HP 3.0L Stra...|    2|\n",
      "|226.0HP 1.6L 4 Cy...|    2|\n",
      "|543.0HP 5.5L 12 C...|    2|\n",
      "|322.0HP 2.0L 4 Cy...|    2|\n",
      "|120.0HP 2.2L 4 Cy...|    2|\n",
      "|212.0HP 1.5L 4 Cy...|    2|\n",
      "|139.0HP 1.6L 4 Cy...|    2|\n",
      "|3.8L V6 12V MPFI OHV|    2|\n",
      "|250.0HP 2.7L V6 C...|    2|\n",
      "|275.0HP 3.5L V6 C...|    3|\n",
      "|300.0HP 1.6L 3 Cy...|    3|\n",
      "|316.0HP 6.2L 8 Cy...|    3|\n",
      "|192.0HP 2.0L 4 Cy...|    3|\n",
      "|369.0HP 3.0L Stra...|    3|\n",
      "|266.0HP 2.5L 4 Cy...|    3|\n",
      "|450.0HP 4.5L 8 Cy...|    3|\n",
      "|115.0HP Electric ...|    3|\n",
      "|              120 AH|    3|\n",
      "|280.0HP 2.8L V6 C...|    3|\n",
      "|294.0HP 4.2L 8 Cy...|    4|\n",
      "|260.0HP 3.0L Stra...|    4|\n",
      "|253.0HP 3.5L V6 C...|    4|\n",
      "|240.0HP 2.5L 4 Cy...|    4|\n",
      "|567.0HP 6.0L 12 C...|    4|\n",
      "|288.0HP 2.0L 4 Cy...|    4|\n",
      "|4.4 Liter GDI DOH...|    4|\n",
      "|174.0HP 1.5L 4 Cy...|    4|\n",
      "|407.0HP 4.4L 8 Cy...|    4|\n",
      "|           1.8 Liter|    4|\n",
      "|3.0L V6 Cylinder ...|    4|\n",
      "|164.0HP 1.4L 4 Cy...|    4|\n",
      "|1.6L I4 16V GDI DOHC|    4|\n",
      "|214.0HP Electric ...|    4|\n",
      "|318.0HP 3.3L V6 C...|    5|\n",
      "|155.0HP 1.3L 3 Cy...|    5|\n",
      "|154.0HP 2.7L 5 Cy...|    5|\n",
      "|180.0HP 6.5L 8 Cy...|    5|\n",
      "|320.0HP 4.6L 8 Cy...|    5|\n",
      "|197.0HP 1.6L 4 Cy...|    5|\n",
      "|620.0HP Electric ...|    5|\n",
      "+--------------------+-----+\n",
      "only showing top 52 rows\n",
      "\n"
     ]
    }
   ],
   "source": [
    "model_counts = training_data.groupBy('engine').agg(count('engine').alias('count')).orderBy('count')\n",
    "model_counts.show(n=52)"
   ]
  },
  {
   "cell_type": "code",
   "execution_count": 12,
   "metadata": {},
   "outputs": [
    {
     "name": "stdout",
     "output_type": "stream",
     "text": [
      "['Niro Plug-In Hybrid EX', 'Forte LX', 'i3 Base', '3500 SLT', 'Carrera GT Base', 'X6 sDrive35i', 'Sportage Plug-In Hybrid X-Line', '812 Superfast Base', 'Yaris Base', 'X5 eDrive xDrive40e', 'Maverick Lariat', 'X5 3.0i', '740e xDrive iPerformance', 'X5 xDrive 35i Sport Activity', 'Ascent Limited 7-Passenger', '500e Battery Electric', 'AMG C 43 Base', 'V60 T6 R-Design Platinum', 'LS 500 Base', 'C-Class 4MATIC Sedan', 'Ram 1500 SRT-10', 'Stinger GT', 'X5 xDrive40e', 'Model 3 Standard Range', 'Mirage ES', 'X5 3.0si', 'allroad 2.0T Prestige', '370Z NISMO', 'XC60 3.2', 'Insight EX', 'Corvette ZR-1', 'XLR Base', 'XLR V', 'X3 xDrive35i', 'Convertible John Cooper Works', 'Integra w/A-Spec Tech Package', 'IONIQ Plug-In Hybrid SEL', 'ForTwo Pure']\n"
     ]
    }
   ],
   "source": [
    "from pyspark.sql.functions import col, count\n",
    "\n",
    "model_counts = training_data.groupBy(\"model\").agg(count(\"model\").alias(\"count\"))\n",
    "\n",
    "#\n",
    "filtered_models = model_counts.filter(col(\"count\") <= 3)\n",
    "models_with_low_count = filtered_models.select(\"model\").rdd.flatMap(lambda x: x).collect()\n",
    "\n",
    "# Print the results\n",
    "print(models_with_low_count)\n"
   ]
  },
  {
   "cell_type": "code",
   "execution_count": 13,
   "metadata": {},
   "outputs": [
    {
     "name": "stdout",
     "output_type": "stream",
     "text": [
      "['275.0HP 3.5L V6 Cylinder Engine Flex Fuel Capability', '316.0HP 6.2L 8 Cylinder Engine Flex Fuel Capability', '332.0HP 6.0L 8 Cylinder Engine Gas/Electric Hybrid', '321.0HP Electric Motor Electric Fuel System', '300.0HP 1.6L 3 Cylinder Engine Gasoline Fuel', '192.0HP 2.0L 4 Cylinder Engine Gas/Electric Hybrid', '369.0HP 3.0L Straight 6 Cylinder Engine Gasoline/Mild Electric Hybrid', '266.0HP 2.5L 4 Cylinder Engine Plug-In Electric/Gas', '178.0HP 1.8L 4 Cylinder Engine Gasoline Fuel', '121.0HP 1.8L 4 Cylinder Engine Gas/Electric Hybrid', '325.0HP 3.0L Straight 6 Cylinder Engine Gasoline Fuel', '226.0HP 1.6L 4 Cylinder Engine Gas/Electric Hybrid', '450.0HP 4.5L 8 Cylinder Engine Gasoline Fuel', '543.0HP 5.5L 12 Cylinder Engine Gasoline Fuel', '322.0HP 2.0L 4 Cylinder Engine Plug-In Electric/Gas', '120.0HP 2.2L 4 Cylinder Engine Flex Fuel Capability', '443.0HP 4.4L 8 Cylinder Engine Gasoline Fuel', '212.0HP 1.5L 4 Cylinder Engine Plug-In Electric/Gas', '139.0HP 1.6L 4 Cylinder Engine Gas/Electric Hybrid', '111.0HP Electric Motor Electric Fuel System', '3.8L V6 12V MPFI OHV', '115.0HP Electric Motor Electric Fuel System', '120 AH', '250.0HP 2.7L V6 Cylinder Engine Gasoline Fuel', '184.0HP 2.4L 4 Cylinder Engine Flex Fuel Capability', '151.0HP 1.5L 4 Cylinder Engine Gas/Electric Hybrid', '141.0HP 2.0L 4 Cylinder Engine Gasoline Fuel', '280.0HP 2.8L V6 Cylinder Engine Gasoline Fuel', '139.0HP 1.6L 4 Cylinder Engine Plug-In Electric/Gas', '78.0HP 1.2L 3 Cylinder Engine Gasoline Fuel', '313.0HP 2.0L 4 Cylinder Engine Plug-In Electric/Gas']\n"
     ]
    }
   ],
   "source": [
    "engine_counts = training_data.groupBy(\"engine\").agg(count(\"engine\").alias(\"count\"))\n",
    "filtered_engine = engine_counts.filter(col(\"count\") <= 3)\n",
    "engine_with_low_count = filtered_engine.select(\"engine\").rdd.flatMap(lambda x: x).collect()\n",
    "print(engine_with_low_count)"
   ]
  },
  {
   "cell_type": "code",
   "execution_count": 14,
   "metadata": {},
   "outputs": [],
   "source": [
    "engine_counts = training_data.groupBy('engine').agg(count('engine').alias('count'))\n",
    "training_data = training_data.join(engine_counts, on='engine', how='left')\n",
    "training_data = training_data.withColumn('engine', when(col('count') <= 3, 'Rare_engine').otherwise(col('engine')))\n",
    "training_data = training_data.drop('count')"
   ]
  },
  {
   "cell_type": "code",
   "execution_count": 49,
   "metadata": {},
   "outputs": [
    {
     "name": "stdout",
     "output_type": "stream",
     "text": [
      "+---+-------------+--------------------+----------+------+--------------+--------------------+--------------------+--------------------+-------+--------------------+-----------+-----+\n",
      "| id|        brand|               model|model_year|milage|     fuel_type|              engine|        transmission|             ext_col|int_col|            accident|clean_title|price|\n",
      "+---+-------------+--------------------+----------+------+--------------+--------------------+--------------------+--------------------+-------+--------------------+-----------+-----+\n",
      "|  2|    Chevrolet|   Silverado 2500 LT|      2002|136731| E85 Flex Fuel|320.0HP 5.3L 8 Cy...|                 A/T|                Blue|   Gray|       None reported|        Yes|13900|\n",
      "|  6|         Audi|           A8 L 3.0T|      2016| 62200|      Gasoline|333.0HP 3.0L V6 C...|         8-Speed A/T|               Black|  Black|       None reported|        Yes|28500|\n",
      "|  8|         Ford|           F-150 XLT|      2020| 38352|      Gasoline|2.7L V6 24V PDI D...|  10-Speed Automatic|Snowflake White P...|  Black|       None reported|        Yes|62890|\n",
      "| 13|         Audi|S4 3.0T Premium Plus|      2013| 60000|      Gasoline|333.0HP 3.0L V6 C...|                 A/T|               Black|  Black|At least 1 accide...|        Yes|12300|\n",
      "| 19|Mercedes-Benz|       AMG C 63 Base|      2019| 16002|      Gasoline|469.0HP 4.0L 8 Cy...|         9-Speed A/T|               White|    Red|At least 1 accide...|        Yes|46900|\n",
      "| 23|         Audi|             A8 L 55|      2018| 51000|        Hybrid|335.0HP 3.0L V6 C...|Transmission w/Du...|               White|  Beige|       None reported|        Yes|76000|\n",
      "| 29|         Audi|     A5 2.0T Premium|      2013| 11000|      Gasoline|211.0HP 2.0L 4 Cy...|Transmission w/Du...|               Black|  Black|       None reported|        Yes|17900|\n",
      "| 35|          BMW|        528 i xDrive|      2015| 83424|      Gasoline|240.0HP 2.0L 4 Cy...|                 A/T|                Gray|  Black|At least 1 accide...|        Yes|23000|\n",
      "| 45|          RAM|        1500 Laramie|      2022| 27352|      Gasoline|5.7L V8 16V MPFI OHV|   8-Speed Automatic|       Diamond Black|  Black|       None reported|       NULL|42599|\n",
      "| 46|    Chevrolet|       Corvette Base|      2007|171896|      Gasoline|300.0HP 5.4L 8 Cy...|                 A/T|               White|   Gray|       None reported|        Yes|10000|\n",
      "| 47|          BMW|             M4 Base|      2015| 62500|      Gasoline|425.0HP 3.0L Stra...|         7-Speed A/T|               Black|    Red|       None reported|        Yes|49999|\n",
      "| 49|         Alfa|Romeo Stelvio Ti ...|      2020| 33060|      Gasoline|280.0HP 2.0L 4 Cy...|         8-Speed A/T|                Blue|  Brown|       None reported|        Yes|34500|\n",
      "| 51|        Tesla|  Model 3 Long Range|      2020| 38360|          NULL|Dual Motor - Stan...|           Automatic|               White|  Black|       None reported|       NULL|59598|\n",
      "| 55|         Jeep|   Gladiator Rubicon|      2022| 12100|      Gasoline|285.0HP 3.6L V6 C...|                 A/T|                 Red|  Brown|       None reported|        Yes|53900|\n",
      "| 62|    Chevrolet|Corvette Stingray...|      2022|  9000|      Gasoline|490.0HP 6.2L 8 Cy...|         8-Speed A/T|              Yellow|  Black|       None reported|        Yes|98900|\n",
      "| 69|Mercedes-Benz|       E-Class E 350|      2013| 76500|      Gasoline|302.0HP 3.5L V6 C...|         7-Speed A/T|              Silver|  Black|       None reported|        Yes|30500|\n",
      "| 77|         Land|Rover Range Rover...|      2012| 80000|      Gasoline|385.0HP 5.0L 8 Cy...|                 A/T|               White|  Black|At least 1 accide...|        Yes|22000|\n",
      "|100|         Audi|             A8 L 55|      2014| 85500|        Hybrid|335.0HP 3.0L V6 C...|Transmission w/Du...|                Gray|  Brown|       None reported|        Yes|17500|\n",
      "|112|    Chevrolet|         Suburban LT|      2013| 72900|      Gasoline|355.0HP 5.3L 8 Cy...|         6-Speed A/T|                Gray|  Black|At least 1 accide...|        Yes|17498|\n",
      "|116|          BMW|   X5 PHEV xDrive45e|      2023|  2235|Plug-In Hybrid|389.0HP 3.0L Stra...|         8-Speed A/T|                Blue|  Brown|At least 1 accide...|        Yes|95000|\n",
      "+---+-------------+--------------------+----------+------+--------------+--------------------+--------------------+--------------------+-------+--------------------+-----------+-----+\n",
      "only showing top 20 rows\n",
      "\n"
     ]
    }
   ],
   "source": [
    "rare_features = engine_with_low_count\n",
    "\n",
    "rare_features_set = set(rare_features)\n",
    "\n",
    "validation_data = validation_data.withColumn(\n",
    "    'engine',\n",
    "    when(col('engine').isin(rare_features_set), 'Rare_engine').otherwise(col('engine'))\n",
    ")\n",
    "\n",
    "validation_data.show()\n"
   ]
  },
  {
   "cell_type": "code",
   "execution_count": 15,
   "metadata": {},
   "outputs": [
    {
     "name": "stdout",
     "output_type": "stream",
     "text": [
      "+--------------------+-----+\n",
      "|              engine|count|\n",
      "+--------------------+-----+\n",
      "|240.0HP 2.5L 4 Cy...|    4|\n",
      "|           1.8 Liter|    4|\n",
      "|3.0L V6 Cylinder ...|    4|\n",
      "|260.0HP 3.0L Stra...|    4|\n",
      "|294.0HP 4.2L 8 Cy...|    4|\n",
      "|567.0HP 6.0L 12 C...|    4|\n",
      "|4.4 Liter GDI DOH...|    4|\n",
      "|174.0HP 1.5L 4 Cy...|    4|\n",
      "|407.0HP 4.4L 8 Cy...|    4|\n",
      "|164.0HP 1.4L 4 Cy...|    4|\n",
      "|1.6L I4 16V GDI DOHC|    4|\n",
      "|288.0HP 2.0L 4 Cy...|    4|\n",
      "|253.0HP 3.5L V6 C...|    4|\n",
      "|214.0HP Electric ...|    4|\n",
      "|5.3L V8 16V MPFI ...|    5|\n",
      "|180.0HP 6.5L 8 Cy...|    5|\n",
      "|155.0HP 1.3L 3 Cy...|    5|\n",
      "|154.0HP 2.7L 5 Cy...|    5|\n",
      "|170.0HP 1.5L 4 Cy...|    5|\n",
      "|620.0HP Electric ...|    5|\n",
      "|208.0HP 3.3L V6 C...|    5|\n",
      "|318.0HP 3.3L V6 C...|    5|\n",
      "|                2.5L|    5|\n",
      "|197.0HP 1.6L 4 Cy...|    5|\n",
      "|6.2L V8 32V MPFI ...|    5|\n",
      "|76.0HP 1.5L 4 Cyl...|    5|\n",
      "|320.0HP 4.6L 8 Cy...|    5|\n",
      "|193.0HP 2.5L 4 Cy...|    5|\n",
      "|355.0HP 6.0L 8 Cy...|    6|\n",
      "|109.0HP 1.5L 4 Cy...|    6|\n",
      "|147.0HP Electric ...|    6|\n",
      "|279.0HP 3.5L V6 C...|    6|\n",
      "|175.0HP 1.6L 4 Cy...|    6|\n",
      "|500.0HP 5.4L 8 Cy...|    6|\n",
      "|     1.5 Liter Turbo|    6|\n",
      "|271.0HP 2.4L 4 Cy...|    6|\n",
      "|638.0HP 6.2L 8 Cy...|    6|\n",
      "|451.0HP 6.3L 8 Cy...|    6|\n",
      "|290.0HP Electric ...|    6|\n",
      "|301.0HP 3.6L V6 C...|    7|\n",
      "|180.0HP 1.6L 4 Cy...|    7|\n",
      "|    Battery Electric|    7|\n",
      "|303.0HP 3.4L Flat...|    7|\n",
      "|145.0HP 1.8L 4 Cy...|    7|\n",
      "|405.0HP 4.8L 8 Cy...|    7|\n",
      "|317.0HP 5.6L 8 Cy...|    7|\n",
      "|2.0L I4 16V GDI D...|    7|\n",
      "|192.0HP 1.5L 4 Cy...|    7|\n",
      "|287.0HP 3.6L V6 C...|    7|\n",
      "|137.0HP 1.8L 4 Cy...|    7|\n",
      "|3.2L V6 18V MPFI ...|    7|\n",
      "|250.0HP 3.2L V6 C...|    7|\n",
      "+--------------------+-----+\n",
      "only showing top 52 rows\n",
      "\n"
     ]
    }
   ],
   "source": [
    "engine_counts = training_data.groupBy('engine').agg(count('engine').alias('count')).orderBy('count')\n",
    "engine_counts.show(n=52)"
   ]
  },
  {
   "cell_type": "code",
   "execution_count": 16,
   "metadata": {},
   "outputs": [],
   "source": [
    "from pyspark.sql.functions import udf\n",
    "from pyspark.sql.types import StringType\n",
    "import re\n",
    "from pyspark.sql import functions as F\n",
    "\n",
    "def clean_engine(engine):\n",
    "    engine = re.sub(r\"[^a-zA-Z0-9\\s]\", \"\", engine)\n",
    "    return engine\n",
    "\n",
    "clean_engine_udf = udf(clean_engine, StringType())\n",
    "df = training_data.withColumn(\"engine\", clean_engine_udf(F.col(\"engine\")))\n"
   ]
  },
  {
   "cell_type": "code",
   "execution_count": 50,
   "metadata": {},
   "outputs": [],
   "source": [
    "test_df = validation_data.withColumn('engine',clean_engine_udf(F.col('engine')))"
   ]
  },
  {
   "cell_type": "code",
   "execution_count": 17,
   "metadata": {},
   "outputs": [
    {
     "data": {
      "text/plain": [
       "['engine',\n",
       " 'id',\n",
       " 'brand',\n",
       " 'model',\n",
       " 'model_year',\n",
       " 'milage',\n",
       " 'fuel_type',\n",
       " 'transmission',\n",
       " 'ext_col',\n",
       " 'int_col',\n",
       " 'accident',\n",
       " 'clean_title',\n",
       " 'price']"
      ]
     },
     "execution_count": 17,
     "metadata": {},
     "output_type": "execute_result"
    }
   ],
   "source": [
    "df.columns"
   ]
  },
  {
   "cell_type": "code",
   "execution_count": 18,
   "metadata": {},
   "outputs": [],
   "source": [
    "model_counts = df.groupBy('model').agg(count('model').alias('count'))\n",
    "df = df.join(model_counts, on='model', how='left')\n",
    "df = df.withColumn('model', when(col('count') <= 3, 'Rare_model').otherwise(col('model')))\n",
    "df = df.drop('count')"
   ]
  },
  {
   "cell_type": "code",
   "execution_count": 48,
   "metadata": {},
   "outputs": [
    {
     "name": "stdout",
     "output_type": "stream",
     "text": [
      "+---+-------------+--------------------+----------+------+--------------+--------------------+--------------------+--------------------+-------+--------------------+-----------+-----+\n",
      "| id|        brand|               model|model_year|milage|     fuel_type|              engine|        transmission|             ext_col|int_col|            accident|clean_title|price|\n",
      "+---+-------------+--------------------+----------+------+--------------+--------------------+--------------------+--------------------+-------+--------------------+-----------+-----+\n",
      "|  2|    Chevrolet|   Silverado 2500 LT|      2002|136731| E85 Flex Fuel|320.0HP 5.3L 8 Cy...|                 A/T|                Blue|   Gray|       None reported|        Yes|13900|\n",
      "|  6|         Audi|           A8 L 3.0T|      2016| 62200|      Gasoline|333.0HP 3.0L V6 C...|         8-Speed A/T|               Black|  Black|       None reported|        Yes|28500|\n",
      "|  8|         Ford|           F-150 XLT|      2020| 38352|      Gasoline|2.7L V6 24V PDI D...|  10-Speed Automatic|Snowflake White P...|  Black|       None reported|        Yes|62890|\n",
      "| 13|         Audi|S4 3.0T Premium Plus|      2013| 60000|      Gasoline|333.0HP 3.0L V6 C...|                 A/T|               Black|  Black|At least 1 accide...|        Yes|12300|\n",
      "| 19|Mercedes-Benz|       AMG C 63 Base|      2019| 16002|      Gasoline|469.0HP 4.0L 8 Cy...|         9-Speed A/T|               White|    Red|At least 1 accide...|        Yes|46900|\n",
      "| 23|         Audi|             A8 L 55|      2018| 51000|        Hybrid|335.0HP 3.0L V6 C...|Transmission w/Du...|               White|  Beige|       None reported|        Yes|76000|\n",
      "| 29|         Audi|     A5 2.0T Premium|      2013| 11000|      Gasoline|211.0HP 2.0L 4 Cy...|Transmission w/Du...|               Black|  Black|       None reported|        Yes|17900|\n",
      "| 35|          BMW|        528 i xDrive|      2015| 83424|      Gasoline|240.0HP 2.0L 4 Cy...|                 A/T|                Gray|  Black|At least 1 accide...|        Yes|23000|\n",
      "| 45|          RAM|        1500 Laramie|      2022| 27352|      Gasoline|5.7L V8 16V MPFI OHV|   8-Speed Automatic|       Diamond Black|  Black|       None reported|       NULL|42599|\n",
      "| 46|    Chevrolet|       Corvette Base|      2007|171896|      Gasoline|300.0HP 5.4L 8 Cy...|                 A/T|               White|   Gray|       None reported|        Yes|10000|\n",
      "| 47|          BMW|             M4 Base|      2015| 62500|      Gasoline|425.0HP 3.0L Stra...|         7-Speed A/T|               Black|    Red|       None reported|        Yes|49999|\n",
      "| 49|         Alfa|Romeo Stelvio Ti ...|      2020| 33060|      Gasoline|280.0HP 2.0L 4 Cy...|         8-Speed A/T|                Blue|  Brown|       None reported|        Yes|34500|\n",
      "| 51|        Tesla|  Model 3 Long Range|      2020| 38360|          NULL|Dual Motor - Stan...|           Automatic|               White|  Black|       None reported|       NULL|59598|\n",
      "| 55|         Jeep|   Gladiator Rubicon|      2022| 12100|      Gasoline|285.0HP 3.6L V6 C...|                 A/T|                 Red|  Brown|       None reported|        Yes|53900|\n",
      "| 62|    Chevrolet|Corvette Stingray...|      2022|  9000|      Gasoline|490.0HP 6.2L 8 Cy...|         8-Speed A/T|              Yellow|  Black|       None reported|        Yes|98900|\n",
      "| 69|Mercedes-Benz|       E-Class E 350|      2013| 76500|      Gasoline|302.0HP 3.5L V6 C...|         7-Speed A/T|              Silver|  Black|       None reported|        Yes|30500|\n",
      "| 77|         Land|Rover Range Rover...|      2012| 80000|      Gasoline|385.0HP 5.0L 8 Cy...|                 A/T|               White|  Black|At least 1 accide...|        Yes|22000|\n",
      "|100|         Audi|             A8 L 55|      2014| 85500|        Hybrid|335.0HP 3.0L V6 C...|Transmission w/Du...|                Gray|  Brown|       None reported|        Yes|17500|\n",
      "|112|    Chevrolet|         Suburban LT|      2013| 72900|      Gasoline|355.0HP 5.3L 8 Cy...|         6-Speed A/T|                Gray|  Black|At least 1 accide...|        Yes|17498|\n",
      "|116|          BMW|   X5 PHEV xDrive45e|      2023|  2235|Plug-In Hybrid|389.0HP 3.0L Stra...|         8-Speed A/T|                Blue|  Brown|At least 1 accide...|        Yes|95000|\n",
      "+---+-------------+--------------------+----------+------+--------------+--------------------+--------------------+--------------------+-------+--------------------+-----------+-----+\n",
      "only showing top 20 rows\n",
      "\n"
     ]
    }
   ],
   "source": [
    "rare_features = models_with_low_count\n",
    "\n",
    "rare_features_set = set(rare_features)\n",
    "\n",
    "validation_data = validation_data.withColumn(\n",
    "    'model',\n",
    "    when(col('model').isin(rare_features_set), 'Rare_model').otherwise(col('model'))\n",
    ")\n",
    "\n",
    "validation_data.show()\n"
   ]
  },
  {
   "cell_type": "code",
   "execution_count": 19,
   "metadata": {},
   "outputs": [
    {
     "name": "stdout",
     "output_type": "stream",
     "text": [
      "+--------------------+-----+\n",
      "|               model|count|\n",
      "+--------------------+-----+\n",
      "|        X5 sDrive35i|    4|\n",
      "|    Z3 3.0i Roadster|    4|\n",
      "|           XT4 Sport|    4|\n",
      "|           K900 5.0L|    4|\n",
      "|             X7 M50i|    4|\n",
      "|           Capri XR2|    4|\n",
      "|Tucson Hybrid SEL...|    4|\n",
      "|Santa Fe Sport 2....|    4|\n",
      "|        Type 57 Base|    4|\n",
      "|Wagoneer Series I...|    4|\n",
      "|     Impreza Premium|    4|\n",
      "|        CLS 450 Base|    4|\n",
      "|   Corolla Hybrid LE|    4|\n",
      "|               Rio S|    4|\n",
      "|        bZ4X Limited|    4|\n",
      "|        Prowler Base|    4|\n",
      "|             S-10 LS|    4|\n",
      "|Clarity Plug-In H...|    4|\n",
      "|           e-Golf SE|    4|\n",
      "|Silverado 1500 Hy...|    5|\n",
      "|Veloster Value Ed...|    5|\n",
      "|             Model 3|    5|\n",
      "|          Sportage S|    5|\n",
      "|               535 i|    5|\n",
      "|          Accent SEL|    5|\n",
      "|Rover Range Rover...|    5|\n",
      "|            RDX Base|    5|\n",
      "|        CT 200h Base|    5|\n",
      "|    XC70 T6 Platinum|    5|\n",
      "|             X4 M40i|    5|\n",
      "|Sienna XSE 25th A...|    5|\n",
      "|    2 Launch Edition|    5|\n",
      "| HUMMER EV Edition 1|    5|\n",
      "|     S5 3.0T Premium|    5|\n",
      "| Elantra HEV Limited|    5|\n",
      "|           850 Turbo|    5|\n",
      "|   124 Spider Abarth|    5|\n",
      "|   Countryman Cooper|    5|\n",
      "|C40 Recharge Pure...|    5|\n",
      "|Sorento Plug-In H...|    6|\n",
      "|              A8 4.0|    6|\n",
      "|R-Class R 350 4MATIC|    6|\n",
      "|         Maverick XL|    6|\n",
      "|            EV6 Wind|    6|\n",
      "|              STS V6|    6|\n",
      "|GR Corolla Circui...|    6|\n",
      "|      Explorer Sport|    6|\n",
      "|        X3 xDrive28i|    6|\n",
      "|      e-tron Premium|    6|\n",
      "|  Prius Plug-in Base|    6|\n",
      "|          Evora Base|    6|\n",
      "|  500X Trekking Plus|    6|\n",
      "+--------------------+-----+\n",
      "only showing top 52 rows\n",
      "\n"
     ]
    }
   ],
   "source": [
    "model_counts = df.groupBy('model').agg(count('model').alias('count')).orderBy('count')\n",
    "model_counts.show(n=52)"
   ]
  },
  {
   "cell_type": "code",
   "execution_count": 20,
   "metadata": {},
   "outputs": [],
   "source": [
    "from pyspark.sql.functions import col, when,regexp_replace,lower\n",
    "df = df.withColumn(\n",
    "    \"transmission\",\n",
    "    when(col(\"transmission\").contains(\"At/Mt\") | col(\"transmission\").contains(\"AT/MT\"), \n",
    "          regexp_replace(col(\"transmission\"), \"AT/MT|At/Mt\", \"automatic/manual\"))\n",
    "    .when(col(\"transmission\").contains(\"A/T\") | col(\"transmission\").contains(\"AT\"), \n",
    "         regexp_replace(col(\"transmission\"), \"A/T|AT\", \"automatic\"))\n",
    "    .when(col(\"transmission\").contains(\"Mt\") | col(\"transmission\").contains(\"M/T\"), \n",
    "          regexp_replace(col(\"transmission\"), \"Mt|M/T\", \"manual\"))\n",
    "    \n",
    "    .when(col(\"transmission\").contains(\"F\"), \"single-speed fixed gear\")\n",
    "    .when(col(\"transmission\").contains(\"DCT\"), \"dual clutch automatic\")\n",
    "    .when(col(\"transmission\").contains(\"CVT\"), \"continuously variable transmission\")\n",
    "    .when(col(\"transmission\").contains(\"5-Speed M/T\"), \"5-Speed manual\")\n",
    "    .otherwise(col(\"transmission\"))\n",
    ")"
   ]
  },
  {
   "cell_type": "code",
   "execution_count": 21,
   "metadata": {},
   "outputs": [],
   "source": [
    "df = df.withColumn(\"transmission\", lower(col(\"transmission\")))"
   ]
  },
  {
   "cell_type": "code",
   "execution_count": 51,
   "metadata": {},
   "outputs": [],
   "source": [
    "test_df = test_df.withColumn(\n",
    "    \"transmission\",\n",
    "    when(col(\"transmission\").contains(\"At/Mt\") | col(\"transmission\").contains(\"AT/MT\"), \n",
    "          regexp_replace(col(\"transmission\"), \"AT/MT|At/Mt\", \"automatic/manual\"))\n",
    "    .when(col(\"transmission\").contains(\"A/T\") | col(\"transmission\").contains(\"AT\"), \n",
    "         regexp_replace(col(\"transmission\"), \"A/T|AT\", \"automatic\"))\n",
    "    .when(col(\"transmission\").contains(\"Mt\") | col(\"transmission\").contains(\"M/T\"), \n",
    "          regexp_replace(col(\"transmission\"), \"Mt|M/T\", \"manual\"))\n",
    "    \n",
    "    .when(col(\"transmission\").contains(\"F\"), \"single-speed fixed gear\")\n",
    "    .when(col(\"transmission\").contains(\"DCT\"), \"dual clutch automatic\")\n",
    "    .when(col(\"transmission\").contains(\"CVT\"), \"continuously variable transmission\")\n",
    "    .when(col(\"transmission\").contains(\"5-Speed M/T\"), \"5-Speed manual\")\n",
    "    .otherwise(col(\"transmission\"))\n",
    ")\n",
    "test_df= test_df.withColumn(\"transmission\", lower(col(\"transmission\")))"
   ]
  },
  {
   "cell_type": "code",
   "execution_count": 22,
   "metadata": {},
   "outputs": [
    {
     "name": "stdout",
     "output_type": "stream",
     "text": [
      "+--------------------------------------------------+-----+\n",
      "|transmission                                      |count|\n",
      "+--------------------------------------------------+-----+\n",
      "|dual clutch automatic                             |14   |\n",
      "|6 speed automatic/manual                          |16   |\n",
      "|6-speed electronically controlled automatic with o|22   |\n",
      "|7-speed                                           |23   |\n",
      "|8-speed manual                                    |23   |\n",
      "|6-speed                                           |23   |\n",
      "|9-speed automatic with auto-shift                 |26   |\n",
      "|6 speed manual                                    |28   |\n",
      "|10-speed automatic with overdrive                 |33   |\n",
      "|variable                                          |57   |\n",
      "|2                                                 |68   |\n",
      "|–                                                 |74   |\n",
      "|2-speed automatic                                 |76   |\n",
      "|single-speed fixed gear                           |77   |\n",
      "|6-speed automatic with auto-shift                 |91   |\n",
      "|transmission overdrive switch                     |128  |\n",
      "|7-speed manual                                    |404  |\n",
      "|8-speed automatic with auto-shift                 |445  |\n",
      "|manual                                            |960  |\n",
      "|7-speed automatic with auto-shift                 |962  |\n",
      "+--------------------------------------------------+-----+\n",
      "only showing top 20 rows\n",
      "\n"
     ]
    }
   ],
   "source": [
    "df.groupBy(\"transmission\").agg(F.count(\"*\").alias(\"count\")).orderBy(\"count\").show(truncate=False)"
   ]
  },
  {
   "cell_type": "code",
   "execution_count": 52,
   "metadata": {},
   "outputs": [
    {
     "name": "stdout",
     "output_type": "stream",
     "text": [
      "+--------------------------------------------------+-----+\n",
      "|transmission                                      |count|\n",
      "+--------------------------------------------------+-----+\n",
      "|dual clutch automatic                             |4    |\n",
      "|6-speed                                           |4    |\n",
      "|6 speed automatic/manual                          |4    |\n",
      "|8-speed manual                                    |5    |\n",
      "|7-speed                                           |6    |\n",
      "|10-speed automatic with overdrive                 |7    |\n",
      "|9-speed automatic with auto-shift                 |7    |\n",
      "|6-speed electronically controlled automatic with o|9    |\n",
      "|variable                                          |9    |\n",
      "|6 speed manual                                    |9    |\n",
      "|–                                                 |13   |\n",
      "|2-speed automatic                                 |17   |\n",
      "|6-speed automatic with auto-shift                 |20   |\n",
      "|2                                                 |23   |\n",
      "|single-speed fixed gear                           |25   |\n",
      "|transmission overdrive switch                     |28   |\n",
      "|7-speed manual                                    |102  |\n",
      "|8-speed automatic with auto-shift                 |104  |\n",
      "|7-speed automatic with auto-shift                 |210  |\n",
      "|manual                                            |246  |\n",
      "+--------------------------------------------------+-----+\n",
      "only showing top 20 rows\n",
      "\n"
     ]
    }
   ],
   "source": [
    "test_df.groupBy(\"transmission\").agg(F.count(\"*\").alias(\"count\")).orderBy(\"count\").show(truncate=False)"
   ]
  },
  {
   "cell_type": "code",
   "execution_count": 23,
   "metadata": {},
   "outputs": [
    {
     "name": "stdout",
     "output_type": "stream",
     "text": [
      "+----------------------------------+-----+\n",
      "|transmission                      |count|\n",
      "+----------------------------------+-----+\n",
      "|automatic                         |48551|\n",
      "|8-speed automatic                 |23248|\n",
      "|6-speed automatic                 |16710|\n",
      "|transmission w/dual shift mode    |15365|\n",
      "|6-speed manual                    |9860 |\n",
      "|7-speed automatic                 |9033 |\n",
      "|10-speed automatic                |8967 |\n",
      "|9-speed automatic                 |5005 |\n",
      "|5-speed automatic                 |2690 |\n",
      "|continuously variable transmission|2261 |\n",
      "|4-speed automatic                 |2112 |\n",
      "|5-speed manual                    |1916 |\n",
      "|1-speed automatic                 |1800 |\n",
      "|7-speed automatic with auto-shift |962  |\n",
      "|manual                            |960  |\n",
      "|8-speed automatic with auto-shift |445  |\n",
      "|7-speed manual                    |404  |\n",
      "|transmission overdrive switch     |128  |\n",
      "|6-speed automatic with auto-shift |91   |\n",
      "|single-speed fixed gear           |77   |\n",
      "+----------------------------------+-----+\n",
      "only showing top 20 rows\n",
      "\n"
     ]
    }
   ],
   "source": [
    "df.groupBy(\"transmission\").agg(F.count(\"*\").alias(\"count\")).orderBy(\"count\", ascending=False).show(truncate=False)"
   ]
  },
  {
   "cell_type": "code",
   "execution_count": 24,
   "metadata": {},
   "outputs": [
    {
     "data": {
      "image/png": "[encoded data removed]",
      "text/plain": [
       "<Figure size 1000x600 with 1 Axes>"
      ]
     },
     "metadata": {},
     "output_type": "display_data"
    }
   ],
   "source": [
    "import matplotlib.pyplot as plt\n",
    "import seaborn as sns\n",
    "from pyspark.sql.functions import col\n",
    "\n",
    "filtered_df = df.filter(col(\"transmission\").isin(\"–\", \"2\", \"variable\"))\n",
    "pandas_df = filtered_df.select(\"transmission\", \"price\").toPandas()\n",
    "\n",
    "plt.figure(figsize=(10, 6))\n",
    "sns.boxplot(x='transmission', y='price', data=pandas_df)\n",
    "plt.title('Price Distribution by Transmission Type')\n",
    "plt.xlabel('Transmission')\n",
    "plt.ylabel('Price')\n",
    "plt.xticks(rotation=45)\n",
    "plt.show()\n"
   ]
  },
  {
   "cell_type": "code",
   "execution_count": 53,
   "metadata": {},
   "outputs": [
    {
     "data": {
      "image/png": "[encoded data removed]",
      "text/plain": [
       "<Figure size 1000x600 with 1 Axes>"
      ]
     },
     "metadata": {},
     "output_type": "display_data"
    }
   ],
   "source": [
    "filtered_df = test_df.filter(col(\"transmission\").isin(\"–\", \"2\", \"variable\"))\n",
    "pandas_df = filtered_df.select(\"transmission\", \"price\").toPandas()\n",
    "\n",
    "plt.figure(figsize=(10, 6))\n",
    "sns.boxplot(x='transmission', y='price', data=pandas_df)\n",
    "plt.title('Price Distribution by Transmission Type')\n",
    "plt.xlabel('Transmission')\n",
    "plt.ylabel('Price')\n",
    "plt.xticks(rotation=45)\n",
    "plt.show()\n"
   ]
  },
  {
   "cell_type": "code",
   "execution_count": 25,
   "metadata": {},
   "outputs": [
    {
     "name": "stdout",
     "output_type": "stream",
     "text": [
      "                    sum_sq     df          F        PR(>F)\n",
      "transmission  6.064746e+11    2.0  15.216118  7.196909e-07\n",
      "Residual      3.906023e+12  196.0        NaN           NaN\n"
     ]
    }
   ],
   "source": [
    "import statsmodels.api as sm\n",
    "from statsmodels.formula.api import ols\n",
    "filtered_df = df.filter(col(\"transmission\").isin(\"–\", \"2\", \"variable\"))\n",
    "pandas_filtered_df = filtered_df.select(\"transmission\", \"price\").toPandas()\n",
    "\n",
    "model = ols('price ~ transmission', data=pandas_filtered_df).fit()\n",
    "anova_table = sm.stats.anova_lm(model, typ=2)\n",
    "\n",
    "print(anova_table)\n"
   ]
  },
  {
   "cell_type": "markdown",
   "metadata": {},
   "source": [
    "It could be better to treat these features separately rather than grouping them into an unknown category."
   ]
  },
  {
   "cell_type": "markdown",
   "metadata": {},
   "source": [
    "The ANOVA test shows that the transmission feature has a statistically significant impact on price since the p-value is \n",
    "well below the standard threshold of 0.05. This means that \"–\", \"2\", and \"variable\" do contribute to differences in the \n",
    "price, and grouping them as \"unknown\" could result in information loss."
   ]
  },
  {
   "cell_type": "code",
   "execution_count": 26,
   "metadata": {},
   "outputs": [
    {
     "name": "stdout",
     "output_type": "stream",
     "text": [
      "+--------------------+\n",
      "|        transmission|\n",
      "+--------------------+\n",
      "|6-speed electroni...|\n",
      "|6 speed automatic...|\n",
      "|   5-speed automatic|\n",
      "|7-speed automatic...|\n",
      "|            variable|\n",
      "|  10-speed automatic|\n",
      "|   2-speed automatic|\n",
      "|           automatic|\n",
      "|             7-speed|\n",
      "|10-speed automati...|\n",
      "|      7-speed manual|\n",
      "|single-speed fixe...|\n",
      "|   6-speed automatic|\n",
      "|transmission over...|\n",
      "|9-speed automatic...|\n",
      "|   8-speed automatic|\n",
      "|              manual|\n",
      "|      5-speed manual|\n",
      "|      6 speed manual|\n",
      "|      8-speed manual|\n",
      "+--------------------+\n",
      "only showing top 20 rows\n",
      "\n"
     ]
    }
   ],
   "source": [
    "df = df.withColumn(\n",
    "    \"transmission\",\n",
    "    when(col(\"transmission\") == \"–\", \"unknown-transmission\")\n",
    "    .otherwise(col(\"transmission\"))\n",
    ")\n",
    "\n",
    "df.select('transmission').distinct().show()"
   ]
  },
  {
   "cell_type": "code",
   "execution_count": 54,
   "metadata": {},
   "outputs": [
    {
     "name": "stdout",
     "output_type": "stream",
     "text": [
      "+--------------------+\n",
      "|        transmission|\n",
      "+--------------------+\n",
      "|6-speed electroni...|\n",
      "|   5-speed automatic|\n",
      "|7-speed automatic...|\n",
      "|            variable|\n",
      "|  10-speed automatic|\n",
      "|   2-speed automatic|\n",
      "|           automatic|\n",
      "|10-speed automati...|\n",
      "|      7-speed manual|\n",
      "|single-speed fixe...|\n",
      "|   6-speed automatic|\n",
      "|transmission over...|\n",
      "|   8-speed automatic|\n",
      "|              manual|\n",
      "|      5-speed manual|\n",
      "|      6 speed manual|\n",
      "|      8-speed manual|\n",
      "|   4-speed automatic|\n",
      "|   7-speed automatic|\n",
      "|dual clutch autom...|\n",
      "+--------------------+\n",
      "only showing top 20 rows\n",
      "\n"
     ]
    }
   ],
   "source": [
    "test_df = test_df.withColumn(\n",
    "    \"transmission\",\n",
    "    when(col(\"transmission\") == \"–\", \"unknown-transmission\")\n",
    "    .otherwise(col(\"transmission\"))\n",
    ")\n",
    "\n",
    "test_df.select('transmission').distinct().show()"
   ]
  },
  {
   "cell_type": "code",
   "execution_count": 27,
   "metadata": {},
   "outputs": [],
   "source": [
    "df = df.withColumn(\n",
    "    \"transmission\",\n",
    "    when(col(\"transmission\").isin(\"unknown-transmission\", \"2\",\"variable\"), \"unknown\")  \n",
    "    .otherwise(col(\"transmission\"))\n",
    ")\n"
   ]
  },
  {
   "cell_type": "code",
   "execution_count": 55,
   "metadata": {},
   "outputs": [],
   "source": [
    "test_df = test_df.withColumn(\n",
    "    \"transmission\",\n",
    "    when(col(\"transmission\").isin(\"unknown-transmission\", \"2\",\"variable\"), \"unknown\")  \n",
    "    .otherwise(col(\"transmission\"))\n",
    ")\n"
   ]
  },
  {
   "cell_type": "code",
   "execution_count": 28,
   "metadata": {},
   "outputs": [
    {
     "name": "stdout",
     "output_type": "stream",
     "text": [
      "+--------------------+\n",
      "|        transmission|\n",
      "+--------------------+\n",
      "|6-speed electroni...|\n",
      "|6 speed automatic...|\n",
      "|   5-speed automatic|\n",
      "|7-speed automatic...|\n",
      "|  10-speed automatic|\n",
      "|             unknown|\n",
      "|   2-speed automatic|\n",
      "|           automatic|\n",
      "|             7-speed|\n",
      "|10-speed automati...|\n",
      "|      7-speed manual|\n",
      "|single-speed fixe...|\n",
      "|   6-speed automatic|\n",
      "|transmission over...|\n",
      "|9-speed automatic...|\n",
      "|   8-speed automatic|\n",
      "|              manual|\n",
      "|      5-speed manual|\n",
      "|      6 speed manual|\n",
      "|      8-speed manual|\n",
      "+--------------------+\n",
      "only showing top 20 rows\n",
      "\n"
     ]
    }
   ],
   "source": [
    "df.select('transmission').distinct().show()"
   ]
  },
  {
   "cell_type": "code",
   "execution_count": 29,
   "metadata": {},
   "outputs": [
    {
     "name": "stdout",
     "output_type": "stream",
     "text": [
      "+--------------------+--------------------+---+-------------+----------+------+-------------+--------------------+--------------------+-------+--------------------+-----------+-----+\n",
      "|               model|              engine| id|        brand|model_year|milage|    fuel_type|        transmission|             ext_col|int_col|            accident|clean_title|price|\n",
      "+--------------------+--------------------+---+-------------+----------+------+-------------+--------------------+--------------------+-------+--------------------+-----------+-----+\n",
      "|       Cooper S Base|1720HP 16L 4 Cyli...|  0|         MINI|      2007|213000|     Gasoline|           automatic|              Yellow|   Gray|       None reported|        Yes| 4200|\n",
      "|               LS V8|2520HP 39L 8 Cyli...|  1|      Lincoln|      2002|143250|     Gasoline|           automatic|              Silver|  Beige|At least 1 accide...|        Yes| 4999|\n",
      "|    G90 5.0 Ultimate|4200HP 50L 8 Cyli...|  3|      Genesis|      2017| 19500|     Gasoline|transmission w/du...|               Black|  Black|       None reported|        Yes|45000|\n",
      "|         Metris Base|2080HP 20L 4 Cyli...|  4|Mercedes-Benz|      2021|  7388|     Gasoline|   7-speed automatic|               Black|  Beige|       None reported|        Yes|97500|\n",
      "|       A6 2.0T Sport|2520HP 20L 4 Cyli...|  5|         Audi|      2018| 40950|     Gasoline|           automatic|               White|      –|       None reported|        Yes|29950|\n",
      "|  Silverado 1500 1LZ|3550HP 53L 8 Cyli...|  7|    Chevrolet|      2016|102604|E85 Flex Fuel|           automatic|               White|   Gray|       None reported|        Yes|12500|\n",
      "|             M4 Base|4250HP 30L Straig...|  9|          BMW|      2015| 74850|     Gasoline|transmission w/du...|               Black|   Blue|       None reported|        Yes| 4000|\n",
      "|          Camaro 1LT|3120HP 36L V6 Cyl...| 10|    Chevrolet|      2011|212500|     Gasoline|           automatic|                Blue|   Gray|At least 1 accide...|        Yes| 7950|\n",
      "|       Model S P100D|Electric Motor El...| 11|        Tesla|      2015| 81500|         NULL|   1-speed automatic|                Gray|  White|       None reported|        Yes|19000|\n",
      "|Escalade ESV Plat...|4200HP 62L 8 Cyli...| 12|     Cadillac|      2017| 93971|     Gasoline|   6-speed automatic|               White|  Black|       None reported|        Yes|51500|\n",
      "|Rover Range Rover...|5230HP 44L 8 Cyli...| 14|         Land|      2023| 20000|     Gasoline|           automatic|               Black|  Black|       None reported|        Yes|56900|\n",
      "|          AMG C 63 S|5030HP 40L 8 Cyli...| 15|Mercedes-Benz|      2017| 41500|     Gasoline|   7-speed automatic|               White|  Black|       None reported|        Yes|44900|\n",
      "|        Yukon Denali|4200HP 62L 8 Cyli...| 16|          GMC|      2021| 15000|     Gasoline|  10-speed automatic|               Green|  Beige|       None reported|        Yes|68500|\n",
      "|   Rover Defender SE|3950HP 30L Straig...| 17|         Land|      2021| 46100|       Hybrid|   8-speed automatic|                Gray|  Black|       None reported|        Yes|55000|\n",
      "|          Tundra SR5|3100HP 46L 8 Cyli...| 18|       Toyota|      2011|153250|     Gasoline|   7-speed automatic|                Gray|   Gray|At least 1 accide...|        Yes| 9999|\n",
      "|    Rover Defender S|52L V10 40V PDI DOHC| 20|         Land|      2023|  7978|     Gasoline|   8-speed automatic|Santorini Black M...|  Black|       None reported|       NULL|41998|\n",
      "|     Equus Signature|4290HP 50L 8 Cyli...| 21|      Hyundai|      2016| 87092|     Gasoline|   8-speed automatic|               Black|  Black|       None reported|        Yes|16500|\n",
      "|     Mustang Premium|2100HP 37L V6 Cyl...| 22|         Ford|      2012|154247|     Gasoline|   6-speed automatic|                Gray|  Black|At least 1 accide...|        Yes| 9900|\n",
      "|    XC70 T6 Platinum|3160HP 20L 4 Cyli...| 24|        Volvo|      2014|100680|     Gasoline|   6-speed automatic|               Black|  Beige|At least 1 accide...|        Yes|33687|\n",
      "|     Sequoia Limited|3810HP 57L 8 Cyli...| 25|       Toyota|      2013|183000|     Gasoline|   6-speed automatic|               Black|   Gray|       None reported|        Yes|29000|\n",
      "+--------------------+--------------------+---+-------------+----------+------+-------------+--------------------+--------------------+-------+--------------------+-----------+-----+\n",
      "only showing top 20 rows\n",
      "\n"
     ]
    }
   ],
   "source": [
    "df.show()"
   ]
  },
  {
   "cell_type": "code",
   "execution_count": 30,
   "metadata": {},
   "outputs": [
    {
     "name": "stdout",
     "output_type": "stream",
     "text": [
      "+----------------------------------+-----+\n",
      "|transmission                      |count|\n",
      "+----------------------------------+-----+\n",
      "|automatic                         |48551|\n",
      "|8-speed automatic                 |23248|\n",
      "|6-speed automatic                 |16710|\n",
      "|transmission w/dual shift mode    |15365|\n",
      "|6-speed manual                    |9860 |\n",
      "|7-speed automatic                 |9033 |\n",
      "|10-speed automatic                |8967 |\n",
      "|9-speed automatic                 |5005 |\n",
      "|5-speed automatic                 |2690 |\n",
      "|continuously variable transmission|2261 |\n",
      "|4-speed automatic                 |2112 |\n",
      "|5-speed manual                    |1916 |\n",
      "|1-speed automatic                 |1800 |\n",
      "|7-speed automatic with auto-shift |962  |\n",
      "|manual                            |960  |\n",
      "|8-speed automatic with auto-shift |445  |\n",
      "|7-speed manual                    |404  |\n",
      "|unknown                           |199  |\n",
      "|transmission overdrive switch     |128  |\n",
      "|6-speed automatic with auto-shift |91   |\n",
      "+----------------------------------+-----+\n",
      "only showing top 20 rows\n",
      "\n"
     ]
    }
   ],
   "source": [
    "df.groupBy(\"transmission\").agg(F.count(\"*\").alias(\"count\")).orderBy(\"count\", ascending=False).show(truncate=False)"
   ]
  },
  {
   "cell_type": "code",
   "execution_count": 31,
   "metadata": {},
   "outputs": [
    {
     "name": "stdout",
     "output_type": "stream",
     "text": [
      "+--------------------+-----+\n",
      "|        transmission|count|\n",
      "+--------------------+-----+\n",
      "|dual clutch autom...|   14|\n",
      "|6 speed automatic...|   16|\n",
      "|6-speed electroni...|   22|\n",
      "|             7-speed|   23|\n",
      "|      8-speed manual|   23|\n",
      "|             6-speed|   23|\n",
      "|9-speed automatic...|   26|\n",
      "|      6 speed manual|   28|\n",
      "|10-speed automati...|   33|\n",
      "|   2-speed automatic|   76|\n",
      "|single-speed fixe...|   77|\n",
      "|6-speed automatic...|   91|\n",
      "|transmission over...|  128|\n",
      "|             unknown|  199|\n",
      "|      7-speed manual|  404|\n",
      "|8-speed automatic...|  445|\n",
      "|              manual|  960|\n",
      "|7-speed automatic...|  962|\n",
      "|   1-speed automatic| 1800|\n",
      "|      5-speed manual| 1916|\n",
      "+--------------------+-----+\n",
      "only showing top 20 rows\n",
      "\n"
     ]
    }
   ],
   "source": [
    "df.groupBy('transmission').agg(count('transmission').alias('count')).orderBy('count').show()"
   ]
  },
  {
   "cell_type": "code",
   "execution_count": 32,
   "metadata": {},
   "outputs": [
    {
     "name": "stdout",
     "output_type": "stream",
     "text": [
      "+--------------------+\n",
      "|            accident|\n",
      "+--------------------+\n",
      "|At least 1 accide...|\n",
      "|       None reported|\n",
      "|                NULL|\n",
      "+--------------------+\n",
      "\n"
     ]
    }
   ],
   "source": [
    "df.select('accident').distinct().show()"
   ]
  },
  {
   "cell_type": "code",
   "execution_count": 33,
   "metadata": {},
   "outputs": [
    {
     "name": "stdout",
     "output_type": "stream",
     "text": [
      "Number of null rows in 'accident' column: 1966\n"
     ]
    }
   ],
   "source": [
    "null_count = df.filter(col(\"accident\").isNull()).count()\n",
    "print(f\"Number of null rows in 'accident' column: {null_count}\")"
   ]
  },
  {
   "cell_type": "code",
   "execution_count": 34,
   "metadata": {},
   "outputs": [],
   "source": [
    "# df = df.fillna({\"accident\": \"unknown_accident\"})\n",
    "# null_count = df.filter(col(\"accident\").isNull()).count()\n",
    "# print(f\"Number of null rows in 'accident' column: {null_count}\")\n"
   ]
  },
  {
   "cell_type": "code",
   "execution_count": 35,
   "metadata": {},
   "outputs": [
    {
     "name": "stdout",
     "output_type": "stream",
     "text": [
      "+---------------+\n",
      "|       accident|\n",
      "+---------------+\n",
      "|  None reported|\n",
      "|damage reported|\n",
      "|           NULL|\n",
      "+---------------+\n",
      "\n"
     ]
    }
   ],
   "source": [
    "df = df.withColumn(\n",
    "    \"accident\",\n",
    "    when(col(\"accident\") == \"At least 1 accident or damage reported\", \"damage reported\")\n",
    "    .otherwise(col(\"accident\"))\n",
    ")\n",
    "df.select('accident').distinct().show()"
   ]
  },
  {
   "cell_type": "code",
   "execution_count": 56,
   "metadata": {},
   "outputs": [
    {
     "name": "stdout",
     "output_type": "stream",
     "text": [
      "+---------------+\n",
      "|       accident|\n",
      "+---------------+\n",
      "|  None reported|\n",
      "|damage reported|\n",
      "|           NULL|\n",
      "+---------------+\n",
      "\n"
     ]
    }
   ],
   "source": [
    "test_df = test_df.withColumn(\n",
    "    \"accident\",\n",
    "    when(col(\"accident\") == \"At least 1 accident or damage reported\", \"damage reported\")\n",
    "    .otherwise(col(\"accident\"))\n",
    ")\n",
    "test_df.select('accident').distinct().show()"
   ]
  },
  {
   "cell_type": "code",
   "execution_count": 36,
   "metadata": {},
   "outputs": [
    {
     "name": "stdout",
     "output_type": "stream",
     "text": [
      "Number of null rows in 'fuel_type' column: 4127\n"
     ]
    }
   ],
   "source": [
    "null_count = df.filter(col(\"fuel_type\").isNull()).count()\n",
    "print(f\"Number of null rows in 'fuel_type' column: {null_count}\")"
   ]
  },
  {
   "cell_type": "code",
   "execution_count": 37,
   "metadata": {},
   "outputs": [],
   "source": [
    "# df = df.fillna({\"fuel_type\": \"unknown_fuel\"})\n",
    "# null_count = df.filter(col(\"fuel_type\").isNull()).count()\n",
    "# print(f\"Number of null rows in 'fuel_type' column: {null_count}\")\n"
   ]
  },
  {
   "cell_type": "code",
   "execution_count": 38,
   "metadata": {},
   "outputs": [
    {
     "data": {
      "image/png": "[encoded data removed]",
      "text/plain": [
       "<Figure size 1500x600 with 1 Axes>"
      ]
     },
     "metadata": {},
     "output_type": "display_data"
    }
   ],
   "source": [
    "avg_price_df = df.groupBy('fuel_type').agg(F.mean('price').alias('avg_price'))\n",
    "avg_price_pdf = avg_price_df.toPandas()\n",
    "\n",
    "plt.figure(figsize=(15, 6)) \n",
    "sns.barplot(x='fuel_type', y='avg_price', data=avg_price_pdf)\n",
    "\n",
    "plt.xlabel('fuel Type')\n",
    "plt.ylabel('average  Price')\n",
    "plt.title('average Price by fuel Type')\n",
    "plt.xticks(rotation=45, ha='right')  \n",
    "\n",
    "plt.show()"
   ]
  },
  {
   "cell_type": "code",
   "execution_count": 39,
   "metadata": {},
   "outputs": [
    {
     "name": "stdout",
     "output_type": "stream",
     "text": [
      "+--------------+\n",
      "|     fuel_type|\n",
      "+--------------+\n",
      "|      Gasoline|\n",
      "| E85 Flex Fuel|\n",
      "|        Diesel|\n",
      "|             –|\n",
      "|        Hybrid|\n",
      "|Plug-In Hybrid|\n",
      "| not supported|\n",
      "|          NULL|\n",
      "+--------------+\n",
      "\n"
     ]
    }
   ],
   "source": [
    "df.select('fuel_type').distinct().show()"
   ]
  },
  {
   "cell_type": "code",
   "execution_count": 40,
   "metadata": {},
   "outputs": [
    {
     "name": "stdout",
     "output_type": "stream",
     "text": [
      "+-----------------+\n",
      "|        fuel_type|\n",
      "+-----------------+\n",
      "|         Gasoline|\n",
      "|    E85 Flex Fuel|\n",
      "|           Diesel|\n",
      "|           Hybrid|\n",
      "|   Plug-In Hybrid|\n",
      "|unknown-name-fuel|\n",
      "|    not supported|\n",
      "|             NULL|\n",
      "+-----------------+\n",
      "\n"
     ]
    }
   ],
   "source": [
    "df = df.withColumn(\n",
    "    \"fuel_type\",\n",
    "    when(col(\"fuel_type\") == \"–\", \"unknown-name-fuel\")\n",
    "    .otherwise(col(\"fuel_type\"))\n",
    ")\n",
    "df.select('fuel_type').distinct().show()"
   ]
  },
  {
   "cell_type": "code",
   "execution_count": 57,
   "metadata": {},
   "outputs": [
    {
     "name": "stdout",
     "output_type": "stream",
     "text": [
      "+-----------------+\n",
      "|        fuel_type|\n",
      "+-----------------+\n",
      "|         Gasoline|\n",
      "|    E85 Flex Fuel|\n",
      "|           Diesel|\n",
      "|           Hybrid|\n",
      "|   Plug-In Hybrid|\n",
      "|unknown-name-fuel|\n",
      "|    not supported|\n",
      "|             NULL|\n",
      "+-----------------+\n",
      "\n"
     ]
    }
   ],
   "source": [
    "test_df = test_df.withColumn(\n",
    "    \"fuel_type\",\n",
    "    when(col(\"fuel_type\") == \"–\", \"unknown-name-fuel\")\n",
    "    .otherwise(col(\"fuel_type\"))\n",
    ")\n",
    "test_df.select('fuel_type').distinct().show()"
   ]
  },
  {
   "cell_type": "code",
   "execution_count": 41,
   "metadata": {},
   "outputs": [
    {
     "name": "stdout",
     "output_type": "stream",
     "text": [
      "+-----------+\n",
      "|clean_title|\n",
      "+-----------+\n",
      "|        Yes|\n",
      "|       NULL|\n",
      "+-----------+\n",
      "\n"
     ]
    }
   ],
   "source": [
    "df.select('clean_title').distinct().show()"
   ]
  },
  {
   "cell_type": "code",
   "execution_count": 42,
   "metadata": {},
   "outputs": [
    {
     "data": {
      "text/plain": [
       "17290"
      ]
     },
     "execution_count": 42,
     "metadata": {},
     "output_type": "execute_result"
    }
   ],
   "source": [
    "df.filter(col('clean_title').isNull()).count()"
   ]
  },
  {
   "cell_type": "code",
   "execution_count": 43,
   "metadata": {},
   "outputs": [],
   "source": [
    "# df = df.fillna({\"clean_title\": \"unknown_title\"})\n",
    "# null_count = df.filter(col(\"clean_title\").isNull()).count()\n",
    "# print(f\"Number of null rows in 'clean_title' column: {null_count}\")"
   ]
  },
  {
   "cell_type": "code",
   "execution_count": 44,
   "metadata": {},
   "outputs": [],
   "source": [
    "def remove_outliers_iqr(df, column):\n",
    "\n",
    "    Q1 = df.approxQuantile(column, [0.25], 0.01)[0]\n",
    "    Q3 = df.approxQuantile(column, [0.75], 0.01)[0]\n",
    "    IQR = Q3 - Q1\n",
    "\n",
    "    lower_bound = Q1 - 1.5 * IQR\n",
    "    upper_bound = Q3 + 1.5 * IQR\n",
    "\n",
    "\n",
    "    df_out = df.filter((F.col(column) >= lower_bound) & (F.col(column) <= upper_bound))\n",
    "    return df_out\n",
    "\n",
    "df_train_no_outliers = remove_outliers_iqr(df, 'milage')\n",
    "df_train_no_outliers = remove_outliers_iqr(df_train_no_outliers, 'price')"
   ]
  },
  {
   "cell_type": "code",
   "execution_count": 45,
   "metadata": {},
   "outputs": [
    {
     "name": "stderr",
     "output_type": "stream",
     "text": [
      "                                                                                \r"
     ]
    },
    {
     "data": {
      "image/png": "[encoded data removed]",
      "text/plain": [
       "<Figure size 1000x600 with 1 Axes>"
      ]
     },
     "metadata": {},
     "output_type": "display_data"
    }
   ],
   "source": [
    "pandas_df = df_train_no_outliers.toPandas()\n",
    "\n",
    "plt.figure(figsize=(10, 6))\n",
    "sns.boxplot(data=pandas_df[['milage', 'price']])\n",
    "plt.title('Box Plot of Mileage and Price')\n",
    "plt.xlabel('Features')\n",
    "plt.ylabel('Values')\n",
    "\n",
    "plt.show()"
   ]
  },
  {
   "cell_type": "code",
   "execution_count": 46,
   "metadata": {},
   "outputs": [
    {
     "name": "stdout",
     "output_type": "stream",
     "text": [
      "+--------------------+--------------------+---+-------------+----------+------+-------------+--------------------+--------------------+-------+---------------+-----------+-----+\n",
      "|               model|              engine| id|        brand|model_year|milage|    fuel_type|        transmission|             ext_col|int_col|       accident|clean_title|price|\n",
      "+--------------------+--------------------+---+-------------+----------+------+-------------+--------------------+--------------------+-------+---------------+-----------+-----+\n",
      "|               LS V8|2520HP 39L 8 Cyli...|  1|      Lincoln|      2002|143250|     Gasoline|           automatic|              Silver|  Beige|damage reported|        Yes| 4999|\n",
      "|    G90 5.0 Ultimate|4200HP 50L 8 Cyli...|  3|      Genesis|      2017| 19500|     Gasoline|transmission w/du...|               Black|  Black|  None reported|        Yes|45000|\n",
      "|         Metris Base|2080HP 20L 4 Cyli...|  4|Mercedes-Benz|      2021|  7388|     Gasoline|   7-speed automatic|               Black|  Beige|  None reported|        Yes|97500|\n",
      "|       A6 2.0T Sport|2520HP 20L 4 Cyli...|  5|         Audi|      2018| 40950|     Gasoline|           automatic|               White|      –|  None reported|        Yes|29950|\n",
      "|  Silverado 1500 1LZ|3550HP 53L 8 Cyli...|  7|    Chevrolet|      2016|102604|E85 Flex Fuel|           automatic|               White|   Gray|  None reported|        Yes|12500|\n",
      "|             M4 Base|4250HP 30L Straig...|  9|          BMW|      2015| 74850|     Gasoline|transmission w/du...|               Black|   Blue|  None reported|        Yes| 4000|\n",
      "|       Model S P100D|Electric Motor El...| 11|        Tesla|      2015| 81500|         NULL|   1-speed automatic|                Gray|  White|  None reported|        Yes|19000|\n",
      "|Escalade ESV Plat...|4200HP 62L 8 Cyli...| 12|     Cadillac|      2017| 93971|     Gasoline|   6-speed automatic|               White|  Black|  None reported|        Yes|51500|\n",
      "|Rover Range Rover...|5230HP 44L 8 Cyli...| 14|         Land|      2023| 20000|     Gasoline|           automatic|               Black|  Black|  None reported|        Yes|56900|\n",
      "|          AMG C 63 S|5030HP 40L 8 Cyli...| 15|Mercedes-Benz|      2017| 41500|     Gasoline|   7-speed automatic|               White|  Black|  None reported|        Yes|44900|\n",
      "|        Yukon Denali|4200HP 62L 8 Cyli...| 16|          GMC|      2021| 15000|     Gasoline|  10-speed automatic|               Green|  Beige|  None reported|        Yes|68500|\n",
      "|   Rover Defender SE|3950HP 30L Straig...| 17|         Land|      2021| 46100|       Hybrid|   8-speed automatic|                Gray|  Black|  None reported|        Yes|55000|\n",
      "|          Tundra SR5|3100HP 46L 8 Cyli...| 18|       Toyota|      2011|153250|     Gasoline|   7-speed automatic|                Gray|   Gray|damage reported|        Yes| 9999|\n",
      "|    Rover Defender S|52L V10 40V PDI DOHC| 20|         Land|      2023|  7978|     Gasoline|   8-speed automatic|Santorini Black M...|  Black|  None reported|       NULL|41998|\n",
      "|     Equus Signature|4290HP 50L 8 Cyli...| 21|      Hyundai|      2016| 87092|     Gasoline|   8-speed automatic|               Black|  Black|  None reported|        Yes|16500|\n",
      "|     Mustang Premium|2100HP 37L V6 Cyl...| 22|         Ford|      2012|154247|     Gasoline|   6-speed automatic|                Gray|  Black|damage reported|        Yes| 9900|\n",
      "|    XC70 T6 Platinum|3160HP 20L 4 Cyli...| 24|        Volvo|      2014|100680|     Gasoline|   6-speed automatic|               Black|  Beige|damage reported|        Yes|33687|\n",
      "|     Sequoia Limited|3810HP 57L 8 Cyli...| 25|       Toyota|      2013|183000|     Gasoline|   6-speed automatic|               Black|   Gray|  None reported|        Yes|29000|\n",
      "|           F-250 XLT|4500HP 67L 8 Cyli...| 26|         Ford|      2014| 67100|       Diesel|   6-speed automatic|               White|  Beige|  None reported|        Yes|25900|\n",
      "|    G90 5.0 Ultimate|4200HP 50L 8 Cyli...| 27|      Genesis|      2017| 39000|     Gasoline|   8-speed automatic|              Purple|  Black|  None reported|        Yes|38000|\n",
      "+--------------------+--------------------+---+-------------+----------+------+-------------+--------------------+--------------------+-------+---------------+-----------+-----+\n",
      "only showing top 20 rows\n",
      "\n"
     ]
    }
   ],
   "source": [
    "df_train_no_outliers.show()"
   ]
  },
  {
   "cell_type": "code",
   "execution_count": 47,
   "metadata": {},
   "outputs": [],
   "source": [
    "output_path = \"../data/cleaned_train\"\n",
    "df_train_no_outliers.write.csv(output_path, header=True, mode='overwrite')\n"
   ]
  },
  {
   "cell_type": "code",
   "execution_count": 58,
   "metadata": {},
   "outputs": [],
   "source": [
    "output_path = \"../data/cleaned_test\"\n",
    "test_df.write.csv(output_path, header=True, mode='overwrite')\n"
   ]
  },
  {
   "cell_type": "code",
   "execution_count": null,
   "metadata": {},
   "outputs": [],
   "source": []
  }
 ],
 "metadata": {
  "kernelspec": {
   "display_name": "Python 3",
   "language": "python",
   "name": "python3"
  },
  "language_info": {
   "codemirror_mode": {
    "name": "ipython",
    "version": 3
   },
   "file_extension": ".py",
   "mimetype": "text/x-python",
   "name": "python",
   "nbconvert_exporter": "python",
   "pygments_lexer": "ipython3",
   "version": "3.10.0"
  }
 },
 "nbformat": 4,
 "nbformat_minor": 2
}
